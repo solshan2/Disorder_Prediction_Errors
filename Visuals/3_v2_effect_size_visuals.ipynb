{
 "cells": [
  {
   "cell_type": "markdown",
   "metadata": {},
   "source": [
    "# Feature Importance Permutation Testing Visualization and Analysis"
   ]
  },
  {
   "cell_type": "markdown",
   "metadata": {},
   "source": [
    "\n",
    "## Imports"
   ]
  },
  {
   "cell_type": "code",
   "execution_count": 22,
   "metadata": {},
   "outputs": [],
   "source": [
    "import plotly.express as px\n",
    "import plotly.graph_objects as go\n",
    "from plotly.subplots import make_subplots\n",
    "from IPython.display import Image\n",
    "import os\n",
    "import numpy as np\n",
    "import pandas as pd\n",
    "import datetime as dt"
   ]
  },
  {
   "cell_type": "markdown",
   "metadata": {},
   "source": [
    "## Read in Data"
   ]
  },
  {
   "cell_type": "code",
   "execution_count": 23,
   "metadata": {},
   "outputs": [
    {
     "data": {
      "text/html": "<div>\n<style scoped>\n    .dataframe tbody tr th:only-of-type {\n        vertical-align: middle;\n    }\n\n    .dataframe tbody tr th {\n        vertical-align: top;\n    }\n\n    .dataframe thead th {\n        text-align: right;\n    }\n</style>\n<table border=\"1\" class=\"dataframe\">\n  <thead>\n    <tr style=\"text-align: right;\">\n      <th></th>\n      <th>Network Subset</th>\n      <th>Mean</th>\n      <th>SD</th>\n      <th>r-Mean</th>\n      <th>r_SD</th>\n      <th>statistic</th>\n      <th>statistic_modified</th>\n      <th>parameter</th>\n      <th>p.value</th>\n      <th>conf.int</th>\n      <th>...</th>\n      <th>True</th>\n      <th>Pred</th>\n      <th>n_perm</th>\n      <th>NetworkSubset</th>\n      <th>Cohens_d</th>\n      <th>CI</th>\n      <th>CI_low</th>\n      <th>CI_high</th>\n      <th>p_past_threshold</th>\n      <th>0.000793651</th>\n    </tr>\n  </thead>\n  <tbody>\n    <tr>\n      <th>0</th>\n      <td>Limbic</td>\n      <td>0.296588</td>\n      <td>0.094980</td>\n      <td>0.293388</td>\n      <td>0.100556</td>\n      <td>0.981726</td>\n      <td>0.981726</td>\n      <td>3586.351663</td>\n      <td>3.263009e-01</td>\n      <td>-0.003191</td>\n      <td>...</td>\n      <td>ADHD</td>\n      <td>ADHD</td>\n      <td>2322</td>\n      <td>Limbic</td>\n      <td>0.032724</td>\n      <td>0.95</td>\n      <td>-0.032615</td>\n      <td>0.098058</td>\n      <td>NaN</td>\n      <td>NaN</td>\n    </tr>\n    <tr>\n      <th>1</th>\n      <td>Salience / Ventral Attention</td>\n      <td>0.326472</td>\n      <td>0.106842</td>\n      <td>0.481037</td>\n      <td>0.102706</td>\n      <td>-17.856197</td>\n      <td>17.856197</td>\n      <td>3592.405437</td>\n      <td>0.000000e+00</td>\n      <td>-0.055526</td>\n      <td>...</td>\n      <td>ADHD</td>\n      <td>ADHD</td>\n      <td>4147</td>\n      <td>Salience / Ventral Attention</td>\n      <td>0.595207</td>\n      <td>0.95</td>\n      <td>0.528403</td>\n      <td>0.661931</td>\n      <td>*</td>\n      <td>NaN</td>\n    </tr>\n    <tr>\n      <th>2</th>\n      <td>Dorsal Attention</td>\n      <td>0.332427</td>\n      <td>0.100506</td>\n      <td>0.252414</td>\n      <td>0.101849</td>\n      <td>23.723844</td>\n      <td>23.723844</td>\n      <td>3597.366750</td>\n      <td>0.000000e+00</td>\n      <td>0.073400</td>\n      <td>...</td>\n      <td>ADHD</td>\n      <td>ADHD</td>\n      <td>4849</td>\n      <td>Dorsal Attention</td>\n      <td>0.790795</td>\n      <td>0.95</td>\n      <td>0.722905</td>\n      <td>0.858582</td>\n      <td>*</td>\n      <td>NaN</td>\n    </tr>\n    <tr>\n      <th>3</th>\n      <td>Visual</td>\n      <td>0.343144</td>\n      <td>0.108891</td>\n      <td>0.489089</td>\n      <td>0.100721</td>\n      <td>-28.116612</td>\n      <td>28.116612</td>\n      <td>3576.333934</td>\n      <td>0.000000e+00</td>\n      <td>-0.091446</td>\n      <td>...</td>\n      <td>ADHD</td>\n      <td>ADHD</td>\n      <td>5365</td>\n      <td>Visual</td>\n      <td>0.937220</td>\n      <td>0.95</td>\n      <td>0.868334</td>\n      <td>1.005988</td>\n      <td>*</td>\n      <td>NaN</td>\n    </tr>\n    <tr>\n      <th>4</th>\n      <td>Control</td>\n      <td>0.317377</td>\n      <td>0.101807</td>\n      <td>0.242325</td>\n      <td>0.100518</td>\n      <td>22.256300</td>\n      <td>22.256300</td>\n      <td>3597.416052</td>\n      <td>0.000000e+00</td>\n      <td>0.068440</td>\n      <td>...</td>\n      <td>ADHD</td>\n      <td>ADHD</td>\n      <td>5535</td>\n      <td>Control</td>\n      <td>0.741877</td>\n      <td>0.95</td>\n      <td>0.674285</td>\n      <td>0.809371</td>\n      <td>*</td>\n      <td>NaN</td>\n    </tr>\n    <tr>\n      <th>...</th>\n      <td>...</td>\n      <td>...</td>\n      <td>...</td>\n      <td>...</td>\n      <td>...</td>\n      <td>...</td>\n      <td>...</td>\n      <td>...</td>\n      <td>...</td>\n      <td>...</td>\n      <td>...</td>\n      <td>...</td>\n      <td>...</td>\n      <td>...</td>\n      <td>...</td>\n      <td>...</td>\n      <td>...</td>\n      <td>...</td>\n      <td>...</td>\n      <td>...</td>\n      <td>...</td>\n    </tr>\n    <tr>\n      <th>79</th>\n      <td>Dorsal Attention</td>\n      <td>0.527095</td>\n      <td>0.080322</td>\n      <td>0.521785</td>\n      <td>0.092968</td>\n      <td>1.833833</td>\n      <td>1.833833</td>\n      <td>3523.729333</td>\n      <td>6.676302e-02</td>\n      <td>-0.000367</td>\n      <td>...</td>\n      <td>SCZ</td>\n      <td>SCZ</td>\n      <td>4849</td>\n      <td>Dorsal Attention</td>\n      <td>0.061128</td>\n      <td>0.95</td>\n      <td>-0.004224</td>\n      <td>0.126471</td>\n      <td>NaN</td>\n      <td>NaN</td>\n    </tr>\n    <tr>\n      <th>80</th>\n      <td>Visual</td>\n      <td>0.493637</td>\n      <td>0.079994</td>\n      <td>0.433377</td>\n      <td>0.091952</td>\n      <td>8.446582</td>\n      <td>-8.446582</td>\n      <td>3530.363412</td>\n      <td>4.320000e-17</td>\n      <td>0.029897</td>\n      <td>...</td>\n      <td>SCZ</td>\n      <td>SCZ</td>\n      <td>5365</td>\n      <td>Visual</td>\n      <td>-0.281553</td>\n      <td>0.95</td>\n      <td>-0.347187</td>\n      <td>-0.215878</td>\n      <td>*</td>\n      <td>NaN</td>\n    </tr>\n    <tr>\n      <th>81</th>\n      <td>Control</td>\n      <td>0.528300</td>\n      <td>0.079590</td>\n      <td>0.518297</td>\n      <td>0.092074</td>\n      <td>3.487242</td>\n      <td>3.487242</td>\n      <td>3524.235172</td>\n      <td>4.939930e-04</td>\n      <td>0.004379</td>\n      <td>...</td>\n      <td>SCZ</td>\n      <td>SCZ</td>\n      <td>5535</td>\n      <td>Control</td>\n      <td>0.116241</td>\n      <td>0.95</td>\n      <td>0.050846</td>\n      <td>0.181621</td>\n      <td>*</td>\n      <td>NaN</td>\n    </tr>\n    <tr>\n      <th>82</th>\n      <td>Somatomotor</td>\n      <td>0.540203</td>\n      <td>0.089423</td>\n      <td>0.430975</td>\n      <td>0.090088</td>\n      <td>-8.312252</td>\n      <td>8.312252</td>\n      <td>3597.802636</td>\n      <td>1.320000e-16</td>\n      <td>-0.019003</td>\n      <td>...</td>\n      <td>SCZ</td>\n      <td>SCZ</td>\n      <td>6370</td>\n      <td>Somatomotor</td>\n      <td>0.277075</td>\n      <td>0.95</td>\n      <td>0.211411</td>\n      <td>0.342701</td>\n      <td>*</td>\n      <td>NaN</td>\n    </tr>\n    <tr>\n      <th>90</th>\n      <td>Default</td>\n      <td>0.532198</td>\n      <td>0.085271</td>\n      <td>0.501918</td>\n      <td>0.086295</td>\n      <td>10.589485</td>\n      <td>10.589485</td>\n      <td>3597.486961</td>\n      <td>0.000000e+00</td>\n      <td>0.024674</td>\n      <td>...</td>\n      <td>SCZ</td>\n      <td>SCZ</td>\n      <td>8119</td>\n      <td>Default</td>\n      <td>0.352983</td>\n      <td>0.95</td>\n      <td>0.287119</td>\n      <td>0.418798</td>\n      <td>*</td>\n      <td>NaN</td>\n    </tr>\n  </tbody>\n</table>\n<p>63 rows × 26 columns</p>\n</div>",
      "text/plain": "                  Network Subset      Mean        SD    r-Mean      r_SD  \\\n0                         Limbic  0.296588  0.094980  0.293388  0.100556   \n1   Salience / Ventral Attention  0.326472  0.106842  0.481037  0.102706   \n2               Dorsal Attention  0.332427  0.100506  0.252414  0.101849   \n3                         Visual  0.343144  0.108891  0.489089  0.100721   \n4                        Control  0.317377  0.101807  0.242325  0.100518   \n..                           ...       ...       ...       ...       ...   \n79              Dorsal Attention  0.527095  0.080322  0.521785  0.092968   \n80                        Visual  0.493637  0.079994  0.433377  0.091952   \n81                       Control  0.528300  0.079590  0.518297  0.092074   \n82                   Somatomotor  0.540203  0.089423  0.430975  0.090088   \n90                       Default  0.532198  0.085271  0.501918  0.086295   \n\n    statistic  statistic_modified    parameter       p.value  conf.int  ...  \\\n0    0.981726            0.981726  3586.351663  3.263009e-01 -0.003191  ...   \n1  -17.856197           17.856197  3592.405437  0.000000e+00 -0.055526  ...   \n2   23.723844           23.723844  3597.366750  0.000000e+00  0.073400  ...   \n3  -28.116612           28.116612  3576.333934  0.000000e+00 -0.091446  ...   \n4   22.256300           22.256300  3597.416052  0.000000e+00  0.068440  ...   \n..        ...                 ...          ...           ...       ...  ...   \n79   1.833833            1.833833  3523.729333  6.676302e-02 -0.000367  ...   \n80   8.446582           -8.446582  3530.363412  4.320000e-17  0.029897  ...   \n81   3.487242            3.487242  3524.235172  4.939930e-04  0.004379  ...   \n82  -8.312252            8.312252  3597.802636  1.320000e-16 -0.019003  ...   \n90  10.589485           10.589485  3597.486961  0.000000e+00  0.024674  ...   \n\n    True  Pred  n_perm                 NetworkSubset  Cohens_d    CI  \\\n0   ADHD  ADHD    2322                        Limbic  0.032724  0.95   \n1   ADHD  ADHD    4147  Salience / Ventral Attention  0.595207  0.95   \n2   ADHD  ADHD    4849              Dorsal Attention  0.790795  0.95   \n3   ADHD  ADHD    5365                        Visual  0.937220  0.95   \n4   ADHD  ADHD    5535                       Control  0.741877  0.95   \n..   ...   ...     ...                           ...       ...   ...   \n79   SCZ   SCZ    4849              Dorsal Attention  0.061128  0.95   \n80   SCZ   SCZ    5365                        Visual -0.281553  0.95   \n81   SCZ   SCZ    5535                       Control  0.116241  0.95   \n82   SCZ   SCZ    6370                   Somatomotor  0.277075  0.95   \n90   SCZ   SCZ    8119                       Default  0.352983  0.95   \n\n      CI_low   CI_high  p_past_threshold 0.000793651  \n0  -0.032615  0.098058               NaN         NaN  \n1   0.528403  0.661931                 *         NaN  \n2   0.722905  0.858582                 *         NaN  \n3   0.868334  1.005988                 *         NaN  \n4   0.674285  0.809371                 *         NaN  \n..       ...       ...               ...         ...  \n79 -0.004224  0.126471               NaN         NaN  \n80 -0.347187 -0.215878                 *         NaN  \n81  0.050846  0.181621                 *         NaN  \n82  0.211411  0.342701                 *         NaN  \n90  0.287119  0.418798                 *         NaN  \n\n[63 rows x 26 columns]"
     },
     "execution_count": 23,
     "metadata": {},
     "output_type": "execute_result"
    }
   ],
   "source": [
    "# fi_df = pd.read_csv(\"FeatureImportance_Results_indexed.csv\")\n",
    "fi_df = pd.read_csv(\"C:\\\\Users\\\\kyle\\\\UWM\\\\SRP Paper 01-Group - Documents\\\\OpenScience_Github\\\\Analysis3\\\\network permutation t test results summary_v3.csv\")\n",
    "fi_df = fi_df[~pd.isna(fi_df['Pred'])]\n",
    "fi_df#['Network Subset'].unique()   "
   ]
  },
  {
   "cell_type": "markdown",
   "metadata": {},
   "source": [
    "## SetUp Color Mappings"
   ]
  },
  {
   "cell_type": "code",
   "execution_count": 24,
   "metadata": {},
   "outputs": [
    {
     "data": {
      "text/plain": "['Limbic',\n 'Salience / Ventral Attention',\n 'Dorsal Attention',\n 'Visual',\n 'Control',\n 'Somatomotor',\n 'Default']"
     },
     "execution_count": 24,
     "metadata": {},
     "output_type": "execute_result"
    }
   ],
   "source": [
    "size_index_df = fi_df[[\"Network Subset\",\"n_perm\"]].drop_duplicates(keep=\"first\")\n",
    "size_index_df.reset_index(inplace=True,drop=True)\n",
    "list(size_index_df[\"Network Subset\"])"
   ]
  },
  {
   "cell_type": "code",
   "execution_count": 25,
   "metadata": {},
   "outputs": [
    {
     "data": {
      "text/plain": "['rgb(48, 18, 59)',\n 'rgb(66, 132, 242)',\n 'rgb(33, 226, 181)',\n 'rgb(164, 252, 59)',\n 'rgb(247, 184, 54)',\n 'rgb(226, 70, 11)',\n 'rgb(122, 4, 2)']"
     },
     "execution_count": 25,
     "metadata": {},
     "output_type": "execute_result"
    }
   ],
   "source": [
    "\n",
    "n_colors = len(size_index_df)#len(fi_df['Network Subset'].unique())\n",
    "colors = px.colors.sample_colorscale(\"turbo\", [n/(n_colors -1) for n in range(n_colors)])\n",
    "colors"
   ]
  },
  {
   "cell_type": "code",
   "execution_count": 26,
   "metadata": {},
   "outputs": [
    {
     "name": "stdout",
     "output_type": "stream",
     "text": [
      "{'Limbic': {'Network Subset': 'Limbic', 'Number Permuted': 2322, 'color': 'rgb(48, 18, 59)'}, 'Salience / Ventral Attention': {'Network Subset': 'Salience / Ventral Attention', 'Number Permuted': 4147, 'color': 'rgb(66, 132, 242)'}, 'Dorsal Attention': {'Network Subset': 'Dorsal Attention', 'Number Permuted': 4849, 'color': 'rgb(33, 226, 181)'}, 'Visual': {'Network Subset': 'Visual', 'Number Permuted': 5365, 'color': 'rgb(164, 252, 59)'}, 'Control': {'Network Subset': 'Control', 'Number Permuted': 5535, 'color': 'rgb(247, 184, 54)'}, 'Somatomotor': {'Network Subset': 'Somatomotor', 'Number Permuted': 6370, 'color': 'rgb(226, 70, 11)'}, 'Default': {'Network Subset': 'Default', 'Number Permuted': 8119, 'color': 'rgb(122, 4, 2)'}}\n"
     ]
    },
    {
     "data": {
      "text/html": "<div>\n<style scoped>\n    .dataframe tbody tr th:only-of-type {\n        vertical-align: middle;\n    }\n\n    .dataframe tbody tr th {\n        vertical-align: top;\n    }\n\n    .dataframe thead th {\n        text-align: right;\n    }\n</style>\n<table border=\"1\" class=\"dataframe\">\n  <thead>\n    <tr style=\"text-align: right;\">\n      <th></th>\n      <th>Network Subset</th>\n      <th>Mean</th>\n      <th>SD</th>\n      <th>r-Mean</th>\n      <th>r_SD</th>\n      <th>statistic</th>\n      <th>statistic_modified</th>\n      <th>parameter</th>\n      <th>p.value</th>\n      <th>conf.int</th>\n      <th>...</th>\n      <th>n_perm</th>\n      <th>NetworkSubset</th>\n      <th>Cohens_d</th>\n      <th>CI</th>\n      <th>CI_low</th>\n      <th>CI_high</th>\n      <th>p_past_threshold</th>\n      <th>0.000793651</th>\n      <th>Number Permuted</th>\n      <th>color</th>\n    </tr>\n  </thead>\n  <tbody>\n    <tr>\n      <th>0</th>\n      <td>Limbic</td>\n      <td>0.296588</td>\n      <td>0.094980</td>\n      <td>0.293388</td>\n      <td>0.100556</td>\n      <td>0.981726</td>\n      <td>0.981726</td>\n      <td>3586.351663</td>\n      <td>3.263009e-01</td>\n      <td>-0.003191</td>\n      <td>...</td>\n      <td>2322</td>\n      <td>Limbic</td>\n      <td>0.032724</td>\n      <td>0.95</td>\n      <td>-0.032615</td>\n      <td>0.098058</td>\n      <td>NaN</td>\n      <td>NaN</td>\n      <td>2322</td>\n      <td>rgb(48, 18, 59)</td>\n    </tr>\n    <tr>\n      <th>1</th>\n      <td>Salience / Ventral Attention</td>\n      <td>0.326472</td>\n      <td>0.106842</td>\n      <td>0.481037</td>\n      <td>0.102706</td>\n      <td>-17.856197</td>\n      <td>17.856197</td>\n      <td>3592.405437</td>\n      <td>0.000000e+00</td>\n      <td>-0.055526</td>\n      <td>...</td>\n      <td>4147</td>\n      <td>Salience / Ventral Attention</td>\n      <td>0.595207</td>\n      <td>0.95</td>\n      <td>0.528403</td>\n      <td>0.661931</td>\n      <td>*</td>\n      <td>NaN</td>\n      <td>4147</td>\n      <td>rgb(66, 132, 242)</td>\n    </tr>\n    <tr>\n      <th>2</th>\n      <td>Dorsal Attention</td>\n      <td>0.332427</td>\n      <td>0.100506</td>\n      <td>0.252414</td>\n      <td>0.101849</td>\n      <td>23.723844</td>\n      <td>23.723844</td>\n      <td>3597.366750</td>\n      <td>0.000000e+00</td>\n      <td>0.073400</td>\n      <td>...</td>\n      <td>4849</td>\n      <td>Dorsal Attention</td>\n      <td>0.790795</td>\n      <td>0.95</td>\n      <td>0.722905</td>\n      <td>0.858582</td>\n      <td>*</td>\n      <td>NaN</td>\n      <td>4849</td>\n      <td>rgb(33, 226, 181)</td>\n    </tr>\n    <tr>\n      <th>3</th>\n      <td>Visual</td>\n      <td>0.343144</td>\n      <td>0.108891</td>\n      <td>0.489089</td>\n      <td>0.100721</td>\n      <td>-28.116612</td>\n      <td>28.116612</td>\n      <td>3576.333934</td>\n      <td>0.000000e+00</td>\n      <td>-0.091446</td>\n      <td>...</td>\n      <td>5365</td>\n      <td>Visual</td>\n      <td>0.937220</td>\n      <td>0.95</td>\n      <td>0.868334</td>\n      <td>1.005988</td>\n      <td>*</td>\n      <td>NaN</td>\n      <td>5365</td>\n      <td>rgb(164, 252, 59)</td>\n    </tr>\n    <tr>\n      <th>4</th>\n      <td>Control</td>\n      <td>0.317377</td>\n      <td>0.101807</td>\n      <td>0.242325</td>\n      <td>0.100518</td>\n      <td>22.256300</td>\n      <td>22.256300</td>\n      <td>3597.416052</td>\n      <td>0.000000e+00</td>\n      <td>0.068440</td>\n      <td>...</td>\n      <td>5535</td>\n      <td>Control</td>\n      <td>0.741877</td>\n      <td>0.95</td>\n      <td>0.674285</td>\n      <td>0.809371</td>\n      <td>*</td>\n      <td>NaN</td>\n      <td>5535</td>\n      <td>rgb(247, 184, 54)</td>\n    </tr>\n    <tr>\n      <th>...</th>\n      <td>...</td>\n      <td>...</td>\n      <td>...</td>\n      <td>...</td>\n      <td>...</td>\n      <td>...</td>\n      <td>...</td>\n      <td>...</td>\n      <td>...</td>\n      <td>...</td>\n      <td>...</td>\n      <td>...</td>\n      <td>...</td>\n      <td>...</td>\n      <td>...</td>\n      <td>...</td>\n      <td>...</td>\n      <td>...</td>\n      <td>...</td>\n      <td>...</td>\n      <td>...</td>\n    </tr>\n    <tr>\n      <th>58</th>\n      <td>Dorsal Attention</td>\n      <td>0.527095</td>\n      <td>0.080322</td>\n      <td>0.521785</td>\n      <td>0.092968</td>\n      <td>1.833833</td>\n      <td>1.833833</td>\n      <td>3523.729333</td>\n      <td>6.676302e-02</td>\n      <td>-0.000367</td>\n      <td>...</td>\n      <td>4849</td>\n      <td>Dorsal Attention</td>\n      <td>0.061128</td>\n      <td>0.95</td>\n      <td>-0.004224</td>\n      <td>0.126471</td>\n      <td>NaN</td>\n      <td>NaN</td>\n      <td>4849</td>\n      <td>rgb(33, 226, 181)</td>\n    </tr>\n    <tr>\n      <th>59</th>\n      <td>Visual</td>\n      <td>0.493637</td>\n      <td>0.079994</td>\n      <td>0.433377</td>\n      <td>0.091952</td>\n      <td>8.446582</td>\n      <td>-8.446582</td>\n      <td>3530.363412</td>\n      <td>4.320000e-17</td>\n      <td>0.029897</td>\n      <td>...</td>\n      <td>5365</td>\n      <td>Visual</td>\n      <td>-0.281553</td>\n      <td>0.95</td>\n      <td>-0.347187</td>\n      <td>-0.215878</td>\n      <td>*</td>\n      <td>NaN</td>\n      <td>5365</td>\n      <td>rgb(164, 252, 59)</td>\n    </tr>\n    <tr>\n      <th>60</th>\n      <td>Control</td>\n      <td>0.528300</td>\n      <td>0.079590</td>\n      <td>0.518297</td>\n      <td>0.092074</td>\n      <td>3.487242</td>\n      <td>3.487242</td>\n      <td>3524.235172</td>\n      <td>4.939930e-04</td>\n      <td>0.004379</td>\n      <td>...</td>\n      <td>5535</td>\n      <td>Control</td>\n      <td>0.116241</td>\n      <td>0.95</td>\n      <td>0.050846</td>\n      <td>0.181621</td>\n      <td>*</td>\n      <td>NaN</td>\n      <td>5535</td>\n      <td>rgb(247, 184, 54)</td>\n    </tr>\n    <tr>\n      <th>61</th>\n      <td>Somatomotor</td>\n      <td>0.540203</td>\n      <td>0.089423</td>\n      <td>0.430975</td>\n      <td>0.090088</td>\n      <td>-8.312252</td>\n      <td>8.312252</td>\n      <td>3597.802636</td>\n      <td>1.320000e-16</td>\n      <td>-0.019003</td>\n      <td>...</td>\n      <td>6370</td>\n      <td>Somatomotor</td>\n      <td>0.277075</td>\n      <td>0.95</td>\n      <td>0.211411</td>\n      <td>0.342701</td>\n      <td>*</td>\n      <td>NaN</td>\n      <td>6370</td>\n      <td>rgb(226, 70, 11)</td>\n    </tr>\n    <tr>\n      <th>62</th>\n      <td>Default</td>\n      <td>0.532198</td>\n      <td>0.085271</td>\n      <td>0.501918</td>\n      <td>0.086295</td>\n      <td>10.589485</td>\n      <td>10.589485</td>\n      <td>3597.486961</td>\n      <td>0.000000e+00</td>\n      <td>0.024674</td>\n      <td>...</td>\n      <td>8119</td>\n      <td>Default</td>\n      <td>0.352983</td>\n      <td>0.95</td>\n      <td>0.287119</td>\n      <td>0.418798</td>\n      <td>*</td>\n      <td>NaN</td>\n      <td>8119</td>\n      <td>rgb(122, 4, 2)</td>\n    </tr>\n  </tbody>\n</table>\n<p>63 rows × 28 columns</p>\n</div>",
      "text/plain": "                  Network Subset      Mean        SD    r-Mean      r_SD  \\\n0                         Limbic  0.296588  0.094980  0.293388  0.100556   \n1   Salience / Ventral Attention  0.326472  0.106842  0.481037  0.102706   \n2               Dorsal Attention  0.332427  0.100506  0.252414  0.101849   \n3                         Visual  0.343144  0.108891  0.489089  0.100721   \n4                        Control  0.317377  0.101807  0.242325  0.100518   \n..                           ...       ...       ...       ...       ...   \n58              Dorsal Attention  0.527095  0.080322  0.521785  0.092968   \n59                        Visual  0.493637  0.079994  0.433377  0.091952   \n60                       Control  0.528300  0.079590  0.518297  0.092074   \n61                   Somatomotor  0.540203  0.089423  0.430975  0.090088   \n62                       Default  0.532198  0.085271  0.501918  0.086295   \n\n    statistic  statistic_modified    parameter       p.value  conf.int  ...  \\\n0    0.981726            0.981726  3586.351663  3.263009e-01 -0.003191  ...   \n1  -17.856197           17.856197  3592.405437  0.000000e+00 -0.055526  ...   \n2   23.723844           23.723844  3597.366750  0.000000e+00  0.073400  ...   \n3  -28.116612           28.116612  3576.333934  0.000000e+00 -0.091446  ...   \n4   22.256300           22.256300  3597.416052  0.000000e+00  0.068440  ...   \n..        ...                 ...          ...           ...       ...  ...   \n58   1.833833            1.833833  3523.729333  6.676302e-02 -0.000367  ...   \n59   8.446582           -8.446582  3530.363412  4.320000e-17  0.029897  ...   \n60   3.487242            3.487242  3524.235172  4.939930e-04  0.004379  ...   \n61  -8.312252            8.312252  3597.802636  1.320000e-16 -0.019003  ...   \n62  10.589485           10.589485  3597.486961  0.000000e+00  0.024674  ...   \n\n    n_perm                 NetworkSubset  Cohens_d    CI    CI_low   CI_high  \\\n0     2322                        Limbic  0.032724  0.95 -0.032615  0.098058   \n1     4147  Salience / Ventral Attention  0.595207  0.95  0.528403  0.661931   \n2     4849              Dorsal Attention  0.790795  0.95  0.722905  0.858582   \n3     5365                        Visual  0.937220  0.95  0.868334  1.005988   \n4     5535                       Control  0.741877  0.95  0.674285  0.809371   \n..     ...                           ...       ...   ...       ...       ...   \n58    4849              Dorsal Attention  0.061128  0.95 -0.004224  0.126471   \n59    5365                        Visual -0.281553  0.95 -0.347187 -0.215878   \n60    5535                       Control  0.116241  0.95  0.050846  0.181621   \n61    6370                   Somatomotor  0.277075  0.95  0.211411  0.342701   \n62    8119                       Default  0.352983  0.95  0.287119  0.418798   \n\n   p_past_threshold 0.000793651  Number Permuted              color  \n0               NaN         NaN             2322    rgb(48, 18, 59)  \n1                 *         NaN             4147  rgb(66, 132, 242)  \n2                 *         NaN             4849  rgb(33, 226, 181)  \n3                 *         NaN             5365  rgb(164, 252, 59)  \n4                 *         NaN             5535  rgb(247, 184, 54)  \n..              ...         ...              ...                ...  \n58              NaN         NaN             4849  rgb(33, 226, 181)  \n59                *         NaN             5365  rgb(164, 252, 59)  \n60                *         NaN             5535  rgb(247, 184, 54)  \n61                *         NaN             6370   rgb(226, 70, 11)  \n62                *         NaN             8119     rgb(122, 4, 2)  \n\n[63 rows x 28 columns]"
     },
     "execution_count": 26,
     "metadata": {},
     "output_type": "execute_result"
    }
   ],
   "source": [
    "\n",
    "\n",
    "target_dict = {}\n",
    "color_ind = 1\n",
    "color_scale = {}\n",
    "for index, row in size_index_df.iterrows():\n",
    "  # print(color_ind)\n",
    "  target_dict[row['Network Subset']] = {\n",
    "    'Network Subset':row['Network Subset'],\n",
    "    'Number Permuted':row['n_perm'],\n",
    "    'color':colors[color_ind-1]\n",
    "  }\n",
    "  color_ind+=1\n",
    "\n",
    "print(target_dict)\n",
    "color_df = pd.DataFrame.from_dict(target_dict, orient='index')\n",
    "fi_df = pd.merge(fi_df, color_df, how='left',on='Network Subset')\n",
    "fi_df"
   ]
  },
  {
   "cell_type": "code",
   "execution_count": 27,
   "metadata": {},
   "outputs": [
    {
     "data": {
      "application/vnd.plotly.v1+json": {
       "config": {
        "plotlyServerURL": "https://plot.ly"
       },
       "data": [
        {
         "marker": {
          "color": "rgb(48, 18, 59)"
         },
         "name": "rgb(48, 18, 59)",
         "showlegend": false,
         "type": "bar",
         "x": [
          0
         ],
         "y": [
          15
         ]
        },
        {
         "marker": {
          "color": "rgb(66, 132, 242)"
         },
         "name": "rgb(66, 132, 242)",
         "showlegend": false,
         "type": "bar",
         "x": [
          1
         ],
         "y": [
          15
         ]
        },
        {
         "marker": {
          "color": "rgb(33, 226, 181)"
         },
         "name": "rgb(33, 226, 181)",
         "showlegend": false,
         "type": "bar",
         "x": [
          2
         ],
         "y": [
          15
         ]
        },
        {
         "marker": {
          "color": "rgb(164, 252, 59)"
         },
         "name": "rgb(164, 252, 59)",
         "showlegend": false,
         "type": "bar",
         "x": [
          3
         ],
         "y": [
          15
         ]
        },
        {
         "marker": {
          "color": "rgb(247, 184, 54)"
         },
         "name": "rgb(247, 184, 54)",
         "showlegend": false,
         "type": "bar",
         "x": [
          4
         ],
         "y": [
          15
         ]
        },
        {
         "marker": {
          "color": "rgb(226, 70, 11)"
         },
         "name": "rgb(226, 70, 11)",
         "showlegend": false,
         "type": "bar",
         "x": [
          5
         ],
         "y": [
          15
         ]
        },
        {
         "marker": {
          "color": "rgb(122, 4, 2)"
         },
         "name": "rgb(122, 4, 2)",
         "showlegend": false,
         "type": "bar",
         "x": [
          6
         ],
         "y": [
          15
         ]
        }
       ],
       "layout": {
        "template": {
         "data": {
          "bar": [
           {
            "error_x": {
             "color": "#2a3f5f"
            },
            "error_y": {
             "color": "#2a3f5f"
            },
            "marker": {
             "line": {
              "color": "#E5ECF6",
              "width": 0.5
             },
             "pattern": {
              "fillmode": "overlay",
              "size": 10,
              "solidity": 0.2
             }
            },
            "type": "bar"
           }
          ],
          "barpolar": [
           {
            "marker": {
             "line": {
              "color": "#E5ECF6",
              "width": 0.5
             },
             "pattern": {
              "fillmode": "overlay",
              "size": 10,
              "solidity": 0.2
             }
            },
            "type": "barpolar"
           }
          ],
          "carpet": [
           {
            "aaxis": {
             "endlinecolor": "#2a3f5f",
             "gridcolor": "white",
             "linecolor": "white",
             "minorgridcolor": "white",
             "startlinecolor": "#2a3f5f"
            },
            "baxis": {
             "endlinecolor": "#2a3f5f",
             "gridcolor": "white",
             "linecolor": "white",
             "minorgridcolor": "white",
             "startlinecolor": "#2a3f5f"
            },
            "type": "carpet"
           }
          ],
          "choropleth": [
           {
            "colorbar": {
             "outlinewidth": 0,
             "ticks": ""
            },
            "type": "choropleth"
           }
          ],
          "contour": [
           {
            "colorbar": {
             "outlinewidth": 0,
             "ticks": ""
            },
            "colorscale": [
             [
              0,
              "#0d0887"
             ],
             [
              0.1111111111111111,
              "#46039f"
             ],
             [
              0.2222222222222222,
              "#7201a8"
             ],
             [
              0.3333333333333333,
              "#9c179e"
             ],
             [
              0.4444444444444444,
              "#bd3786"
             ],
             [
              0.5555555555555556,
              "#d8576b"
             ],
             [
              0.6666666666666666,
              "#ed7953"
             ],
             [
              0.7777777777777778,
              "#fb9f3a"
             ],
             [
              0.8888888888888888,
              "#fdca26"
             ],
             [
              1,
              "#f0f921"
             ]
            ],
            "type": "contour"
           }
          ],
          "contourcarpet": [
           {
            "colorbar": {
             "outlinewidth": 0,
             "ticks": ""
            },
            "type": "contourcarpet"
           }
          ],
          "heatmap": [
           {
            "colorbar": {
             "outlinewidth": 0,
             "ticks": ""
            },
            "colorscale": [
             [
              0,
              "#0d0887"
             ],
             [
              0.1111111111111111,
              "#46039f"
             ],
             [
              0.2222222222222222,
              "#7201a8"
             ],
             [
              0.3333333333333333,
              "#9c179e"
             ],
             [
              0.4444444444444444,
              "#bd3786"
             ],
             [
              0.5555555555555556,
              "#d8576b"
             ],
             [
              0.6666666666666666,
              "#ed7953"
             ],
             [
              0.7777777777777778,
              "#fb9f3a"
             ],
             [
              0.8888888888888888,
              "#fdca26"
             ],
             [
              1,
              "#f0f921"
             ]
            ],
            "type": "heatmap"
           }
          ],
          "heatmapgl": [
           {
            "colorbar": {
             "outlinewidth": 0,
             "ticks": ""
            },
            "colorscale": [
             [
              0,
              "#0d0887"
             ],
             [
              0.1111111111111111,
              "#46039f"
             ],
             [
              0.2222222222222222,
              "#7201a8"
             ],
             [
              0.3333333333333333,
              "#9c179e"
             ],
             [
              0.4444444444444444,
              "#bd3786"
             ],
             [
              0.5555555555555556,
              "#d8576b"
             ],
             [
              0.6666666666666666,
              "#ed7953"
             ],
             [
              0.7777777777777778,
              "#fb9f3a"
             ],
             [
              0.8888888888888888,
              "#fdca26"
             ],
             [
              1,
              "#f0f921"
             ]
            ],
            "type": "heatmapgl"
           }
          ],
          "histogram": [
           {
            "marker": {
             "pattern": {
              "fillmode": "overlay",
              "size": 10,
              "solidity": 0.2
             }
            },
            "type": "histogram"
           }
          ],
          "histogram2d": [
           {
            "colorbar": {
             "outlinewidth": 0,
             "ticks": ""
            },
            "colorscale": [
             [
              0,
              "#0d0887"
             ],
             [
              0.1111111111111111,
              "#46039f"
             ],
             [
              0.2222222222222222,
              "#7201a8"
             ],
             [
              0.3333333333333333,
              "#9c179e"
             ],
             [
              0.4444444444444444,
              "#bd3786"
             ],
             [
              0.5555555555555556,
              "#d8576b"
             ],
             [
              0.6666666666666666,
              "#ed7953"
             ],
             [
              0.7777777777777778,
              "#fb9f3a"
             ],
             [
              0.8888888888888888,
              "#fdca26"
             ],
             [
              1,
              "#f0f921"
             ]
            ],
            "type": "histogram2d"
           }
          ],
          "histogram2dcontour": [
           {
            "colorbar": {
             "outlinewidth": 0,
             "ticks": ""
            },
            "colorscale": [
             [
              0,
              "#0d0887"
             ],
             [
              0.1111111111111111,
              "#46039f"
             ],
             [
              0.2222222222222222,
              "#7201a8"
             ],
             [
              0.3333333333333333,
              "#9c179e"
             ],
             [
              0.4444444444444444,
              "#bd3786"
             ],
             [
              0.5555555555555556,
              "#d8576b"
             ],
             [
              0.6666666666666666,
              "#ed7953"
             ],
             [
              0.7777777777777778,
              "#fb9f3a"
             ],
             [
              0.8888888888888888,
              "#fdca26"
             ],
             [
              1,
              "#f0f921"
             ]
            ],
            "type": "histogram2dcontour"
           }
          ],
          "mesh3d": [
           {
            "colorbar": {
             "outlinewidth": 0,
             "ticks": ""
            },
            "type": "mesh3d"
           }
          ],
          "parcoords": [
           {
            "line": {
             "colorbar": {
              "outlinewidth": 0,
              "ticks": ""
             }
            },
            "type": "parcoords"
           }
          ],
          "pie": [
           {
            "automargin": true,
            "type": "pie"
           }
          ],
          "scatter": [
           {
            "fillpattern": {
             "fillmode": "overlay",
             "size": 10,
             "solidity": 0.2
            },
            "type": "scatter"
           }
          ],
          "scatter3d": [
           {
            "line": {
             "colorbar": {
              "outlinewidth": 0,
              "ticks": ""
             }
            },
            "marker": {
             "colorbar": {
              "outlinewidth": 0,
              "ticks": ""
             }
            },
            "type": "scatter3d"
           }
          ],
          "scattercarpet": [
           {
            "marker": {
             "colorbar": {
              "outlinewidth": 0,
              "ticks": ""
             }
            },
            "type": "scattercarpet"
           }
          ],
          "scattergeo": [
           {
            "marker": {
             "colorbar": {
              "outlinewidth": 0,
              "ticks": ""
             }
            },
            "type": "scattergeo"
           }
          ],
          "scattergl": [
           {
            "marker": {
             "colorbar": {
              "outlinewidth": 0,
              "ticks": ""
             }
            },
            "type": "scattergl"
           }
          ],
          "scattermapbox": [
           {
            "marker": {
             "colorbar": {
              "outlinewidth": 0,
              "ticks": ""
             }
            },
            "type": "scattermapbox"
           }
          ],
          "scatterpolar": [
           {
            "marker": {
             "colorbar": {
              "outlinewidth": 0,
              "ticks": ""
             }
            },
            "type": "scatterpolar"
           }
          ],
          "scatterpolargl": [
           {
            "marker": {
             "colorbar": {
              "outlinewidth": 0,
              "ticks": ""
             }
            },
            "type": "scatterpolargl"
           }
          ],
          "scatterternary": [
           {
            "marker": {
             "colorbar": {
              "outlinewidth": 0,
              "ticks": ""
             }
            },
            "type": "scatterternary"
           }
          ],
          "surface": [
           {
            "colorbar": {
             "outlinewidth": 0,
             "ticks": ""
            },
            "colorscale": [
             [
              0,
              "#0d0887"
             ],
             [
              0.1111111111111111,
              "#46039f"
             ],
             [
              0.2222222222222222,
              "#7201a8"
             ],
             [
              0.3333333333333333,
              "#9c179e"
             ],
             [
              0.4444444444444444,
              "#bd3786"
             ],
             [
              0.5555555555555556,
              "#d8576b"
             ],
             [
              0.6666666666666666,
              "#ed7953"
             ],
             [
              0.7777777777777778,
              "#fb9f3a"
             ],
             [
              0.8888888888888888,
              "#fdca26"
             ],
             [
              1,
              "#f0f921"
             ]
            ],
            "type": "surface"
           }
          ],
          "table": [
           {
            "cells": {
             "fill": {
              "color": "#EBF0F8"
             },
             "line": {
              "color": "white"
             }
            },
            "header": {
             "fill": {
              "color": "#C8D4E3"
             },
             "line": {
              "color": "white"
             }
            },
            "type": "table"
           }
          ]
         },
         "layout": {
          "annotationdefaults": {
           "arrowcolor": "#2a3f5f",
           "arrowhead": 0,
           "arrowwidth": 1
          },
          "autotypenumbers": "strict",
          "coloraxis": {
           "colorbar": {
            "outlinewidth": 0,
            "ticks": ""
           }
          },
          "colorscale": {
           "diverging": [
            [
             0,
             "#8e0152"
            ],
            [
             0.1,
             "#c51b7d"
            ],
            [
             0.2,
             "#de77ae"
            ],
            [
             0.3,
             "#f1b6da"
            ],
            [
             0.4,
             "#fde0ef"
            ],
            [
             0.5,
             "#f7f7f7"
            ],
            [
             0.6,
             "#e6f5d0"
            ],
            [
             0.7,
             "#b8e186"
            ],
            [
             0.8,
             "#7fbc41"
            ],
            [
             0.9,
             "#4d9221"
            ],
            [
             1,
             "#276419"
            ]
           ],
           "sequential": [
            [
             0,
             "#0d0887"
            ],
            [
             0.1111111111111111,
             "#46039f"
            ],
            [
             0.2222222222222222,
             "#7201a8"
            ],
            [
             0.3333333333333333,
             "#9c179e"
            ],
            [
             0.4444444444444444,
             "#bd3786"
            ],
            [
             0.5555555555555556,
             "#d8576b"
            ],
            [
             0.6666666666666666,
             "#ed7953"
            ],
            [
             0.7777777777777778,
             "#fb9f3a"
            ],
            [
             0.8888888888888888,
             "#fdca26"
            ],
            [
             1,
             "#f0f921"
            ]
           ],
           "sequentialminus": [
            [
             0,
             "#0d0887"
            ],
            [
             0.1111111111111111,
             "#46039f"
            ],
            [
             0.2222222222222222,
             "#7201a8"
            ],
            [
             0.3333333333333333,
             "#9c179e"
            ],
            [
             0.4444444444444444,
             "#bd3786"
            ],
            [
             0.5555555555555556,
             "#d8576b"
            ],
            [
             0.6666666666666666,
             "#ed7953"
            ],
            [
             0.7777777777777778,
             "#fb9f3a"
            ],
            [
             0.8888888888888888,
             "#fdca26"
            ],
            [
             1,
             "#f0f921"
            ]
           ]
          },
          "colorway": [
           "#636efa",
           "#EF553B",
           "#00cc96",
           "#ab63fa",
           "#FFA15A",
           "#19d3f3",
           "#FF6692",
           "#B6E880",
           "#FF97FF",
           "#FECB52"
          ],
          "font": {
           "color": "#2a3f5f"
          },
          "geo": {
           "bgcolor": "white",
           "lakecolor": "white",
           "landcolor": "#E5ECF6",
           "showlakes": true,
           "showland": true,
           "subunitcolor": "white"
          },
          "hoverlabel": {
           "align": "left"
          },
          "hovermode": "closest",
          "mapbox": {
           "style": "light"
          },
          "paper_bgcolor": "white",
          "plot_bgcolor": "#E5ECF6",
          "polar": {
           "angularaxis": {
            "gridcolor": "white",
            "linecolor": "white",
            "ticks": ""
           },
           "bgcolor": "#E5ECF6",
           "radialaxis": {
            "gridcolor": "white",
            "linecolor": "white",
            "ticks": ""
           }
          },
          "scene": {
           "xaxis": {
            "backgroundcolor": "#E5ECF6",
            "gridcolor": "white",
            "gridwidth": 2,
            "linecolor": "white",
            "showbackground": true,
            "ticks": "",
            "zerolinecolor": "white"
           },
           "yaxis": {
            "backgroundcolor": "#E5ECF6",
            "gridcolor": "white",
            "gridwidth": 2,
            "linecolor": "white",
            "showbackground": true,
            "ticks": "",
            "zerolinecolor": "white"
           },
           "zaxis": {
            "backgroundcolor": "#E5ECF6",
            "gridcolor": "white",
            "gridwidth": 2,
            "linecolor": "white",
            "showbackground": true,
            "ticks": "",
            "zerolinecolor": "white"
           }
          },
          "shapedefaults": {
           "line": {
            "color": "#2a3f5f"
           }
          },
          "ternary": {
           "aaxis": {
            "gridcolor": "white",
            "linecolor": "white",
            "ticks": ""
           },
           "baxis": {
            "gridcolor": "white",
            "linecolor": "white",
            "ticks": ""
           },
           "bgcolor": "#E5ECF6",
           "caxis": {
            "gridcolor": "white",
            "linecolor": "white",
            "ticks": ""
           }
          },
          "title": {
           "x": 0.05
          },
          "xaxis": {
           "automargin": true,
           "gridcolor": "white",
           "linecolor": "white",
           "ticks": "",
           "title": {
            "standoff": 15
           },
           "zerolinecolor": "white",
           "zerolinewidth": 2
          },
          "yaxis": {
           "automargin": true,
           "gridcolor": "white",
           "linecolor": "white",
           "ticks": "",
           "title": {
            "standoff": 15
           },
           "zerolinecolor": "white",
           "zerolinewidth": 2
          }
         }
        }
       }
      }
     },
     "metadata": {
      "transient": {}
     },
     "output_type": "display_data"
    },
    {
     "data": {
      "text/plain": "7"
     },
     "execution_count": 27,
     "metadata": {},
     "output_type": "execute_result"
    }
   ],
   "source": [
    "\n",
    "fig = go.Figure()\n",
    "# for i, c in enumerate(greys15):\n",
    "for i, c in enumerate(colors):\n",
    "  # print(i,c)\n",
    "  fig.add_bar(x=[i], y = [15], marker_color = c, showlegend = False, name=c)\n",
    "f = fig.full_figure_for_development(warn=False)\n",
    "fig.show()\n",
    "len(list(target_dict.keys()))"
   ]
  },
  {
   "cell_type": "code",
   "execution_count": 28,
   "metadata": {},
   "outputs": [
    {
     "data": {
      "text/html": "<div>\n<style scoped>\n    .dataframe tbody tr th:only-of-type {\n        vertical-align: middle;\n    }\n\n    .dataframe tbody tr th {\n        vertical-align: top;\n    }\n\n    .dataframe thead th {\n        text-align: right;\n    }\n</style>\n<table border=\"1\" class=\"dataframe\">\n  <thead>\n    <tr style=\"text-align: right;\">\n      <th></th>\n      <th>Network Subset</th>\n      <th>Mean</th>\n      <th>SD</th>\n      <th>r-Mean</th>\n      <th>r_SD</th>\n      <th>statistic</th>\n      <th>statistic_modified</th>\n      <th>parameter</th>\n      <th>p.value</th>\n      <th>conf.int</th>\n      <th>...</th>\n      <th>n_perm</th>\n      <th>NetworkSubset</th>\n      <th>Cohens_d</th>\n      <th>CI</th>\n      <th>CI_low</th>\n      <th>CI_high</th>\n      <th>p_past_threshold</th>\n      <th>0.000793651</th>\n      <th>Number Permuted</th>\n      <th>color</th>\n    </tr>\n  </thead>\n  <tbody>\n    <tr>\n      <th>62</th>\n      <td>Default</td>\n      <td>0.532198</td>\n      <td>0.085271</td>\n      <td>0.501918</td>\n      <td>0.086295</td>\n      <td>10.589485</td>\n      <td>10.589485</td>\n      <td>3597.486961</td>\n      <td>0.0</td>\n      <td>0.024674</td>\n      <td>...</td>\n      <td>8119</td>\n      <td>Default</td>\n      <td>0.352983</td>\n      <td>0.95</td>\n      <td>0.287119</td>\n      <td>0.418798</td>\n      <td>*</td>\n      <td>NaN</td>\n      <td>8119</td>\n      <td>rgb(122, 4, 2)</td>\n    </tr>\n  </tbody>\n</table>\n<p>1 rows × 28 columns</p>\n</div>",
      "text/plain": "   Network Subset      Mean        SD    r-Mean      r_SD  statistic  \\\n62        Default  0.532198  0.085271  0.501918  0.086295  10.589485   \n\n    statistic_modified    parameter  p.value  conf.int  ...  n_perm  \\\n62           10.589485  3597.486961      0.0  0.024674  ...    8119   \n\n    NetworkSubset  Cohens_d    CI    CI_low   CI_high p_past_threshold  \\\n62        Default  0.352983  0.95  0.287119  0.418798                *   \n\n   0.000793651  Number Permuted           color  \n62         NaN             8119  rgb(122, 4, 2)  \n\n[1 rows x 28 columns]"
     },
     "execution_count": 28,
     "metadata": {},
     "output_type": "execute_result"
    }
   ],
   "source": [
    "i = 'SCZ'\n",
    "j = 'SCZ'\n",
    "outcome = f'{i}|Predicted{j}_percent'\n",
    "sub_df = fi_df.loc[(fi_df['True']==i) & (fi_df['Pred']==j)]\n",
    "net = 'Default'\n",
    "net_df = sub_df.loc[sub_df['Network Subset']==net]\n",
    "net_df"
   ]
  },
  {
   "cell_type": "code",
   "execution_count": 93,
   "metadata": {},
   "outputs": [
    {
     "name": "stdout",
     "output_type": "stream",
     "text": [
      "SCZ|PredictedSCZ_percent\n",
      "SCZ|PredictedBD_percent\n",
      "SCZ|PredictedADHD_percent\n",
      "BD|PredictedSCZ_percent\n",
      "BD|PredictedBD_percent\n",
      "BD|PredictedADHD_percent\n",
      "ADHD|PredictedSCZ_percent\n",
      "ADHD|PredictedBD_percent\n",
      "ADHD|PredictedADHD_percent\n"
     ]
    },
    {
     "data": {
      "application/vnd.plotly.v1+json": {
       "config": {
        "plotlyServerURL": "https://plot.ly"
       },
       "data": [
        {
         "marker": {
          "color": [
           "rgb(48, 18, 59)"
          ]
         },
         "name": "Limbic (2322)",
         "orientation": "h",
         "showlegend": true,
         "text": [
          "*"
         ],
         "textposition": "outside",
         "type": "bar",
         "x": [
          -0.205918524
         ],
         "xaxis": "x",
         "y": [
          "Limbic"
         ],
         "yaxis": "y"
        },
        {
         "marker": {
          "color": [
           "rgb(66, 132, 242)"
          ]
         },
         "name": "Salience / Ventral Attention (4147)",
         "orientation": "h",
         "showlegend": true,
         "text": [
          "*"
         ],
         "textposition": "outside",
         "type": "bar",
         "x": [
          -0.168613518
         ],
         "xaxis": "x",
         "y": [
          "Salience / Ventral Attention"
         ],
         "yaxis": "y"
        },
        {
         "marker": {
          "color": [
           "rgb(33, 226, 181)"
          ]
         },
         "name": "Dorsal Attention (4849)",
         "orientation": "h",
         "showlegend": true,
         "text": [
          null
         ],
         "textposition": "outside",
         "type": "bar",
         "x": [
          0.061127781
         ],
         "xaxis": "x",
         "y": [
          "Dorsal Attention"
         ],
         "yaxis": "y"
        },
        {
         "marker": {
          "color": [
           "rgb(164, 252, 59)"
          ]
         },
         "name": "Visual (5365)",
         "orientation": "h",
         "showlegend": true,
         "text": [
          "*"
         ],
         "textposition": "outside",
         "type": "bar",
         "x": [
          -0.281552739
         ],
         "xaxis": "x",
         "y": [
          "Visual"
         ],
         "yaxis": "y"
        },
        {
         "marker": {
          "color": [
           "rgb(247, 184, 54)"
          ]
         },
         "name": "Control (5535)",
         "orientation": "h",
         "showlegend": true,
         "text": [
          "*"
         ],
         "textposition": "outside",
         "type": "bar",
         "x": [
          0.116241413
         ],
         "xaxis": "x",
         "y": [
          "Control"
         ],
         "yaxis": "y"
        },
        {
         "marker": {
          "color": [
           "rgb(226, 70, 11)"
          ]
         },
         "name": "Somatomotor (6370)",
         "orientation": "h",
         "showlegend": true,
         "text": [
          "*"
         ],
         "textposition": "outside",
         "type": "bar",
         "x": [
          0.277075052
         ],
         "xaxis": "x",
         "y": [
          "Somatomotor"
         ],
         "yaxis": "y"
        },
        {
         "marker": {
          "color": [
           "rgb(122, 4, 2)"
          ]
         },
         "name": "Default (8119)",
         "orientation": "h",
         "showlegend": true,
         "text": [
          "*"
         ],
         "textposition": "outside",
         "type": "bar",
         "x": [
          0.352982826
         ],
         "xaxis": "x",
         "y": [
          "Default"
         ],
         "yaxis": "y"
        },
        {
         "marker": {
          "color": [
           "rgb(48, 18, 59)"
          ]
         },
         "name": "Limbic (2322)",
         "orientation": "h",
         "showlegend": false,
         "text": [
          null
         ],
         "textposition": "outside",
         "type": "bar",
         "x": [
          -0.019353791
         ],
         "xaxis": "x2",
         "y": [
          "Limbic"
         ],
         "yaxis": "y2"
        },
        {
         "marker": {
          "color": [
           "rgb(66, 132, 242)"
          ]
         },
         "name": "Salience / Ventral Attention (4147)",
         "orientation": "h",
         "showlegend": false,
         "text": [
          "*"
         ],
         "textposition": "outside",
         "type": "bar",
         "x": [
          -0.134634375
         ],
         "xaxis": "x2",
         "y": [
          "Salience / Ventral Attention"
         ],
         "yaxis": "y2"
        },
        {
         "marker": {
          "color": [
           "rgb(33, 226, 181)"
          ]
         },
         "name": "Dorsal Attention (4849)",
         "orientation": "h",
         "showlegend": false,
         "text": [
          "*"
         ],
         "textposition": "outside",
         "type": "bar",
         "x": [
          -0.498766031
         ],
         "xaxis": "x2",
         "y": [
          "Dorsal Attention"
         ],
         "yaxis": "y2"
        },
        {
         "marker": {
          "color": [
           "rgb(164, 252, 59)"
          ]
         },
         "name": "Visual (5365)",
         "orientation": "h",
         "showlegend": false,
         "text": [
          null
         ],
         "textposition": "outside",
         "type": "bar",
         "x": [
          0.05950502
         ],
         "xaxis": "x2",
         "y": [
          "Visual"
         ],
         "yaxis": "y2"
        },
        {
         "marker": {
          "color": [
           "rgb(247, 184, 54)"
          ]
         },
         "name": "Control (5535)",
         "orientation": "h",
         "showlegend": false,
         "text": [
          "*"
         ],
         "textposition": "outside",
         "type": "bar",
         "x": [
          -0.668835478
         ],
         "xaxis": "x2",
         "y": [
          "Control"
         ],
         "yaxis": "y2"
        },
        {
         "marker": {
          "color": [
           "rgb(226, 70, 11)"
          ]
         },
         "name": "Somatomotor (6370)",
         "orientation": "h",
         "showlegend": false,
         "text": [
          "*"
         ],
         "textposition": "outside",
         "type": "bar",
         "x": [
          -0.655917408
         ],
         "xaxis": "x2",
         "y": [
          "Somatomotor"
         ],
         "yaxis": "y2"
        },
        {
         "marker": {
          "color": [
           "rgb(122, 4, 2)"
          ]
         },
         "name": "Default (8119)",
         "orientation": "h",
         "showlegend": false,
         "text": [
          "*"
         ],
         "textposition": "outside",
         "type": "bar",
         "x": [
          -0.648392407
         ],
         "xaxis": "x2",
         "y": [
          "Default"
         ],
         "yaxis": "y2"
        },
        {
         "marker": {
          "color": [
           "rgb(48, 18, 59)"
          ]
         },
         "name": "Limbic (2322)",
         "orientation": "h",
         "showlegend": false,
         "text": [
          "*"
         ],
         "textposition": "outside",
         "type": "bar",
         "x": [
          0.39506414
         ],
         "xaxis": "x3",
         "y": [
          "Limbic"
         ],
         "yaxis": "y3"
        },
        {
         "marker": {
          "color": [
           "rgb(66, 132, 242)"
          ]
         },
         "name": "Salience / Ventral Attention (4147)",
         "orientation": "h",
         "showlegend": false,
         "text": [
          "*"
         ],
         "textposition": "outside",
         "type": "bar",
         "x": [
          0.534747094
         ],
         "xaxis": "x3",
         "y": [
          "Salience / Ventral Attention"
         ],
         "yaxis": "y3"
        },
        {
         "marker": {
          "color": [
           "rgb(33, 226, 181)"
          ]
         },
         "name": "Dorsal Attention (4849)",
         "orientation": "h",
         "showlegend": false,
         "text": [
          "*"
         ],
         "textposition": "outside",
         "type": "bar",
         "x": [
          0.700511879
         ],
         "xaxis": "x3",
         "y": [
          "Dorsal Attention"
         ],
         "yaxis": "y3"
        },
        {
         "marker": {
          "color": [
           "rgb(164, 252, 59)"
          ]
         },
         "name": "Visual (5365)",
         "orientation": "h",
         "showlegend": false,
         "text": [
          "*"
         ],
         "textposition": "outside",
         "type": "bar",
         "x": [
          0.407483696
         ],
         "xaxis": "x3",
         "y": [
          "Visual"
         ],
         "yaxis": "y3"
        },
        {
         "marker": {
          "color": [
           "rgb(247, 184, 54)"
          ]
         },
         "name": "Control (5535)",
         "orientation": "h",
         "showlegend": false,
         "text": [
          "*"
         ],
         "textposition": "outside",
         "type": "bar",
         "x": [
          0.890386903
         ],
         "xaxis": "x3",
         "y": [
          "Control"
         ],
         "yaxis": "y3"
        },
        {
         "marker": {
          "color": [
           "rgb(226, 70, 11)"
          ]
         },
         "name": "Somatomotor (6370)",
         "orientation": "h",
         "showlegend": false,
         "text": [
          "*"
         ],
         "textposition": "outside",
         "type": "bar",
         "x": [
          0.612568673
         ],
         "xaxis": "x3",
         "y": [
          "Somatomotor"
         ],
         "yaxis": "y3"
        },
        {
         "marker": {
          "color": [
           "rgb(122, 4, 2)"
          ]
         },
         "name": "Default (8119)",
         "orientation": "h",
         "showlegend": false,
         "text": [
          "*"
         ],
         "textposition": "outside",
         "type": "bar",
         "x": [
          0.426485002
         ],
         "xaxis": "x3",
         "y": [
          "Default"
         ],
         "yaxis": "y3"
        },
        {
         "marker": {
          "color": [
           "rgb(48, 18, 59)"
          ]
         },
         "name": "Limbic (2322)",
         "orientation": "h",
         "showlegend": false,
         "text": [
          null
         ],
         "textposition": "outside",
         "type": "bar",
         "x": [
          0.096745521
         ],
         "xaxis": "x4",
         "y": [
          "Limbic"
         ],
         "yaxis": "y4"
        },
        {
         "marker": {
          "color": [
           "rgb(66, 132, 242)"
          ]
         },
         "name": "Salience / Ventral Attention (4147)",
         "orientation": "h",
         "showlegend": false,
         "text": [
          null
         ],
         "textposition": "outside",
         "type": "bar",
         "x": [
          -0.042687335
         ],
         "xaxis": "x4",
         "y": [
          "Salience / Ventral Attention"
         ],
         "yaxis": "y4"
        },
        {
         "marker": {
          "color": [
           "rgb(33, 226, 181)"
          ]
         },
         "name": "Dorsal Attention (4849)",
         "orientation": "h",
         "showlegend": false,
         "text": [
          "*"
         ],
         "textposition": "outside",
         "type": "bar",
         "x": [
          -0.123434655
         ],
         "xaxis": "x4",
         "y": [
          "Dorsal Attention"
         ],
         "yaxis": "y4"
        },
        {
         "marker": {
          "color": [
           "rgb(164, 252, 59)"
          ]
         },
         "name": "Visual (5365)",
         "orientation": "h",
         "showlegend": false,
         "text": [
          "*"
         ],
         "textposition": "outside",
         "type": "bar",
         "x": [
          0.149323793
         ],
         "xaxis": "x4",
         "y": [
          "Visual"
         ],
         "yaxis": "y4"
        },
        {
         "marker": {
          "color": [
           "rgb(247, 184, 54)"
          ]
         },
         "name": "Control (5535)",
         "orientation": "h",
         "showlegend": false,
         "text": [
          "*"
         ],
         "textposition": "outside",
         "type": "bar",
         "x": [
          -0.157385672
         ],
         "xaxis": "x4",
         "y": [
          "Control"
         ],
         "yaxis": "y4"
        },
        {
         "marker": {
          "color": [
           "rgb(226, 70, 11)"
          ]
         },
         "name": "Somatomotor (6370)",
         "orientation": "h",
         "showlegend": false,
         "text": [
          "*"
         ],
         "textposition": "outside",
         "type": "bar",
         "x": [
          -0.343625021
         ],
         "xaxis": "x4",
         "y": [
          "Somatomotor"
         ],
         "yaxis": "y4"
        },
        {
         "marker": {
          "color": [
           "rgb(122, 4, 2)"
          ]
         },
         "name": "Default (8119)",
         "orientation": "h",
         "showlegend": false,
         "text": [
          "*"
         ],
         "textposition": "outside",
         "type": "bar",
         "x": [
          -0.143079266
         ],
         "xaxis": "x4",
         "y": [
          "Default"
         ],
         "yaxis": "y4"
        },
        {
         "marker": {
          "color": [
           "rgb(48, 18, 59)"
          ]
         },
         "name": "Limbic (2322)",
         "orientation": "h",
         "showlegend": false,
         "text": [
          "*"
         ],
         "textposition": "outside",
         "type": "bar",
         "x": [
          -0.450832439
         ],
         "xaxis": "x5",
         "y": [
          "Limbic"
         ],
         "yaxis": "y5"
        },
        {
         "marker": {
          "color": [
           "rgb(66, 132, 242)"
          ]
         },
         "name": "Salience / Ventral Attention (4147)",
         "orientation": "h",
         "showlegend": false,
         "text": [
          "*"
         ],
         "textposition": "outside",
         "type": "bar",
         "x": [
          -0.383681544
         ],
         "xaxis": "x5",
         "y": [
          "Salience / Ventral Attention"
         ],
         "yaxis": "y5"
        },
        {
         "marker": {
          "color": [
           "rgb(33, 226, 181)"
          ]
         },
         "name": "Dorsal Attention (4849)",
         "orientation": "h",
         "showlegend": false,
         "text": [
          "*"
         ],
         "textposition": "outside",
         "type": "bar",
         "x": [
          -0.350829126
         ],
         "xaxis": "x5",
         "y": [
          "Dorsal Attention"
         ],
         "yaxis": "y5"
        },
        {
         "marker": {
          "color": [
           "rgb(164, 252, 59)"
          ]
         },
         "name": "Visual (5365)",
         "orientation": "h",
         "showlegend": false,
         "text": [
          "*"
         ],
         "textposition": "outside",
         "type": "bar",
         "x": [
          -0.516585693
         ],
         "xaxis": "x5",
         "y": [
          "Visual"
         ],
         "yaxis": "y5"
        },
        {
         "marker": {
          "color": [
           "rgb(247, 184, 54)"
          ]
         },
         "name": "Control (5535)",
         "orientation": "h",
         "showlegend": false,
         "text": [
          "*"
         ],
         "textposition": "outside",
         "type": "bar",
         "x": [
          -0.496110052
         ],
         "xaxis": "x5",
         "y": [
          "Control"
         ],
         "yaxis": "y5"
        },
        {
         "marker": {
          "color": [
           "rgb(226, 70, 11)"
          ]
         },
         "name": "Somatomotor (6370)",
         "orientation": "h",
         "showlegend": false,
         "text": [
          null
         ],
         "textposition": "outside",
         "type": "bar",
         "x": [
          -0.102569892
         ],
         "xaxis": "x5",
         "y": [
          "Somatomotor"
         ],
         "yaxis": "y5"
        },
        {
         "marker": {
          "color": [
           "rgb(122, 4, 2)"
          ]
         },
         "name": "Default (8119)",
         "orientation": "h",
         "showlegend": false,
         "text": [
          "*"
         ],
         "textposition": "outside",
         "type": "bar",
         "x": [
          -0.604430095
         ],
         "xaxis": "x5",
         "y": [
          "Default"
         ],
         "yaxis": "y5"
        },
        {
         "marker": {
          "color": [
           "rgb(48, 18, 59)"
          ]
         },
         "name": "Limbic (2322)",
         "orientation": "h",
         "showlegend": false,
         "text": [
          "*"
         ],
         "textposition": "outside",
         "type": "bar",
         "x": [
          0.289611481
         ],
         "xaxis": "x6",
         "y": [
          "Limbic"
         ],
         "yaxis": "y6"
        },
        {
         "marker": {
          "color": [
           "rgb(66, 132, 242)"
          ]
         },
         "name": "Salience / Ventral Attention (4147)",
         "orientation": "h",
         "showlegend": false,
         "text": [
          "*"
         ],
         "textposition": "outside",
         "type": "bar",
         "x": [
          0.436242531
         ],
         "xaxis": "x6",
         "y": [
          "Salience / Ventral Attention"
         ],
         "yaxis": "y6"
        },
        {
         "marker": {
          "color": [
           "rgb(33, 226, 181)"
          ]
         },
         "name": "Dorsal Attention (4849)",
         "orientation": "h",
         "showlegend": false,
         "text": [
          "*"
         ],
         "textposition": "outside",
         "type": "bar",
         "x": [
          0.51234262
         ],
         "xaxis": "x6",
         "y": [
          "Dorsal Attention"
         ],
         "yaxis": "y6"
        },
        {
         "marker": {
          "color": [
           "rgb(164, 252, 59)"
          ]
         },
         "name": "Visual (5365)",
         "orientation": "h",
         "showlegend": false,
         "text": [
          "*"
         ],
         "textposition": "outside",
         "type": "bar",
         "x": [
          0.338710268
         ],
         "xaxis": "x6",
         "y": [
          "Visual"
         ],
         "yaxis": "y6"
        },
        {
         "marker": {
          "color": [
           "rgb(247, 184, 54)"
          ]
         },
         "name": "Control (5535)",
         "orientation": "h",
         "showlegend": false,
         "text": [
          "*"
         ],
         "textposition": "outside",
         "type": "bar",
         "x": [
          0.710856573
         ],
         "xaxis": "x6",
         "y": [
          "Control"
         ],
         "yaxis": "y6"
        },
        {
         "marker": {
          "color": [
           "rgb(226, 70, 11)"
          ]
         },
         "name": "Somatomotor (6370)",
         "orientation": "h",
         "showlegend": false,
         "text": [
          "*"
         ],
         "textposition": "outside",
         "type": "bar",
         "x": [
          0.585418674
         ],
         "xaxis": "x6",
         "y": [
          "Somatomotor"
         ],
         "yaxis": "y6"
        },
        {
         "marker": {
          "color": [
           "rgb(122, 4, 2)"
          ]
         },
         "name": "Default (8119)",
         "orientation": "h",
         "showlegend": false,
         "text": [
          "*"
         ],
         "textposition": "outside",
         "type": "bar",
         "x": [
          0.848361698
         ],
         "xaxis": "x6",
         "y": [
          "Default"
         ],
         "yaxis": "y6"
        },
        {
         "marker": {
          "color": [
           "rgb(48, 18, 59)"
          ]
         },
         "name": "Limbic (2322)",
         "orientation": "h",
         "showlegend": false,
         "text": [
          null
         ],
         "textposition": "outside",
         "type": "bar",
         "x": [
          0.012938593
         ],
         "xaxis": "x7",
         "y": [
          "Limbic"
         ],
         "yaxis": "y7"
        },
        {
         "marker": {
          "color": [
           "rgb(66, 132, 242)"
          ]
         },
         "name": "Salience / Ventral Attention (4147)",
         "orientation": "h",
         "showlegend": false,
         "text": [
          "*"
         ],
         "textposition": "outside",
         "type": "bar",
         "x": [
          -0.192498896
         ],
         "xaxis": "x7",
         "y": [
          "Salience / Ventral Attention"
         ],
         "yaxis": "y7"
        },
        {
         "marker": {
          "color": [
           "rgb(33, 226, 181)"
          ]
         },
         "name": "Dorsal Attention (4849)",
         "orientation": "h",
         "showlegend": false,
         "text": [
          "*"
         ],
         "textposition": "outside",
         "type": "bar",
         "x": [
          -0.221392934
         ],
         "xaxis": "x7",
         "y": [
          "Dorsal Attention"
         ],
         "yaxis": "y7"
        },
        {
         "marker": {
          "color": [
           "rgb(164, 252, 59)"
          ]
         },
         "name": "Visual (5365)",
         "orientation": "h",
         "showlegend": false,
         "text": [
          "*"
         ],
         "textposition": "outside",
         "type": "bar",
         "x": [
          -0.290723004
         ],
         "xaxis": "x7",
         "y": [
          "Visual"
         ],
         "yaxis": "y7"
        },
        {
         "marker": {
          "color": [
           "rgb(247, 184, 54)"
          ]
         },
         "name": "Control (5535)",
         "orientation": "h",
         "showlegend": false,
         "text": [
          "*"
         ],
         "textposition": "outside",
         "type": "bar",
         "x": [
          -0.432998355
         ],
         "xaxis": "x7",
         "y": [
          "Control"
         ],
         "yaxis": "y7"
        },
        {
         "marker": {
          "color": [
           "rgb(226, 70, 11)"
          ]
         },
         "name": "Somatomotor (6370)",
         "orientation": "h",
         "showlegend": false,
         "text": [
          "*"
         ],
         "textposition": "outside",
         "type": "bar",
         "x": [
          -0.311052049
         ],
         "xaxis": "x7",
         "y": [
          "Somatomotor"
         ],
         "yaxis": "y7"
        },
        {
         "marker": {
          "color": [
           "rgb(122, 4, 2)"
          ]
         },
         "name": "Default (8119)",
         "orientation": "h",
         "showlegend": false,
         "text": [
          "*"
         ],
         "textposition": "outside",
         "type": "bar",
         "x": [
          -0.596081675
         ],
         "xaxis": "x7",
         "y": [
          "Default"
         ],
         "yaxis": "y7"
        },
        {
         "marker": {
          "color": [
           "rgb(48, 18, 59)"
          ]
         },
         "name": "Limbic (2322)",
         "orientation": "h",
         "showlegend": false,
         "text": [
          null
         ],
         "textposition": "outside",
         "type": "bar",
         "x": [
          -0.046375869
         ],
         "xaxis": "x8",
         "y": [
          "Limbic"
         ],
         "yaxis": "y8"
        },
        {
         "marker": {
          "color": [
           "rgb(66, 132, 242)"
          ]
         },
         "name": "Salience / Ventral Attention (4147)",
         "orientation": "h",
         "showlegend": false,
         "text": [
          "*"
         ],
         "textposition": "outside",
         "type": "bar",
         "x": [
          -0.433985746
         ],
         "xaxis": "x8",
         "y": [
          "Salience / Ventral Attention"
         ],
         "yaxis": "y8"
        },
        {
         "marker": {
          "color": [
           "rgb(33, 226, 181)"
          ]
         },
         "name": "Dorsal Attention (4849)",
         "orientation": "h",
         "showlegend": false,
         "text": [
          "*"
         ],
         "textposition": "outside",
         "type": "bar",
         "x": [
          -0.566310197
         ],
         "xaxis": "x8",
         "y": [
          "Dorsal Attention"
         ],
         "yaxis": "y8"
        },
        {
         "marker": {
          "color": [
           "rgb(164, 252, 59)"
          ]
         },
         "name": "Visual (5365)",
         "orientation": "h",
         "showlegend": false,
         "text": [
          "*"
         ],
         "textposition": "outside",
         "type": "bar",
         "x": [
          -0.683311913
         ],
         "xaxis": "x8",
         "y": [
          "Visual"
         ],
         "yaxis": "y8"
        },
        {
         "marker": {
          "color": [
           "rgb(247, 184, 54)"
          ]
         },
         "name": "Control (5535)",
         "orientation": "h",
         "showlegend": false,
         "text": [
          "*"
         ],
         "textposition": "outside",
         "type": "bar",
         "x": [
          -0.333758923
         ],
         "xaxis": "x8",
         "y": [
          "Control"
         ],
         "yaxis": "y8"
        },
        {
         "marker": {
          "color": [
           "rgb(226, 70, 11)"
          ]
         },
         "name": "Somatomotor (6370)",
         "orientation": "h",
         "showlegend": false,
         "text": [
          "*"
         ],
         "textposition": "outside",
         "type": "bar",
         "x": [
          -0.642168032
         ],
         "xaxis": "x8",
         "y": [
          "Somatomotor"
         ],
         "yaxis": "y8"
        },
        {
         "marker": {
          "color": [
           "rgb(122, 4, 2)"
          ]
         },
         "name": "Default (8119)",
         "orientation": "h",
         "showlegend": false,
         "text": [
          "*"
         ],
         "textposition": "outside",
         "type": "bar",
         "x": [
          -0.423612602
         ],
         "xaxis": "x8",
         "y": [
          "Default"
         ],
         "yaxis": "y8"
        },
        {
         "marker": {
          "color": [
           "rgb(48, 18, 59)"
          ]
         },
         "name": "Limbic (2322)",
         "orientation": "h",
         "showlegend": false,
         "text": [
          null
         ],
         "textposition": "outside",
         "type": "bar",
         "x": [
          0.03272421
         ],
         "xaxis": "x9",
         "y": [
          "Limbic"
         ],
         "yaxis": "y9"
        },
        {
         "marker": {
          "color": [
           "rgb(66, 132, 242)"
          ]
         },
         "name": "Salience / Ventral Attention (4147)",
         "orientation": "h",
         "showlegend": false,
         "text": [
          "*"
         ],
         "textposition": "outside",
         "type": "bar",
         "x": [
          0.595206554
         ],
         "xaxis": "x9",
         "y": [
          "Salience / Ventral Attention"
         ],
         "yaxis": "y9"
        },
        {
         "marker": {
          "color": [
           "rgb(33, 226, 181)"
          ]
         },
         "name": "Dorsal Attention (4849)",
         "orientation": "h",
         "showlegend": false,
         "text": [
          "*"
         ],
         "textposition": "outside",
         "type": "bar",
         "x": [
          0.790794803
         ],
         "xaxis": "x9",
         "y": [
          "Dorsal Attention"
         ],
         "yaxis": "y9"
        },
        {
         "marker": {
          "color": [
           "rgb(164, 252, 59)"
          ]
         },
         "name": "Visual (5365)",
         "orientation": "h",
         "showlegend": false,
         "text": [
          "*"
         ],
         "textposition": "outside",
         "type": "bar",
         "x": [
          0.937220405
         ],
         "xaxis": "x9",
         "y": [
          "Visual"
         ],
         "yaxis": "y9"
        },
        {
         "marker": {
          "color": [
           "rgb(247, 184, 54)"
          ]
         },
         "name": "Control (5535)",
         "orientation": "h",
         "showlegend": false,
         "text": [
          "*"
         ],
         "textposition": "outside",
         "type": "bar",
         "x": [
          0.741876678
         ],
         "xaxis": "x9",
         "y": [
          "Control"
         ],
         "yaxis": "y9"
        },
        {
         "marker": {
          "color": [
           "rgb(226, 70, 11)"
          ]
         },
         "name": "Somatomotor (6370)",
         "orientation": "h",
         "showlegend": false,
         "text": [
          "*"
         ],
         "textposition": "outside",
         "type": "bar",
         "x": [
          0.958605091
         ],
         "xaxis": "x9",
         "y": [
          "Somatomotor"
         ],
         "yaxis": "y9"
        },
        {
         "marker": {
          "color": [
           "rgb(122, 4, 2)"
          ]
         },
         "name": "Default (8119)",
         "orientation": "h",
         "showlegend": false,
         "text": [
          "*"
         ],
         "textposition": "outside",
         "type": "bar",
         "x": [
          1.078275981
         ],
         "xaxis": "x9",
         "y": [
          "Default"
         ],
         "yaxis": "y9"
        }
       ],
       "layout": {
        "annotations": [
         {
          "font": {
           "size": 16
          },
          "showarrow": false,
          "text": "SCZ",
          "x": 0.1411111111111111,
          "xanchor": "center",
          "xref": "paper",
          "y": 1,
          "yanchor": "bottom",
          "yref": "paper"
         },
         {
          "font": {
           "size": 16
          },
          "showarrow": false,
          "text": "BD",
          "x": 0.49,
          "xanchor": "center",
          "xref": "paper",
          "y": 1,
          "yanchor": "bottom",
          "yref": "paper"
         },
         {
          "font": {
           "size": 16
          },
          "showarrow": false,
          "text": "ADHD",
          "x": 0.8388888888888888,
          "xanchor": "center",
          "xref": "paper",
          "y": 1,
          "yanchor": "bottom",
          "yref": "paper"
         },
         {
          "font": {
           "size": 16
          },
          "showarrow": false,
          "text": "SCZ",
          "textangle": -90,
          "x": 0,
          "xanchor": "right",
          "xref": "paper",
          "xshift": -40,
          "y": 0.8766666666666667,
          "yanchor": "middle",
          "yref": "paper"
         },
         {
          "font": {
           "size": 16
          },
          "showarrow": false,
          "text": "BD",
          "textangle": -90,
          "x": 0,
          "xanchor": "right",
          "xref": "paper",
          "xshift": -40,
          "y": 0.5,
          "yanchor": "middle",
          "yref": "paper"
         },
         {
          "font": {
           "size": 16
          },
          "showarrow": false,
          "text": "ADHD",
          "textangle": -90,
          "x": 0,
          "xanchor": "right",
          "xref": "paper",
          "xshift": -40,
          "y": 0.12333333333333334,
          "yanchor": "middle",
          "yref": "paper"
         },
         {
          "font": {
           "size": 16
          },
          "showarrow": false,
          "text": "Predicted",
          "x": 0.49,
          "xanchor": "center",
          "xref": "paper",
          "y": 1,
          "yanchor": "bottom",
          "yref": "paper",
          "yshift": 25
         },
         {
          "font": {
           "size": 16
          },
          "showarrow": false,
          "text": "True",
          "textangle": -90,
          "x": 0,
          "xanchor": "right",
          "xref": "paper",
          "xshift": -60,
          "y": 0.5,
          "yanchor": "middle",
          "yref": "paper"
         }
        ],
        "font": {
         "color": "Black",
         "family": "Arial",
         "size": 12
        },
        "height": 760,
        "legend": {
         "font": {
          "color": "Black",
          "size": 14
         },
         "orientation": "v",
         "traceorder": "reversed",
         "x": 1.5,
         "xanchor": "right",
         "y": 1,
         "yanchor": "top"
        },
        "margin": {
         "l": 80,
         "t": 60
        },
        "paper_bgcolor": "White",
        "plot_bgcolor": "White",
        "showlegend": true,
        "template": {
         "data": {
          "bar": [
           {
            "error_x": {
             "color": "rgb(36,36,36)"
            },
            "error_y": {
             "color": "rgb(36,36,36)"
            },
            "marker": {
             "line": {
              "color": "white",
              "width": 0.5
             },
             "pattern": {
              "fillmode": "overlay",
              "size": 10,
              "solidity": 0.2
             }
            },
            "type": "bar"
           }
          ],
          "barpolar": [
           {
            "marker": {
             "line": {
              "color": "white",
              "width": 0.5
             },
             "pattern": {
              "fillmode": "overlay",
              "size": 10,
              "solidity": 0.2
             }
            },
            "type": "barpolar"
           }
          ],
          "carpet": [
           {
            "aaxis": {
             "endlinecolor": "rgb(36,36,36)",
             "gridcolor": "white",
             "linecolor": "white",
             "minorgridcolor": "white",
             "startlinecolor": "rgb(36,36,36)"
            },
            "baxis": {
             "endlinecolor": "rgb(36,36,36)",
             "gridcolor": "white",
             "linecolor": "white",
             "minorgridcolor": "white",
             "startlinecolor": "rgb(36,36,36)"
            },
            "type": "carpet"
           }
          ],
          "choropleth": [
           {
            "colorbar": {
             "outlinewidth": 1,
             "tickcolor": "rgb(36,36,36)",
             "ticks": "outside"
            },
            "type": "choropleth"
           }
          ],
          "contour": [
           {
            "colorbar": {
             "outlinewidth": 1,
             "tickcolor": "rgb(36,36,36)",
             "ticks": "outside"
            },
            "colorscale": [
             [
              0,
              "#440154"
             ],
             [
              0.1111111111111111,
              "#482878"
             ],
             [
              0.2222222222222222,
              "#3e4989"
             ],
             [
              0.3333333333333333,
              "#31688e"
             ],
             [
              0.4444444444444444,
              "#26828e"
             ],
             [
              0.5555555555555556,
              "#1f9e89"
             ],
             [
              0.6666666666666666,
              "#35b779"
             ],
             [
              0.7777777777777778,
              "#6ece58"
             ],
             [
              0.8888888888888888,
              "#b5de2b"
             ],
             [
              1,
              "#fde725"
             ]
            ],
            "type": "contour"
           }
          ],
          "contourcarpet": [
           {
            "colorbar": {
             "outlinewidth": 1,
             "tickcolor": "rgb(36,36,36)",
             "ticks": "outside"
            },
            "type": "contourcarpet"
           }
          ],
          "heatmap": [
           {
            "colorbar": {
             "outlinewidth": 1,
             "tickcolor": "rgb(36,36,36)",
             "ticks": "outside"
            },
            "colorscale": [
             [
              0,
              "#440154"
             ],
             [
              0.1111111111111111,
              "#482878"
             ],
             [
              0.2222222222222222,
              "#3e4989"
             ],
             [
              0.3333333333333333,
              "#31688e"
             ],
             [
              0.4444444444444444,
              "#26828e"
             ],
             [
              0.5555555555555556,
              "#1f9e89"
             ],
             [
              0.6666666666666666,
              "#35b779"
             ],
             [
              0.7777777777777778,
              "#6ece58"
             ],
             [
              0.8888888888888888,
              "#b5de2b"
             ],
             [
              1,
              "#fde725"
             ]
            ],
            "type": "heatmap"
           }
          ],
          "heatmapgl": [
           {
            "colorbar": {
             "outlinewidth": 1,
             "tickcolor": "rgb(36,36,36)",
             "ticks": "outside"
            },
            "colorscale": [
             [
              0,
              "#440154"
             ],
             [
              0.1111111111111111,
              "#482878"
             ],
             [
              0.2222222222222222,
              "#3e4989"
             ],
             [
              0.3333333333333333,
              "#31688e"
             ],
             [
              0.4444444444444444,
              "#26828e"
             ],
             [
              0.5555555555555556,
              "#1f9e89"
             ],
             [
              0.6666666666666666,
              "#35b779"
             ],
             [
              0.7777777777777778,
              "#6ece58"
             ],
             [
              0.8888888888888888,
              "#b5de2b"
             ],
             [
              1,
              "#fde725"
             ]
            ],
            "type": "heatmapgl"
           }
          ],
          "histogram": [
           {
            "marker": {
             "line": {
              "color": "white",
              "width": 0.6
             }
            },
            "type": "histogram"
           }
          ],
          "histogram2d": [
           {
            "colorbar": {
             "outlinewidth": 1,
             "tickcolor": "rgb(36,36,36)",
             "ticks": "outside"
            },
            "colorscale": [
             [
              0,
              "#440154"
             ],
             [
              0.1111111111111111,
              "#482878"
             ],
             [
              0.2222222222222222,
              "#3e4989"
             ],
             [
              0.3333333333333333,
              "#31688e"
             ],
             [
              0.4444444444444444,
              "#26828e"
             ],
             [
              0.5555555555555556,
              "#1f9e89"
             ],
             [
              0.6666666666666666,
              "#35b779"
             ],
             [
              0.7777777777777778,
              "#6ece58"
             ],
             [
              0.8888888888888888,
              "#b5de2b"
             ],
             [
              1,
              "#fde725"
             ]
            ],
            "type": "histogram2d"
           }
          ],
          "histogram2dcontour": [
           {
            "colorbar": {
             "outlinewidth": 1,
             "tickcolor": "rgb(36,36,36)",
             "ticks": "outside"
            },
            "colorscale": [
             [
              0,
              "#440154"
             ],
             [
              0.1111111111111111,
              "#482878"
             ],
             [
              0.2222222222222222,
              "#3e4989"
             ],
             [
              0.3333333333333333,
              "#31688e"
             ],
             [
              0.4444444444444444,
              "#26828e"
             ],
             [
              0.5555555555555556,
              "#1f9e89"
             ],
             [
              0.6666666666666666,
              "#35b779"
             ],
             [
              0.7777777777777778,
              "#6ece58"
             ],
             [
              0.8888888888888888,
              "#b5de2b"
             ],
             [
              1,
              "#fde725"
             ]
            ],
            "type": "histogram2dcontour"
           }
          ],
          "mesh3d": [
           {
            "colorbar": {
             "outlinewidth": 1,
             "tickcolor": "rgb(36,36,36)",
             "ticks": "outside"
            },
            "type": "mesh3d"
           }
          ],
          "parcoords": [
           {
            "line": {
             "colorbar": {
              "outlinewidth": 1,
              "tickcolor": "rgb(36,36,36)",
              "ticks": "outside"
             }
            },
            "type": "parcoords"
           }
          ],
          "pie": [
           {
            "automargin": true,
            "type": "pie"
           }
          ],
          "scatter": [
           {
            "fillpattern": {
             "fillmode": "overlay",
             "size": 10,
             "solidity": 0.2
            },
            "type": "scatter"
           }
          ],
          "scatter3d": [
           {
            "line": {
             "colorbar": {
              "outlinewidth": 1,
              "tickcolor": "rgb(36,36,36)",
              "ticks": "outside"
             }
            },
            "marker": {
             "colorbar": {
              "outlinewidth": 1,
              "tickcolor": "rgb(36,36,36)",
              "ticks": "outside"
             }
            },
            "type": "scatter3d"
           }
          ],
          "scattercarpet": [
           {
            "marker": {
             "colorbar": {
              "outlinewidth": 1,
              "tickcolor": "rgb(36,36,36)",
              "ticks": "outside"
             }
            },
            "type": "scattercarpet"
           }
          ],
          "scattergeo": [
           {
            "marker": {
             "colorbar": {
              "outlinewidth": 1,
              "tickcolor": "rgb(36,36,36)",
              "ticks": "outside"
             }
            },
            "type": "scattergeo"
           }
          ],
          "scattergl": [
           {
            "marker": {
             "colorbar": {
              "outlinewidth": 1,
              "tickcolor": "rgb(36,36,36)",
              "ticks": "outside"
             }
            },
            "type": "scattergl"
           }
          ],
          "scattermapbox": [
           {
            "marker": {
             "colorbar": {
              "outlinewidth": 1,
              "tickcolor": "rgb(36,36,36)",
              "ticks": "outside"
             }
            },
            "type": "scattermapbox"
           }
          ],
          "scatterpolar": [
           {
            "marker": {
             "colorbar": {
              "outlinewidth": 1,
              "tickcolor": "rgb(36,36,36)",
              "ticks": "outside"
             }
            },
            "type": "scatterpolar"
           }
          ],
          "scatterpolargl": [
           {
            "marker": {
             "colorbar": {
              "outlinewidth": 1,
              "tickcolor": "rgb(36,36,36)",
              "ticks": "outside"
             }
            },
            "type": "scatterpolargl"
           }
          ],
          "scatterternary": [
           {
            "marker": {
             "colorbar": {
              "outlinewidth": 1,
              "tickcolor": "rgb(36,36,36)",
              "ticks": "outside"
             }
            },
            "type": "scatterternary"
           }
          ],
          "surface": [
           {
            "colorbar": {
             "outlinewidth": 1,
             "tickcolor": "rgb(36,36,36)",
             "ticks": "outside"
            },
            "colorscale": [
             [
              0,
              "#440154"
             ],
             [
              0.1111111111111111,
              "#482878"
             ],
             [
              0.2222222222222222,
              "#3e4989"
             ],
             [
              0.3333333333333333,
              "#31688e"
             ],
             [
              0.4444444444444444,
              "#26828e"
             ],
             [
              0.5555555555555556,
              "#1f9e89"
             ],
             [
              0.6666666666666666,
              "#35b779"
             ],
             [
              0.7777777777777778,
              "#6ece58"
             ],
             [
              0.8888888888888888,
              "#b5de2b"
             ],
             [
              1,
              "#fde725"
             ]
            ],
            "type": "surface"
           }
          ],
          "table": [
           {
            "cells": {
             "fill": {
              "color": "rgb(237,237,237)"
             },
             "line": {
              "color": "white"
             }
            },
            "header": {
             "fill": {
              "color": "rgb(217,217,217)"
             },
             "line": {
              "color": "white"
             }
            },
            "type": "table"
           }
          ]
         },
         "layout": {
          "annotationdefaults": {
           "arrowhead": 0,
           "arrowwidth": 1
          },
          "autotypenumbers": "strict",
          "coloraxis": {
           "colorbar": {
            "outlinewidth": 1,
            "tickcolor": "rgb(36,36,36)",
            "ticks": "outside"
           }
          },
          "colorscale": {
           "diverging": [
            [
             0,
             "rgb(103,0,31)"
            ],
            [
             0.1,
             "rgb(178,24,43)"
            ],
            [
             0.2,
             "rgb(214,96,77)"
            ],
            [
             0.3,
             "rgb(244,165,130)"
            ],
            [
             0.4,
             "rgb(253,219,199)"
            ],
            [
             0.5,
             "rgb(247,247,247)"
            ],
            [
             0.6,
             "rgb(209,229,240)"
            ],
            [
             0.7,
             "rgb(146,197,222)"
            ],
            [
             0.8,
             "rgb(67,147,195)"
            ],
            [
             0.9,
             "rgb(33,102,172)"
            ],
            [
             1,
             "rgb(5,48,97)"
            ]
           ],
           "sequential": [
            [
             0,
             "#440154"
            ],
            [
             0.1111111111111111,
             "#482878"
            ],
            [
             0.2222222222222222,
             "#3e4989"
            ],
            [
             0.3333333333333333,
             "#31688e"
            ],
            [
             0.4444444444444444,
             "#26828e"
            ],
            [
             0.5555555555555556,
             "#1f9e89"
            ],
            [
             0.6666666666666666,
             "#35b779"
            ],
            [
             0.7777777777777778,
             "#6ece58"
            ],
            [
             0.8888888888888888,
             "#b5de2b"
            ],
            [
             1,
             "#fde725"
            ]
           ],
           "sequentialminus": [
            [
             0,
             "#440154"
            ],
            [
             0.1111111111111111,
             "#482878"
            ],
            [
             0.2222222222222222,
             "#3e4989"
            ],
            [
             0.3333333333333333,
             "#31688e"
            ],
            [
             0.4444444444444444,
             "#26828e"
            ],
            [
             0.5555555555555556,
             "#1f9e89"
            ],
            [
             0.6666666666666666,
             "#35b779"
            ],
            [
             0.7777777777777778,
             "#6ece58"
            ],
            [
             0.8888888888888888,
             "#b5de2b"
            ],
            [
             1,
             "#fde725"
            ]
           ]
          },
          "colorway": [
           "#1F77B4",
           "#FF7F0E",
           "#2CA02C",
           "#D62728",
           "#9467BD",
           "#8C564B",
           "#E377C2",
           "#7F7F7F",
           "#BCBD22",
           "#17BECF"
          ],
          "font": {
           "color": "rgb(36,36,36)"
          },
          "geo": {
           "bgcolor": "white",
           "lakecolor": "white",
           "landcolor": "white",
           "showlakes": true,
           "showland": true,
           "subunitcolor": "white"
          },
          "hoverlabel": {
           "align": "left"
          },
          "hovermode": "closest",
          "mapbox": {
           "style": "light"
          },
          "paper_bgcolor": "white",
          "plot_bgcolor": "white",
          "polar": {
           "angularaxis": {
            "gridcolor": "rgb(232,232,232)",
            "linecolor": "rgb(36,36,36)",
            "showgrid": false,
            "showline": true,
            "ticks": "outside"
           },
           "bgcolor": "white",
           "radialaxis": {
            "gridcolor": "rgb(232,232,232)",
            "linecolor": "rgb(36,36,36)",
            "showgrid": false,
            "showline": true,
            "ticks": "outside"
           }
          },
          "scene": {
           "xaxis": {
            "backgroundcolor": "white",
            "gridcolor": "rgb(232,232,232)",
            "gridwidth": 2,
            "linecolor": "rgb(36,36,36)",
            "showbackground": true,
            "showgrid": false,
            "showline": true,
            "ticks": "outside",
            "zeroline": false,
            "zerolinecolor": "rgb(36,36,36)"
           },
           "yaxis": {
            "backgroundcolor": "white",
            "gridcolor": "rgb(232,232,232)",
            "gridwidth": 2,
            "linecolor": "rgb(36,36,36)",
            "showbackground": true,
            "showgrid": false,
            "showline": true,
            "ticks": "outside",
            "zeroline": false,
            "zerolinecolor": "rgb(36,36,36)"
           },
           "zaxis": {
            "backgroundcolor": "white",
            "gridcolor": "rgb(232,232,232)",
            "gridwidth": 2,
            "linecolor": "rgb(36,36,36)",
            "showbackground": true,
            "showgrid": false,
            "showline": true,
            "ticks": "outside",
            "zeroline": false,
            "zerolinecolor": "rgb(36,36,36)"
           }
          },
          "shapedefaults": {
           "fillcolor": "black",
           "line": {
            "width": 0
           },
           "opacity": 0.3
          },
          "ternary": {
           "aaxis": {
            "gridcolor": "rgb(232,232,232)",
            "linecolor": "rgb(36,36,36)",
            "showgrid": false,
            "showline": true,
            "ticks": "outside"
           },
           "baxis": {
            "gridcolor": "rgb(232,232,232)",
            "linecolor": "rgb(36,36,36)",
            "showgrid": false,
            "showline": true,
            "ticks": "outside"
           },
           "bgcolor": "white",
           "caxis": {
            "gridcolor": "rgb(232,232,232)",
            "linecolor": "rgb(36,36,36)",
            "showgrid": false,
            "showline": true,
            "ticks": "outside"
           }
          },
          "title": {
           "x": 0.05
          },
          "xaxis": {
           "automargin": true,
           "gridcolor": "rgb(232,232,232)",
           "linecolor": "rgb(36,36,36)",
           "showgrid": false,
           "showline": true,
           "ticks": "outside",
           "title": {
            "standoff": 15
           },
           "zeroline": false,
           "zerolinecolor": "rgb(36,36,36)"
          },
          "yaxis": {
           "automargin": true,
           "gridcolor": "rgb(232,232,232)",
           "linecolor": "rgb(36,36,36)",
           "showgrid": false,
           "showline": true,
           "ticks": "outside",
           "title": {
            "standoff": 15
           },
           "zeroline": false,
           "zerolinecolor": "rgb(36,36,36)"
          }
         }
        },
        "width": 1000,
        "xaxis": {
         "anchor": "y",
         "domain": [
          0,
          0.2822222222222222
         ],
         "range": [
          -1,
          1.3
         ],
         "showticklabels": true
        },
        "xaxis2": {
         "anchor": "y2",
         "domain": [
          0.34888888888888886,
          0.6311111111111111
         ],
         "range": [
          -1,
          1.3
         ],
         "showticklabels": true
        },
        "xaxis3": {
         "anchor": "y3",
         "domain": [
          0.6977777777777777,
          0.98
         ],
         "range": [
          -1,
          1.3
         ],
         "showticklabels": true
        },
        "xaxis4": {
         "anchor": "y4",
         "domain": [
          0,
          0.2822222222222222
         ],
         "range": [
          -1,
          1.3
         ],
         "showticklabels": true
        },
        "xaxis5": {
         "anchor": "y5",
         "domain": [
          0.34888888888888886,
          0.6311111111111111
         ],
         "range": [
          -1,
          1.3
         ],
         "showticklabels": true
        },
        "xaxis6": {
         "anchor": "y6",
         "domain": [
          0.6977777777777777,
          0.98
         ],
         "range": [
          -1,
          1.3
         ],
         "showticklabels": true
        },
        "xaxis7": {
         "anchor": "y7",
         "domain": [
          0,
          0.2822222222222222
         ],
         "range": [
          -1,
          1.3
         ],
         "showticklabels": true
        },
        "xaxis8": {
         "anchor": "y8",
         "domain": [
          0.34888888888888886,
          0.6311111111111111
         ],
         "range": [
          -1,
          1.3
         ],
         "showticklabels": true
        },
        "xaxis9": {
         "anchor": "y9",
         "domain": [
          0.6977777777777777,
          0.98
         ],
         "range": [
          -1,
          1.3
         ],
         "showticklabels": true
        },
        "yaxis": {
         "anchor": "x",
         "domain": [
          0.7533333333333334,
          1
         ],
         "showticklabels": false
        },
        "yaxis2": {
         "anchor": "x2",
         "domain": [
          0.7533333333333334,
          1
         ],
         "showticklabels": false
        },
        "yaxis3": {
         "anchor": "x3",
         "domain": [
          0.7533333333333334,
          1
         ],
         "showticklabels": false
        },
        "yaxis4": {
         "anchor": "x4",
         "domain": [
          0.3766666666666667,
          0.6233333333333334
         ],
         "showticklabels": false
        },
        "yaxis5": {
         "anchor": "x5",
         "domain": [
          0.3766666666666667,
          0.6233333333333334
         ],
         "showticklabels": false
        },
        "yaxis6": {
         "anchor": "x6",
         "domain": [
          0.3766666666666667,
          0.6233333333333334
         ],
         "showticklabels": false
        },
        "yaxis7": {
         "anchor": "x7",
         "domain": [
          0,
          0.24666666666666667
         ],
         "showticklabels": false
        },
        "yaxis8": {
         "anchor": "x8",
         "domain": [
          0,
          0.24666666666666667
         ],
         "showticklabels": false
        },
        "yaxis9": {
         "anchor": "x9",
         "domain": [
          0,
          0.24666666666666667
         ],
         "showticklabels": false
        }
       }
      }
     },
     "metadata": {
      "transient": {}
     },
     "output_type": "display_data"
    }
   ],
   "source": [
    "# outcomes = [\n",
    "#   \"ADHD|PredictedADHD_percent\",\"ADHD|PredictedBIPOLAR_percent\",\"ADHD|PredictedSCHZ_percent\",\n",
    "#   \"BIPOLAR|PredictedADHD_percent\",\"BIPOLAR|PredictedBIPOLAR_percent\",\"BIPOLAR|PredictedSCHZ_percent\",\n",
    "#   \"SCHZ|PredictedADHD_percent\",\"SCHZ|PredictedBIPOLAR_percent\",\"SCHZ|PredictedSCHZ_percent\"\n",
    "# ]\n",
    "diag_list = ['SCZ','BD','ADHD']\n",
    "network_list = [\n",
    "  'Limbic',\n",
    "  'Salience / Ventral Attention',\n",
    "  'Dorsal Attention',\n",
    "  'Visual',\n",
    "  'Control',\n",
    "  'Somatomotor',\n",
    "  'Default'\n",
    "]\n",
    "arr_plot = make_subplots(\n",
    "  rows = 3,\n",
    "  cols = 3,\n",
    "  row_titles=diag_list,\n",
    "  column_titles=diag_list,\n",
    "  x_title='Predicted',\n",
    "  y_title='True',\n",
    "  vertical_spacing=.13\n",
    ")\n",
    "ind = 0\n",
    "\n",
    "for i in diag_list:\n",
    "  for j in diag_list:\n",
    "    outcome = f'{i}|Predicted{j}_percent'\n",
    "    sub_df = fi_df.loc[(fi_df['True']==i) & (fi_df['Pred']==j)]\n",
    "    print(outcome)\n",
    "    sub_df['n_perm'] = sub_df['n_perm'].astype(str)\n",
    "    for net in network_list:\n",
    "      net_df = sub_df.loc[sub_df['Network Subset']==net]\n",
    "      if ind==0:\n",
    "        arr_plot.add_trace(\n",
    "          go.Bar(\n",
    "            # sub_df,\n",
    "            y=net_df[\"Network Subset\"],\n",
    "            x=net_df[\"Cohens_d\"],\n",
    "            marker_color=net_df[\"color\"],\n",
    "            name=f'{net} ({target_dict[net][\"Number Permuted\"]})',\n",
    "            text=net_df[\"p_past_threshold\"],\n",
    "            textposition=\"outside\",\n",
    "            showlegend=True,\n",
    "            orientation='h'\n",
    "          ),\n",
    "          row=diag_list.index(i)+1,\n",
    "          col=diag_list.index(j)+1\n",
    "        )\n",
    "      else:\n",
    "        arr_plot.add_trace(\n",
    "          go.Bar(\n",
    "            # sub_df,\n",
    "            y=net_df[\"Network Subset\"],\n",
    "            x=net_df[\"Cohens_d\"],\n",
    "            marker_color=net_df[\"color\"],\n",
    "            name=f'{net} ({target_dict[net][\"Number Permuted\"]})',\n",
    "            text=net_df[\"p_past_threshold\"],\n",
    "            textposition=\"outside\",\n",
    "            showlegend=False,\n",
    "            orientation='h'\n",
    "          ),\n",
    "          row=diag_list.index(i)+1,\n",
    "          col=diag_list.index(j)+1\n",
    "        )\n",
    "    ind+=1\n",
    "\n",
    "      \n",
    "\n",
    "arr_plot.update_layout(\n",
    "  height=760, \n",
    "  width=1000, \n",
    "  # title_text=f'Network Connection Feature Importance',\n",
    "  showlegend=True,\n",
    "  legend=dict(\n",
    "    orientation='v',\n",
    "    yanchor=\"top\",\n",
    "    y=1,\n",
    "    xanchor=\"right\",\n",
    "    x=1.5,\n",
    "    traceorder='reversed',\n",
    "    font=dict(\n",
    "      # family=\"Times New Roman\",\n",
    "      size=14,\n",
    "      color=\"Black\"\n",
    "    )\n",
    "  ),\n",
    "  font=dict(\n",
    "    # family=\"Times New Roman\",\n",
    "    size=12,\n",
    "    color=\"Black\"\n",
    "    ),\n",
    "  template='simple_white',\n",
    "  paper_bgcolor='White',\n",
    "  plot_bgcolor='White'\n",
    ")\n",
    "\n",
    "arr_plot.update_yaxes(showticklabels= False)\n",
    "arr_plot.update_xaxes(range = [-1,1.3], showticklabels=True)\n",
    "arr_plot.for_each_annotation(\n",
    "  lambda a:  a.update(x = 0,textangle=-90, xanchor='right', xshift=-40) if a.x ==.98 else\n",
    "  a.update(xshift = -60) if a.x ==0 else\n",
    "  a.update(yanchor = 'bottom', y=1,yshift = 25) if a.text == \"Predicted\" else()\n",
    "  # a.update(x = -0.07) if a.text in row_titles else()\n",
    ")\n",
    "arr_plot.update_layout(margin=dict(t=60, l=80))\n",
    "arr_plot.write_html('FeatureImportance_Results_03.html')\n",
    "arr_plot.update_layout(\n",
    "    font=dict(\n",
    "        family=\"Arial\",\n",
    "        size=12,\n",
    "        color=\"Black\"\n",
    "      ),\n",
    "  )\n",
    "arr_plot.write_image('FeatureImportance_Results_03.jpg', scale=4)\n",
    "arr_plot.show()"
   ]
  }
 ],
 "metadata": {
  "kernelspec": {
   "display_name": "Python 3.9.2 64-bit",
   "metadata": {
    "interpreter": {
     "hash": "8a9165a38afef2ca63a793efc4b24bbf7f99f4e695b0f158539651a5958eadc2"
    }
   },
   "name": "python3"
  },
  "language_info": {
   "codemirror_mode": {
    "name": "ipython",
    "version": 3
   },
   "file_extension": ".py",
   "mimetype": "text/x-python",
   "name": "python",
   "nbconvert_exporter": "python",
   "pygments_lexer": "ipython3",
   "version": "3.9.2"
  },
  "orig_nbformat": 2
 },
 "nbformat": 4,
 "nbformat_minor": 2
}
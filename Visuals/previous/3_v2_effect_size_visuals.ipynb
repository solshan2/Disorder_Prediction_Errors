{
 "cells": [
  {
   "cell_type": "markdown",
   "metadata": {},
   "source": [
    "# Feature Importance Permutation Testing Visualization and Analysis"
   ]
  },
  {
   "cell_type": "markdown",
   "metadata": {},
   "source": [
    "\n",
    "## Imports"
   ]
  },
  {
   "cell_type": "code",
   "execution_count": 1,
   "metadata": {},
   "outputs": [],
   "source": [
    "import plotly.express as px\n",
    "import plotly.graph_objects as go\n",
    "from plotly.subplots import make_subplots\n",
    "from IPython.display import Image\n",
    "import os\n",
    "import numpy as np\n",
    "import pandas as pd\n",
    "import datetime as dt"
   ]
  },
  {
   "cell_type": "markdown",
   "metadata": {},
   "source": [
    "## Read in Data"
   ]
  },
  {
   "cell_type": "code",
   "execution_count": 9,
   "metadata": {},
   "outputs": [
    {
     "data": {
      "text/html": "<div>\n<style scoped>\n    .dataframe tbody tr th:only-of-type {\n        vertical-align: middle;\n    }\n\n    .dataframe tbody tr th {\n        vertical-align: top;\n    }\n\n    .dataframe thead th {\n        text-align: right;\n    }\n</style>\n<table border=\"1\" class=\"dataframe\">\n  <thead>\n    <tr style=\"text-align: right;\">\n      <th></th>\n      <th>Network Subset</th>\n      <th>Mean</th>\n      <th>SD</th>\n      <th>r-Mean</th>\n      <th>r_SD</th>\n      <th>statistic</th>\n      <th>p.value</th>\n      <th>Cohens_d</th>\n      <th>parameter</th>\n      <th>conf.int</th>\n      <th>...</th>\n      <th>stderr</th>\n      <th>metric</th>\n      <th>True</th>\n      <th>Pred</th>\n      <th>n_perm</th>\n      <th>CI</th>\n      <th>CI_low</th>\n      <th>CI_high</th>\n      <th>p_past_threshold</th>\n      <th>0.000793651</th>\n    </tr>\n  </thead>\n  <tbody>\n    <tr>\n      <th>14</th>\n      <td>Limbic</td>\n      <td>0.505623</td>\n      <td>0.093794</td>\n      <td>0.508320</td>\n      <td>0.091618</td>\n      <td>-0.650525</td>\n      <td>5.154279e-01</td>\n      <td>-0.029092</td>\n      <td>1996.899811</td>\n      <td>-0.010829</td>\n      <td>...</td>\n      <td>0.004146</td>\n      <td>SCZ.PredictedSCZ_percent</td>\n      <td>SCZ</td>\n      <td>SCZ</td>\n      <td>2322</td>\n      <td>0.95</td>\n      <td>-0.116746</td>\n      <td>0.058568</td>\n      <td>NaN</td>\n      <td>NaN</td>\n    </tr>\n    <tr>\n      <th>15</th>\n      <td>Salience / Ventral Attention</td>\n      <td>0.483662</td>\n      <td>0.083274</td>\n      <td>0.500910</td>\n      <td>0.095857</td>\n      <td>4.295475</td>\n      <td>1.828470e-05</td>\n      <td>-0.192099</td>\n      <td>1959.699209</td>\n      <td>0.025123</td>\n      <td>...</td>\n      <td>0.004015</td>\n      <td>SCZ.PredictedSCZ_percent</td>\n      <td>SCZ</td>\n      <td>SCZ</td>\n      <td>4147</td>\n      <td>0.95</td>\n      <td>-0.279930</td>\n      <td>-0.104221</td>\n      <td>*</td>\n      <td>NaN</td>\n    </tr>\n    <tr>\n      <th>16</th>\n      <td>Dorsal Attention</td>\n      <td>0.509410</td>\n      <td>0.084159</td>\n      <td>0.498789</td>\n      <td>0.097222</td>\n      <td>2.611905</td>\n      <td>9.072748e-03</td>\n      <td>0.116808</td>\n      <td>1957.798605</td>\n      <td>0.002646</td>\n      <td>...</td>\n      <td>0.004066</td>\n      <td>SCZ.PredictedSCZ_percent</td>\n      <td>SCZ</td>\n      <td>SCZ</td>\n      <td>4849</td>\n      <td>0.95</td>\n      <td>0.029066</td>\n      <td>0.204520</td>\n      <td>NaN</td>\n      <td>NaN</td>\n    </tr>\n    <tr>\n      <th>17</th>\n      <td>Visual</td>\n      <td>0.484329</td>\n      <td>0.084344</td>\n      <td>0.496360</td>\n      <td>0.097274</td>\n      <td>2.955085</td>\n      <td>3.163143e-03</td>\n      <td>-0.132155</td>\n      <td>1958.686329</td>\n      <td>0.020016</td>\n      <td>...</td>\n      <td>0.004071</td>\n      <td>SCZ.PredictedSCZ_percent</td>\n      <td>SCZ</td>\n      <td>SCZ</td>\n      <td>5365</td>\n      <td>0.95</td>\n      <td>-0.219887</td>\n      <td>-0.044391</td>\n      <td>NaN</td>\n      <td>NaN</td>\n    </tr>\n    <tr>\n      <th>18</th>\n      <td>Control</td>\n      <td>0.510394</td>\n      <td>0.096929</td>\n      <td>0.493269</td>\n      <td>0.098505</td>\n      <td>3.918637</td>\n      <td>9.204900e-05</td>\n      <td>0.175247</td>\n      <td>1997.480608</td>\n      <td>0.008555</td>\n      <td>...</td>\n      <td>0.004370</td>\n      <td>SCZ.PredictedSCZ_percent</td>\n      <td>SCZ</td>\n      <td>SCZ</td>\n      <td>5535</td>\n      <td>0.95</td>\n      <td>0.087404</td>\n      <td>0.263045</td>\n      <td>*</td>\n      <td>NaN</td>\n    </tr>\n    <tr>\n      <th>...</th>\n      <td>...</td>\n      <td>...</td>\n      <td>...</td>\n      <td>...</td>\n      <td>...</td>\n      <td>...</td>\n      <td>...</td>\n      <td>...</td>\n      <td>...</td>\n      <td>...</td>\n      <td>...</td>\n      <td>...</td>\n      <td>...</td>\n      <td>...</td>\n      <td>...</td>\n      <td>...</td>\n      <td>...</td>\n      <td>...</td>\n      <td>...</td>\n      <td>...</td>\n      <td>...</td>\n    </tr>\n    <tr>\n      <th>72</th>\n      <td>Dorsal Attention</td>\n      <td>0.354512</td>\n      <td>0.125068</td>\n      <td>0.281988</td>\n      <td>0.132205</td>\n      <td>12.602052</td>\n      <td>4.321970e-35</td>\n      <td>0.563581</td>\n      <td>1991.877812</td>\n      <td>0.061238</td>\n      <td>...</td>\n      <td>0.005755</td>\n      <td>ADHD.PredictedADHD_percent</td>\n      <td>ADHD</td>\n      <td>ADHD</td>\n      <td>4849</td>\n      <td>0.95</td>\n      <td>0.474136</td>\n      <td>0.652890</td>\n      <td>*</td>\n      <td>NaN</td>\n    </tr>\n    <tr>\n      <th>73</th>\n      <td>Visual</td>\n      <td>0.357874</td>\n      <td>0.121691</td>\n      <td>0.273408</td>\n      <td>0.133085</td>\n      <td>-14.811595</td>\n      <td>3.716950e-47</td>\n      <td>0.662395</td>\n      <td>1982.205317</td>\n      <td>-0.073282</td>\n      <td>...</td>\n      <td>0.005703</td>\n      <td>ADHD.PredictedADHD_percent</td>\n      <td>ADHD</td>\n      <td>ADHD</td>\n      <td>5365</td>\n      <td>0.95</td>\n      <td>0.572290</td>\n      <td>0.752342</td>\n      <td>*</td>\n      <td>NaN</td>\n    </tr>\n    <tr>\n      <th>74</th>\n      <td>Control</td>\n      <td>0.335759</td>\n      <td>0.119518</td>\n      <td>0.272061</td>\n      <td>0.133139</td>\n      <td>11.258494</td>\n      <td>1.525630e-28</td>\n      <td>0.503495</td>\n      <td>1975.169280</td>\n      <td>0.052602</td>\n      <td>...</td>\n      <td>0.005658</td>\n      <td>ADHD.PredictedADHD_percent</td>\n      <td>ADHD</td>\n      <td>ADHD</td>\n      <td>5535</td>\n      <td>0.95</td>\n      <td>0.414403</td>\n      <td>0.592465</td>\n      <td>*</td>\n      <td>NaN</td>\n    </tr>\n    <tr>\n      <th>75</th>\n      <td>Somatomotor</td>\n      <td>0.366670</td>\n      <td>0.122027</td>\n      <td>0.258663</td>\n      <td>0.133771</td>\n      <td>-18.863035</td>\n      <td>3.997040e-73</td>\n      <td>0.843581</td>\n      <td>1981.365342</td>\n      <td>-0.096778</td>\n      <td>...</td>\n      <td>0.005726</td>\n      <td>ADHD.PredictedADHD_percent</td>\n      <td>ADHD</td>\n      <td>ADHD</td>\n      <td>6370</td>\n      <td>0.95</td>\n      <td>0.753379</td>\n      <td>0.934954</td>\n      <td>*</td>\n      <td>NaN</td>\n    </tr>\n    <tr>\n      <th>76</th>\n      <td>Default</td>\n      <td>0.342065</td>\n      <td>0.107060</td>\n      <td>0.238261</td>\n      <td>0.130891</td>\n      <td>19.412161</td>\n      <td>8.487520e-77</td>\n      <td>0.868138</td>\n      <td>1922.397018</td>\n      <td>0.093316</td>\n      <td>...</td>\n      <td>0.005347</td>\n      <td>ADHD.PredictedADHD_percent</td>\n      <td>ADHD</td>\n      <td>ADHD</td>\n      <td>8119</td>\n      <td>0.95</td>\n      <td>0.776347</td>\n      <td>0.959730</td>\n      <td>*</td>\n      <td>NaN</td>\n    </tr>\n  </tbody>\n</table>\n<p>63 rows × 22 columns</p>\n</div>",
      "text/plain": "                  Network Subset      Mean        SD    r-Mean      r_SD  \\\n14                        Limbic  0.505623  0.093794  0.508320  0.091618   \n15  Salience / Ventral Attention  0.483662  0.083274  0.500910  0.095857   \n16              Dorsal Attention  0.509410  0.084159  0.498789  0.097222   \n17                        Visual  0.484329  0.084344  0.496360  0.097274   \n18                       Control  0.510394  0.096929  0.493269  0.098505   \n..                           ...       ...       ...       ...       ...   \n72              Dorsal Attention  0.354512  0.125068  0.281988  0.132205   \n73                        Visual  0.357874  0.121691  0.273408  0.133085   \n74                       Control  0.335759  0.119518  0.272061  0.133139   \n75                   Somatomotor  0.366670  0.122027  0.258663  0.133771   \n76                       Default  0.342065  0.107060  0.238261  0.130891   \n\n    statistic       p.value  Cohens_d    parameter  conf.int  ...    stderr  \\\n14  -0.650525  5.154279e-01 -0.029092  1996.899811 -0.010829  ...  0.004146   \n15   4.295475  1.828470e-05 -0.192099  1959.699209  0.025123  ...  0.004015   \n16   2.611905  9.072748e-03  0.116808  1957.798605  0.002646  ...  0.004066   \n17   2.955085  3.163143e-03 -0.132155  1958.686329  0.020016  ...  0.004071   \n18   3.918637  9.204900e-05  0.175247  1997.480608  0.008555  ...  0.004370   \n..        ...           ...       ...          ...       ...  ...       ...   \n72  12.602052  4.321970e-35  0.563581  1991.877812  0.061238  ...  0.005755   \n73 -14.811595  3.716950e-47  0.662395  1982.205317 -0.073282  ...  0.005703   \n74  11.258494  1.525630e-28  0.503495  1975.169280  0.052602  ...  0.005658   \n75 -18.863035  3.997040e-73  0.843581  1981.365342 -0.096778  ...  0.005726   \n76  19.412161  8.487520e-77  0.868138  1922.397018  0.093316  ...  0.005347   \n\n                        metric  True  Pred n_perm    CI    CI_low   CI_high  \\\n14    SCZ.PredictedSCZ_percent   SCZ   SCZ   2322  0.95 -0.116746  0.058568   \n15    SCZ.PredictedSCZ_percent   SCZ   SCZ   4147  0.95 -0.279930 -0.104221   \n16    SCZ.PredictedSCZ_percent   SCZ   SCZ   4849  0.95  0.029066  0.204520   \n17    SCZ.PredictedSCZ_percent   SCZ   SCZ   5365  0.95 -0.219887 -0.044391   \n18    SCZ.PredictedSCZ_percent   SCZ   SCZ   5535  0.95  0.087404  0.263045   \n..                         ...   ...   ...    ...   ...       ...       ...   \n72  ADHD.PredictedADHD_percent  ADHD  ADHD   4849  0.95  0.474136  0.652890   \n73  ADHD.PredictedADHD_percent  ADHD  ADHD   5365  0.95  0.572290  0.752342   \n74  ADHD.PredictedADHD_percent  ADHD  ADHD   5535  0.95  0.414403  0.592465   \n75  ADHD.PredictedADHD_percent  ADHD  ADHD   6370  0.95  0.753379  0.934954   \n76  ADHD.PredictedADHD_percent  ADHD  ADHD   8119  0.95  0.776347  0.959730   \n\n    p_past_threshold  0.000793651  \n14               NaN          NaN  \n15                 *          NaN  \n16               NaN          NaN  \n17               NaN          NaN  \n18                 *          NaN  \n..               ...          ...  \n72                 *          NaN  \n73                 *          NaN  \n74                 *          NaN  \n75                 *          NaN  \n76                 *          NaN  \n\n[63 rows x 22 columns]"
     },
     "execution_count": 9,
     "metadata": {},
     "output_type": "execute_result"
    }
   ],
   "source": [
    "# fi_df = pd.read_csv(\"FeatureImportance_Results_indexed.csv\")\n",
    "fi_df = pd.read_csv(\"network permutation t test results summary.csv\")\n",
    "fi_df = fi_df[~pd.isna(fi_df['Pred'])]\n",
    "fi_df#['Network Subset'].unique()"
   ]
  },
  {
   "cell_type": "markdown",
   "metadata": {},
   "source": [
    "## SetUp Color Mappings"
   ]
  },
  {
   "cell_type": "code",
   "execution_count": 10,
   "metadata": {},
   "outputs": [
    {
     "data": {
      "text/plain": "['Limbic',\n 'Salience / Ventral Attention',\n 'Dorsal Attention',\n 'Visual',\n 'Control',\n 'Somatomotor',\n 'Default']"
     },
     "execution_count": 10,
     "metadata": {},
     "output_type": "execute_result"
    }
   ],
   "source": [
    "size_index_df = fi_df[[\"Network Subset\",\"n_perm\"]].drop_duplicates(keep=\"first\")\n",
    "size_index_df.reset_index(inplace=True,drop=True)\n",
    "list(size_index_df[\"Network Subset\"])"
   ]
  },
  {
   "cell_type": "code",
   "execution_count": 11,
   "metadata": {},
   "outputs": [
    {
     "data": {
      "text/plain": "['rgb(48, 18, 59)',\n 'rgb(66, 132, 242)',\n 'rgb(33, 226, 181)',\n 'rgb(164, 252, 59)',\n 'rgb(247, 184, 54)',\n 'rgb(226, 70, 11)',\n 'rgb(122, 4, 2)']"
     },
     "execution_count": 11,
     "metadata": {},
     "output_type": "execute_result"
    }
   ],
   "source": [
    "\n",
    "n_colors = len(size_index_df)#len(fi_df['Network Subset'].unique())\n",
    "colors = px.colors.sample_colorscale(\"turbo\", [n/(n_colors -1) for n in range(n_colors)])\n",
    "colors"
   ]
  },
  {
   "cell_type": "code",
   "execution_count": 12,
   "metadata": {},
   "outputs": [
    {
     "name": "stdout",
     "output_type": "stream",
     "text": [
      "{'Limbic': {'Network Subset': 'Limbic', 'Number Permuted': 2322, 'color': 'rgb(48, 18, 59)'}, 'Salience / Ventral Attention': {'Network Subset': 'Salience / Ventral Attention', 'Number Permuted': 4147, 'color': 'rgb(66, 132, 242)'}, 'Dorsal Attention': {'Network Subset': 'Dorsal Attention', 'Number Permuted': 4849, 'color': 'rgb(33, 226, 181)'}, 'Visual': {'Network Subset': 'Visual', 'Number Permuted': 5365, 'color': 'rgb(164, 252, 59)'}, 'Control': {'Network Subset': 'Control', 'Number Permuted': 5535, 'color': 'rgb(247, 184, 54)'}, 'Somatomotor': {'Network Subset': 'Somatomotor', 'Number Permuted': 6370, 'color': 'rgb(226, 70, 11)'}, 'Default': {'Network Subset': 'Default', 'Number Permuted': 8119, 'color': 'rgb(122, 4, 2)'}}\n"
     ]
    },
    {
     "data": {
      "text/html": "<div>\n<style scoped>\n    .dataframe tbody tr th:only-of-type {\n        vertical-align: middle;\n    }\n\n    .dataframe tbody tr th {\n        vertical-align: top;\n    }\n\n    .dataframe thead th {\n        text-align: right;\n    }\n</style>\n<table border=\"1\" class=\"dataframe\">\n  <thead>\n    <tr style=\"text-align: right;\">\n      <th></th>\n      <th>Network Subset</th>\n      <th>Mean</th>\n      <th>SD</th>\n      <th>r-Mean</th>\n      <th>r_SD</th>\n      <th>statistic</th>\n      <th>p.value</th>\n      <th>Cohens_d</th>\n      <th>parameter</th>\n      <th>conf.int</th>\n      <th>...</th>\n      <th>True</th>\n      <th>Pred</th>\n      <th>n_perm</th>\n      <th>CI</th>\n      <th>CI_low</th>\n      <th>CI_high</th>\n      <th>p_past_threshold</th>\n      <th>0.000793651</th>\n      <th>Number Permuted</th>\n      <th>color</th>\n    </tr>\n  </thead>\n  <tbody>\n    <tr>\n      <th>0</th>\n      <td>Limbic</td>\n      <td>0.505623</td>\n      <td>0.093794</td>\n      <td>0.508320</td>\n      <td>0.091618</td>\n      <td>-0.650525</td>\n      <td>5.154279e-01</td>\n      <td>-0.029092</td>\n      <td>1996.899811</td>\n      <td>-0.010829</td>\n      <td>...</td>\n      <td>SCZ</td>\n      <td>SCZ</td>\n      <td>2322</td>\n      <td>0.95</td>\n      <td>-0.116746</td>\n      <td>0.058568</td>\n      <td>NaN</td>\n      <td>NaN</td>\n      <td>2322</td>\n      <td>rgb(48, 18, 59)</td>\n    </tr>\n    <tr>\n      <th>1</th>\n      <td>Salience / Ventral Attention</td>\n      <td>0.483662</td>\n      <td>0.083274</td>\n      <td>0.500910</td>\n      <td>0.095857</td>\n      <td>4.295475</td>\n      <td>1.828470e-05</td>\n      <td>-0.192099</td>\n      <td>1959.699209</td>\n      <td>0.025123</td>\n      <td>...</td>\n      <td>SCZ</td>\n      <td>SCZ</td>\n      <td>4147</td>\n      <td>0.95</td>\n      <td>-0.279930</td>\n      <td>-0.104221</td>\n      <td>*</td>\n      <td>NaN</td>\n      <td>4147</td>\n      <td>rgb(66, 132, 242)</td>\n    </tr>\n    <tr>\n      <th>2</th>\n      <td>Dorsal Attention</td>\n      <td>0.509410</td>\n      <td>0.084159</td>\n      <td>0.498789</td>\n      <td>0.097222</td>\n      <td>2.611905</td>\n      <td>9.072748e-03</td>\n      <td>0.116808</td>\n      <td>1957.798605</td>\n      <td>0.002646</td>\n      <td>...</td>\n      <td>SCZ</td>\n      <td>SCZ</td>\n      <td>4849</td>\n      <td>0.95</td>\n      <td>0.029066</td>\n      <td>0.204520</td>\n      <td>NaN</td>\n      <td>NaN</td>\n      <td>4849</td>\n      <td>rgb(33, 226, 181)</td>\n    </tr>\n    <tr>\n      <th>3</th>\n      <td>Visual</td>\n      <td>0.484329</td>\n      <td>0.084344</td>\n      <td>0.496360</td>\n      <td>0.097274</td>\n      <td>2.955085</td>\n      <td>3.163143e-03</td>\n      <td>-0.132155</td>\n      <td>1958.686329</td>\n      <td>0.020016</td>\n      <td>...</td>\n      <td>SCZ</td>\n      <td>SCZ</td>\n      <td>5365</td>\n      <td>0.95</td>\n      <td>-0.219887</td>\n      <td>-0.044391</td>\n      <td>NaN</td>\n      <td>NaN</td>\n      <td>5365</td>\n      <td>rgb(164, 252, 59)</td>\n    </tr>\n    <tr>\n      <th>4</th>\n      <td>Control</td>\n      <td>0.510394</td>\n      <td>0.096929</td>\n      <td>0.493269</td>\n      <td>0.098505</td>\n      <td>3.918637</td>\n      <td>9.204900e-05</td>\n      <td>0.175247</td>\n      <td>1997.480608</td>\n      <td>0.008555</td>\n      <td>...</td>\n      <td>SCZ</td>\n      <td>SCZ</td>\n      <td>5535</td>\n      <td>0.95</td>\n      <td>0.087404</td>\n      <td>0.263045</td>\n      <td>*</td>\n      <td>NaN</td>\n      <td>5535</td>\n      <td>rgb(247, 184, 54)</td>\n    </tr>\n    <tr>\n      <th>...</th>\n      <td>...</td>\n      <td>...</td>\n      <td>...</td>\n      <td>...</td>\n      <td>...</td>\n      <td>...</td>\n      <td>...</td>\n      <td>...</td>\n      <td>...</td>\n      <td>...</td>\n      <td>...</td>\n      <td>...</td>\n      <td>...</td>\n      <td>...</td>\n      <td>...</td>\n      <td>...</td>\n      <td>...</td>\n      <td>...</td>\n      <td>...</td>\n      <td>...</td>\n      <td>...</td>\n    </tr>\n    <tr>\n      <th>58</th>\n      <td>Dorsal Attention</td>\n      <td>0.354512</td>\n      <td>0.125068</td>\n      <td>0.281988</td>\n      <td>0.132205</td>\n      <td>12.602052</td>\n      <td>4.321970e-35</td>\n      <td>0.563581</td>\n      <td>1991.877812</td>\n      <td>0.061238</td>\n      <td>...</td>\n      <td>ADHD</td>\n      <td>ADHD</td>\n      <td>4849</td>\n      <td>0.95</td>\n      <td>0.474136</td>\n      <td>0.652890</td>\n      <td>*</td>\n      <td>NaN</td>\n      <td>4849</td>\n      <td>rgb(33, 226, 181)</td>\n    </tr>\n    <tr>\n      <th>59</th>\n      <td>Visual</td>\n      <td>0.357874</td>\n      <td>0.121691</td>\n      <td>0.273408</td>\n      <td>0.133085</td>\n      <td>-14.811595</td>\n      <td>3.716950e-47</td>\n      <td>0.662395</td>\n      <td>1982.205317</td>\n      <td>-0.073282</td>\n      <td>...</td>\n      <td>ADHD</td>\n      <td>ADHD</td>\n      <td>5365</td>\n      <td>0.95</td>\n      <td>0.572290</td>\n      <td>0.752342</td>\n      <td>*</td>\n      <td>NaN</td>\n      <td>5365</td>\n      <td>rgb(164, 252, 59)</td>\n    </tr>\n    <tr>\n      <th>60</th>\n      <td>Control</td>\n      <td>0.335759</td>\n      <td>0.119518</td>\n      <td>0.272061</td>\n      <td>0.133139</td>\n      <td>11.258494</td>\n      <td>1.525630e-28</td>\n      <td>0.503495</td>\n      <td>1975.169280</td>\n      <td>0.052602</td>\n      <td>...</td>\n      <td>ADHD</td>\n      <td>ADHD</td>\n      <td>5535</td>\n      <td>0.95</td>\n      <td>0.414403</td>\n      <td>0.592465</td>\n      <td>*</td>\n      <td>NaN</td>\n      <td>5535</td>\n      <td>rgb(247, 184, 54)</td>\n    </tr>\n    <tr>\n      <th>61</th>\n      <td>Somatomotor</td>\n      <td>0.366670</td>\n      <td>0.122027</td>\n      <td>0.258663</td>\n      <td>0.133771</td>\n      <td>-18.863035</td>\n      <td>3.997040e-73</td>\n      <td>0.843581</td>\n      <td>1981.365342</td>\n      <td>-0.096778</td>\n      <td>...</td>\n      <td>ADHD</td>\n      <td>ADHD</td>\n      <td>6370</td>\n      <td>0.95</td>\n      <td>0.753379</td>\n      <td>0.934954</td>\n      <td>*</td>\n      <td>NaN</td>\n      <td>6370</td>\n      <td>rgb(226, 70, 11)</td>\n    </tr>\n    <tr>\n      <th>62</th>\n      <td>Default</td>\n      <td>0.342065</td>\n      <td>0.107060</td>\n      <td>0.238261</td>\n      <td>0.130891</td>\n      <td>19.412161</td>\n      <td>8.487520e-77</td>\n      <td>0.868138</td>\n      <td>1922.397018</td>\n      <td>0.093316</td>\n      <td>...</td>\n      <td>ADHD</td>\n      <td>ADHD</td>\n      <td>8119</td>\n      <td>0.95</td>\n      <td>0.776347</td>\n      <td>0.959730</td>\n      <td>*</td>\n      <td>NaN</td>\n      <td>8119</td>\n      <td>rgb(122, 4, 2)</td>\n    </tr>\n  </tbody>\n</table>\n<p>63 rows × 24 columns</p>\n</div>",
      "text/plain": "                  Network Subset      Mean        SD    r-Mean      r_SD  \\\n0                         Limbic  0.505623  0.093794  0.508320  0.091618   \n1   Salience / Ventral Attention  0.483662  0.083274  0.500910  0.095857   \n2               Dorsal Attention  0.509410  0.084159  0.498789  0.097222   \n3                         Visual  0.484329  0.084344  0.496360  0.097274   \n4                        Control  0.510394  0.096929  0.493269  0.098505   \n..                           ...       ...       ...       ...       ...   \n58              Dorsal Attention  0.354512  0.125068  0.281988  0.132205   \n59                        Visual  0.357874  0.121691  0.273408  0.133085   \n60                       Control  0.335759  0.119518  0.272061  0.133139   \n61                   Somatomotor  0.366670  0.122027  0.258663  0.133771   \n62                       Default  0.342065  0.107060  0.238261  0.130891   \n\n    statistic       p.value  Cohens_d    parameter  conf.int  ...  True  Pred  \\\n0   -0.650525  5.154279e-01 -0.029092  1996.899811 -0.010829  ...   SCZ   SCZ   \n1    4.295475  1.828470e-05 -0.192099  1959.699209  0.025123  ...   SCZ   SCZ   \n2    2.611905  9.072748e-03  0.116808  1957.798605  0.002646  ...   SCZ   SCZ   \n3    2.955085  3.163143e-03 -0.132155  1958.686329  0.020016  ...   SCZ   SCZ   \n4    3.918637  9.204900e-05  0.175247  1997.480608  0.008555  ...   SCZ   SCZ   \n..        ...           ...       ...          ...       ...  ...   ...   ...   \n58  12.602052  4.321970e-35  0.563581  1991.877812  0.061238  ...  ADHD  ADHD   \n59 -14.811595  3.716950e-47  0.662395  1982.205317 -0.073282  ...  ADHD  ADHD   \n60  11.258494  1.525630e-28  0.503495  1975.169280  0.052602  ...  ADHD  ADHD   \n61 -18.863035  3.997040e-73  0.843581  1981.365342 -0.096778  ...  ADHD  ADHD   \n62  19.412161  8.487520e-77  0.868138  1922.397018  0.093316  ...  ADHD  ADHD   \n\n    n_perm    CI    CI_low   CI_high  p_past_threshold  0.000793651  \\\n0     2322  0.95 -0.116746  0.058568               NaN          NaN   \n1     4147  0.95 -0.279930 -0.104221                 *          NaN   \n2     4849  0.95  0.029066  0.204520               NaN          NaN   \n3     5365  0.95 -0.219887 -0.044391               NaN          NaN   \n4     5535  0.95  0.087404  0.263045                 *          NaN   \n..     ...   ...       ...       ...               ...          ...   \n58    4849  0.95  0.474136  0.652890                 *          NaN   \n59    5365  0.95  0.572290  0.752342                 *          NaN   \n60    5535  0.95  0.414403  0.592465                 *          NaN   \n61    6370  0.95  0.753379  0.934954                 *          NaN   \n62    8119  0.95  0.776347  0.959730                 *          NaN   \n\n    Number Permuted              color  \n0              2322    rgb(48, 18, 59)  \n1              4147  rgb(66, 132, 242)  \n2              4849  rgb(33, 226, 181)  \n3              5365  rgb(164, 252, 59)  \n4              5535  rgb(247, 184, 54)  \n..              ...                ...  \n58             4849  rgb(33, 226, 181)  \n59             5365  rgb(164, 252, 59)  \n60             5535  rgb(247, 184, 54)  \n61             6370   rgb(226, 70, 11)  \n62             8119     rgb(122, 4, 2)  \n\n[63 rows x 24 columns]"
     },
     "execution_count": 12,
     "metadata": {},
     "output_type": "execute_result"
    }
   ],
   "source": [
    "\n",
    "\n",
    "target_dict = {}\n",
    "color_ind = 1\n",
    "color_scale = {}\n",
    "for index, row in size_index_df.iterrows():\n",
    "  # print(color_ind)\n",
    "  target_dict[row['Network Subset']] = {\n",
    "    'Network Subset':row['Network Subset'],\n",
    "    'Number Permuted':row['n_perm'],\n",
    "    'color':colors[color_ind-1]\n",
    "  }\n",
    "  color_ind+=1\n",
    "\n",
    "print(target_dict)\n",
    "color_df = pd.DataFrame.from_dict(target_dict, orient='index')\n",
    "fi_df = pd.merge(fi_df, color_df, how='left',on='Network Subset')\n",
    "fi_df"
   ]
  },
  {
   "cell_type": "code",
   "execution_count": 13,
   "metadata": {},
   "outputs": [
    {
     "data": {
      "application/vnd.plotly.v1+json": {
       "config": {
        "plotlyServerURL": "https://plot.ly"
       },
       "data": [
        {
         "marker": {
          "color": "rgb(48, 18, 59)"
         },
         "name": "rgb(48, 18, 59)",
         "showlegend": false,
         "type": "bar",
         "x": [
          0
         ],
         "y": [
          15
         ]
        },
        {
         "marker": {
          "color": "rgb(66, 132, 242)"
         },
         "name": "rgb(66, 132, 242)",
         "showlegend": false,
         "type": "bar",
         "x": [
          1
         ],
         "y": [
          15
         ]
        },
        {
         "marker": {
          "color": "rgb(33, 226, 181)"
         },
         "name": "rgb(33, 226, 181)",
         "showlegend": false,
         "type": "bar",
         "x": [
          2
         ],
         "y": [
          15
         ]
        },
        {
         "marker": {
          "color": "rgb(164, 252, 59)"
         },
         "name": "rgb(164, 252, 59)",
         "showlegend": false,
         "type": "bar",
         "x": [
          3
         ],
         "y": [
          15
         ]
        },
        {
         "marker": {
          "color": "rgb(247, 184, 54)"
         },
         "name": "rgb(247, 184, 54)",
         "showlegend": false,
         "type": "bar",
         "x": [
          4
         ],
         "y": [
          15
         ]
        },
        {
         "marker": {
          "color": "rgb(226, 70, 11)"
         },
         "name": "rgb(226, 70, 11)",
         "showlegend": false,
         "type": "bar",
         "x": [
          5
         ],
         "y": [
          15
         ]
        },
        {
         "marker": {
          "color": "rgb(122, 4, 2)"
         },
         "name": "rgb(122, 4, 2)",
         "showlegend": false,
         "type": "bar",
         "x": [
          6
         ],
         "y": [
          15
         ]
        }
       ],
       "layout": {
        "template": {
         "data": {
          "bar": [
           {
            "error_x": {
             "color": "#2a3f5f"
            },
            "error_y": {
             "color": "#2a3f5f"
            },
            "marker": {
             "line": {
              "color": "#E5ECF6",
              "width": 0.5
             },
             "pattern": {
              "fillmode": "overlay",
              "size": 10,
              "solidity": 0.2
             }
            },
            "type": "bar"
           }
          ],
          "barpolar": [
           {
            "marker": {
             "line": {
              "color": "#E5ECF6",
              "width": 0.5
             },
             "pattern": {
              "fillmode": "overlay",
              "size": 10,
              "solidity": 0.2
             }
            },
            "type": "barpolar"
           }
          ],
          "carpet": [
           {
            "aaxis": {
             "endlinecolor": "#2a3f5f",
             "gridcolor": "white",
             "linecolor": "white",
             "minorgridcolor": "white",
             "startlinecolor": "#2a3f5f"
            },
            "baxis": {
             "endlinecolor": "#2a3f5f",
             "gridcolor": "white",
             "linecolor": "white",
             "minorgridcolor": "white",
             "startlinecolor": "#2a3f5f"
            },
            "type": "carpet"
           }
          ],
          "choropleth": [
           {
            "colorbar": {
             "outlinewidth": 0,
             "ticks": ""
            },
            "type": "choropleth"
           }
          ],
          "contour": [
           {
            "colorbar": {
             "outlinewidth": 0,
             "ticks": ""
            },
            "colorscale": [
             [
              0,
              "#0d0887"
             ],
             [
              0.1111111111111111,
              "#46039f"
             ],
             [
              0.2222222222222222,
              "#7201a8"
             ],
             [
              0.3333333333333333,
              "#9c179e"
             ],
             [
              0.4444444444444444,
              "#bd3786"
             ],
             [
              0.5555555555555556,
              "#d8576b"
             ],
             [
              0.6666666666666666,
              "#ed7953"
             ],
             [
              0.7777777777777778,
              "#fb9f3a"
             ],
             [
              0.8888888888888888,
              "#fdca26"
             ],
             [
              1,
              "#f0f921"
             ]
            ],
            "type": "contour"
           }
          ],
          "contourcarpet": [
           {
            "colorbar": {
             "outlinewidth": 0,
             "ticks": ""
            },
            "type": "contourcarpet"
           }
          ],
          "heatmap": [
           {
            "colorbar": {
             "outlinewidth": 0,
             "ticks": ""
            },
            "colorscale": [
             [
              0,
              "#0d0887"
             ],
             [
              0.1111111111111111,
              "#46039f"
             ],
             [
              0.2222222222222222,
              "#7201a8"
             ],
             [
              0.3333333333333333,
              "#9c179e"
             ],
             [
              0.4444444444444444,
              "#bd3786"
             ],
             [
              0.5555555555555556,
              "#d8576b"
             ],
             [
              0.6666666666666666,
              "#ed7953"
             ],
             [
              0.7777777777777778,
              "#fb9f3a"
             ],
             [
              0.8888888888888888,
              "#fdca26"
             ],
             [
              1,
              "#f0f921"
             ]
            ],
            "type": "heatmap"
           }
          ],
          "heatmapgl": [
           {
            "colorbar": {
             "outlinewidth": 0,
             "ticks": ""
            },
            "colorscale": [
             [
              0,
              "#0d0887"
             ],
             [
              0.1111111111111111,
              "#46039f"
             ],
             [
              0.2222222222222222,
              "#7201a8"
             ],
             [
              0.3333333333333333,
              "#9c179e"
             ],
             [
              0.4444444444444444,
              "#bd3786"
             ],
             [
              0.5555555555555556,
              "#d8576b"
             ],
             [
              0.6666666666666666,
              "#ed7953"
             ],
             [
              0.7777777777777778,
              "#fb9f3a"
             ],
             [
              0.8888888888888888,
              "#fdca26"
             ],
             [
              1,
              "#f0f921"
             ]
            ],
            "type": "heatmapgl"
           }
          ],
          "histogram": [
           {
            "marker": {
             "pattern": {
              "fillmode": "overlay",
              "size": 10,
              "solidity": 0.2
             }
            },
            "type": "histogram"
           }
          ],
          "histogram2d": [
           {
            "colorbar": {
             "outlinewidth": 0,
             "ticks": ""
            },
            "colorscale": [
             [
              0,
              "#0d0887"
             ],
             [
              0.1111111111111111,
              "#46039f"
             ],
             [
              0.2222222222222222,
              "#7201a8"
             ],
             [
              0.3333333333333333,
              "#9c179e"
             ],
             [
              0.4444444444444444,
              "#bd3786"
             ],
             [
              0.5555555555555556,
              "#d8576b"
             ],
             [
              0.6666666666666666,
              "#ed7953"
             ],
             [
              0.7777777777777778,
              "#fb9f3a"
             ],
             [
              0.8888888888888888,
              "#fdca26"
             ],
             [
              1,
              "#f0f921"
             ]
            ],
            "type": "histogram2d"
           }
          ],
          "histogram2dcontour": [
           {
            "colorbar": {
             "outlinewidth": 0,
             "ticks": ""
            },
            "colorscale": [
             [
              0,
              "#0d0887"
             ],
             [
              0.1111111111111111,
              "#46039f"
             ],
             [
              0.2222222222222222,
              "#7201a8"
             ],
             [
              0.3333333333333333,
              "#9c179e"
             ],
             [
              0.4444444444444444,
              "#bd3786"
             ],
             [
              0.5555555555555556,
              "#d8576b"
             ],
             [
              0.6666666666666666,
              "#ed7953"
             ],
             [
              0.7777777777777778,
              "#fb9f3a"
             ],
             [
              0.8888888888888888,
              "#fdca26"
             ],
             [
              1,
              "#f0f921"
             ]
            ],
            "type": "histogram2dcontour"
           }
          ],
          "mesh3d": [
           {
            "colorbar": {
             "outlinewidth": 0,
             "ticks": ""
            },
            "type": "mesh3d"
           }
          ],
          "parcoords": [
           {
            "line": {
             "colorbar": {
              "outlinewidth": 0,
              "ticks": ""
             }
            },
            "type": "parcoords"
           }
          ],
          "pie": [
           {
            "automargin": true,
            "type": "pie"
           }
          ],
          "scatter": [
           {
            "fillpattern": {
             "fillmode": "overlay",
             "size": 10,
             "solidity": 0.2
            },
            "type": "scatter"
           }
          ],
          "scatter3d": [
           {
            "line": {
             "colorbar": {
              "outlinewidth": 0,
              "ticks": ""
             }
            },
            "marker": {
             "colorbar": {
              "outlinewidth": 0,
              "ticks": ""
             }
            },
            "type": "scatter3d"
           }
          ],
          "scattercarpet": [
           {
            "marker": {
             "colorbar": {
              "outlinewidth": 0,
              "ticks": ""
             }
            },
            "type": "scattercarpet"
           }
          ],
          "scattergeo": [
           {
            "marker": {
             "colorbar": {
              "outlinewidth": 0,
              "ticks": ""
             }
            },
            "type": "scattergeo"
           }
          ],
          "scattergl": [
           {
            "marker": {
             "colorbar": {
              "outlinewidth": 0,
              "ticks": ""
             }
            },
            "type": "scattergl"
           }
          ],
          "scattermapbox": [
           {
            "marker": {
             "colorbar": {
              "outlinewidth": 0,
              "ticks": ""
             }
            },
            "type": "scattermapbox"
           }
          ],
          "scatterpolar": [
           {
            "marker": {
             "colorbar": {
              "outlinewidth": 0,
              "ticks": ""
             }
            },
            "type": "scatterpolar"
           }
          ],
          "scatterpolargl": [
           {
            "marker": {
             "colorbar": {
              "outlinewidth": 0,
              "ticks": ""
             }
            },
            "type": "scatterpolargl"
           }
          ],
          "scatterternary": [
           {
            "marker": {
             "colorbar": {
              "outlinewidth": 0,
              "ticks": ""
             }
            },
            "type": "scatterternary"
           }
          ],
          "surface": [
           {
            "colorbar": {
             "outlinewidth": 0,
             "ticks": ""
            },
            "colorscale": [
             [
              0,
              "#0d0887"
             ],
             [
              0.1111111111111111,
              "#46039f"
             ],
             [
              0.2222222222222222,
              "#7201a8"
             ],
             [
              0.3333333333333333,
              "#9c179e"
             ],
             [
              0.4444444444444444,
              "#bd3786"
             ],
             [
              0.5555555555555556,
              "#d8576b"
             ],
             [
              0.6666666666666666,
              "#ed7953"
             ],
             [
              0.7777777777777778,
              "#fb9f3a"
             ],
             [
              0.8888888888888888,
              "#fdca26"
             ],
             [
              1,
              "#f0f921"
             ]
            ],
            "type": "surface"
           }
          ],
          "table": [
           {
            "cells": {
             "fill": {
              "color": "#EBF0F8"
             },
             "line": {
              "color": "white"
             }
            },
            "header": {
             "fill": {
              "color": "#C8D4E3"
             },
             "line": {
              "color": "white"
             }
            },
            "type": "table"
           }
          ]
         },
         "layout": {
          "annotationdefaults": {
           "arrowcolor": "#2a3f5f",
           "arrowhead": 0,
           "arrowwidth": 1
          },
          "autotypenumbers": "strict",
          "coloraxis": {
           "colorbar": {
            "outlinewidth": 0,
            "ticks": ""
           }
          },
          "colorscale": {
           "diverging": [
            [
             0,
             "#8e0152"
            ],
            [
             0.1,
             "#c51b7d"
            ],
            [
             0.2,
             "#de77ae"
            ],
            [
             0.3,
             "#f1b6da"
            ],
            [
             0.4,
             "#fde0ef"
            ],
            [
             0.5,
             "#f7f7f7"
            ],
            [
             0.6,
             "#e6f5d0"
            ],
            [
             0.7,
             "#b8e186"
            ],
            [
             0.8,
             "#7fbc41"
            ],
            [
             0.9,
             "#4d9221"
            ],
            [
             1,
             "#276419"
            ]
           ],
           "sequential": [
            [
             0,
             "#0d0887"
            ],
            [
             0.1111111111111111,
             "#46039f"
            ],
            [
             0.2222222222222222,
             "#7201a8"
            ],
            [
             0.3333333333333333,
             "#9c179e"
            ],
            [
             0.4444444444444444,
             "#bd3786"
            ],
            [
             0.5555555555555556,
             "#d8576b"
            ],
            [
             0.6666666666666666,
             "#ed7953"
            ],
            [
             0.7777777777777778,
             "#fb9f3a"
            ],
            [
             0.8888888888888888,
             "#fdca26"
            ],
            [
             1,
             "#f0f921"
            ]
           ],
           "sequentialminus": [
            [
             0,
             "#0d0887"
            ],
            [
             0.1111111111111111,
             "#46039f"
            ],
            [
             0.2222222222222222,
             "#7201a8"
            ],
            [
             0.3333333333333333,
             "#9c179e"
            ],
            [
             0.4444444444444444,
             "#bd3786"
            ],
            [
             0.5555555555555556,
             "#d8576b"
            ],
            [
             0.6666666666666666,
             "#ed7953"
            ],
            [
             0.7777777777777778,
             "#fb9f3a"
            ],
            [
             0.8888888888888888,
             "#fdca26"
            ],
            [
             1,
             "#f0f921"
            ]
           ]
          },
          "colorway": [
           "#636efa",
           "#EF553B",
           "#00cc96",
           "#ab63fa",
           "#FFA15A",
           "#19d3f3",
           "#FF6692",
           "#B6E880",
           "#FF97FF",
           "#FECB52"
          ],
          "font": {
           "color": "#2a3f5f"
          },
          "geo": {
           "bgcolor": "white",
           "lakecolor": "white",
           "landcolor": "#E5ECF6",
           "showlakes": true,
           "showland": true,
           "subunitcolor": "white"
          },
          "hoverlabel": {
           "align": "left"
          },
          "hovermode": "closest",
          "mapbox": {
           "style": "light"
          },
          "paper_bgcolor": "white",
          "plot_bgcolor": "#E5ECF6",
          "polar": {
           "angularaxis": {
            "gridcolor": "white",
            "linecolor": "white",
            "ticks": ""
           },
           "bgcolor": "#E5ECF6",
           "radialaxis": {
            "gridcolor": "white",
            "linecolor": "white",
            "ticks": ""
           }
          },
          "scene": {
           "xaxis": {
            "backgroundcolor": "#E5ECF6",
            "gridcolor": "white",
            "gridwidth": 2,
            "linecolor": "white",
            "showbackground": true,
            "ticks": "",
            "zerolinecolor": "white"
           },
           "yaxis": {
            "backgroundcolor": "#E5ECF6",
            "gridcolor": "white",
            "gridwidth": 2,
            "linecolor": "white",
            "showbackground": true,
            "ticks": "",
            "zerolinecolor": "white"
           },
           "zaxis": {
            "backgroundcolor": "#E5ECF6",
            "gridcolor": "white",
            "gridwidth": 2,
            "linecolor": "white",
            "showbackground": true,
            "ticks": "",
            "zerolinecolor": "white"
           }
          },
          "shapedefaults": {
           "line": {
            "color": "#2a3f5f"
           }
          },
          "ternary": {
           "aaxis": {
            "gridcolor": "white",
            "linecolor": "white",
            "ticks": ""
           },
           "baxis": {
            "gridcolor": "white",
            "linecolor": "white",
            "ticks": ""
           },
           "bgcolor": "#E5ECF6",
           "caxis": {
            "gridcolor": "white",
            "linecolor": "white",
            "ticks": ""
           }
          },
          "title": {
           "x": 0.05
          },
          "xaxis": {
           "automargin": true,
           "gridcolor": "white",
           "linecolor": "white",
           "ticks": "",
           "title": {
            "standoff": 15
           },
           "zerolinecolor": "white",
           "zerolinewidth": 2
          },
          "yaxis": {
           "automargin": true,
           "gridcolor": "white",
           "linecolor": "white",
           "ticks": "",
           "title": {
            "standoff": 15
           },
           "zerolinecolor": "white",
           "zerolinewidth": 2
          }
         }
        }
       }
      }
     },
     "metadata": {
      "transient": {}
     },
     "output_type": "display_data"
    },
    {
     "data": {
      "text/plain": "7"
     },
     "execution_count": 13,
     "metadata": {},
     "output_type": "execute_result"
    }
   ],
   "source": [
    "\n",
    "fig = go.Figure()\n",
    "# for i, c in enumerate(greys15):\n",
    "for i, c in enumerate(colors):\n",
    "  # print(i,c)\n",
    "  fig.add_bar(x=[i], y = [15], marker_color = c, showlegend = False, name=c)\n",
    "f = fig.full_figure_for_development(warn=False)\n",
    "fig.show()\n",
    "len(list(target_dict.keys()))"
   ]
  },
  {
   "cell_type": "code",
   "execution_count": 23,
   "metadata": {},
   "outputs": [
    {
     "name": "stdout",
     "output_type": "stream",
     "text": [
      "SCZ|PredictedSCZ_percent\n",
      "SCZ|PredictedBD_percent\n",
      "SCZ|PredictedADHD_percent\n",
      "BD|PredictedSCZ_percent\n",
      "BD|PredictedBD_percent\n",
      "BD|PredictedADHD_percent\n",
      "ADHD|PredictedSCZ_percent\n",
      "ADHD|PredictedBD_percent\n",
      "ADHD|PredictedADHD_percent\n"
     ]
    },
    {
     "data": {
      "application/vnd.plotly.v1+json": {
       "config": {
        "plotlyServerURL": "https://plot.ly"
       },
       "data": [
        {
         "marker": {
          "color": [
           "rgb(48, 18, 59)"
          ]
         },
         "name": "Limbic (2322)",
         "showlegend": true,
         "text": [
          null
         ],
         "textposition": "outside",
         "type": "bar",
         "x": [
          "Limbic"
         ],
         "xaxis": "x",
         "y": [
          -0.02909237
         ],
         "yaxis": "y"
        },
        {
         "marker": {
          "color": [
           "rgb(66, 132, 242)"
          ]
         },
         "name": "Salience / Ventral Attention (4147)",
         "showlegend": true,
         "text": [
          "*"
         ],
         "textposition": "outside",
         "type": "bar",
         "x": [
          "Salience / Ventral Attention"
         ],
         "xaxis": "x",
         "y": [
          -0.192099473
         ],
         "yaxis": "y"
        },
        {
         "marker": {
          "color": [
           "rgb(33, 226, 181)"
          ]
         },
         "name": "Dorsal Attention (4849)",
         "showlegend": true,
         "text": [
          null
         ],
         "textposition": "outside",
         "type": "bar",
         "x": [
          "Dorsal Attention"
         ],
         "xaxis": "x",
         "y": [
          0.116807935
         ],
         "yaxis": "y"
        },
        {
         "marker": {
          "color": [
           "rgb(164, 252, 59)"
          ]
         },
         "name": "Visual (5365)",
         "showlegend": true,
         "text": [
          null
         ],
         "textposition": "outside",
         "type": "bar",
         "x": [
          "Visual"
         ],
         "xaxis": "x",
         "y": [
          -0.132155397
         ],
         "yaxis": "y"
        },
        {
         "marker": {
          "color": [
           "rgb(247, 184, 54)"
          ]
         },
         "name": "Control (5535)",
         "showlegend": true,
         "text": [
          "*"
         ],
         "textposition": "outside",
         "type": "bar",
         "x": [
          "Control"
         ],
         "xaxis": "x",
         "y": [
          0.175246762
         ],
         "yaxis": "y"
        },
        {
         "marker": {
          "color": [
           "rgb(226, 70, 11)"
          ]
         },
         "name": "Somatomotor (6370)",
         "showlegend": true,
         "text": [
          "*"
         ],
         "textposition": "outside",
         "type": "bar",
         "x": [
          "Somatomotor"
         ],
         "xaxis": "x",
         "y": [
          0.289234355
         ],
         "yaxis": "y"
        },
        {
         "marker": {
          "color": [
           "rgb(122, 4, 2)"
          ]
         },
         "name": "Default (8119)",
         "showlegend": true,
         "text": [
          null
         ],
         "textposition": "outside",
         "type": "bar",
         "x": [
          "Default"
         ],
         "xaxis": "x",
         "y": [
          0.071936806
         ],
         "yaxis": "y"
        },
        {
         "marker": {
          "color": [
           "rgb(48, 18, 59)"
          ]
         },
         "name": "Limbic (2322)",
         "showlegend": false,
         "text": [
          null
         ],
         "textposition": "outside",
         "type": "bar",
         "x": [
          "Limbic"
         ],
         "xaxis": "x2",
         "y": [
          -0.090893276
         ],
         "yaxis": "y2"
        },
        {
         "marker": {
          "color": [
           "rgb(66, 132, 242)"
          ]
         },
         "name": "Salience / Ventral Attention (4147)",
         "showlegend": false,
         "text": [
          null
         ],
         "textposition": "outside",
         "type": "bar",
         "x": [
          "Salience / Ventral Attention"
         ],
         "xaxis": "x2",
         "y": [
          0.041280993
         ],
         "yaxis": "y2"
        },
        {
         "marker": {
          "color": [
           "rgb(33, 226, 181)"
          ]
         },
         "name": "Dorsal Attention (4849)",
         "showlegend": false,
         "text": [
          "*"
         ],
         "textposition": "outside",
         "type": "bar",
         "x": [
          "Dorsal Attention"
         ],
         "xaxis": "x2",
         "y": [
          -0.3755864
         ],
         "yaxis": "y2"
        },
        {
         "marker": {
          "color": [
           "rgb(164, 252, 59)"
          ]
         },
         "name": "Visual (5365)",
         "showlegend": false,
         "text": [
          null
         ],
         "textposition": "outside",
         "type": "bar",
         "x": [
          "Visual"
         ],
         "xaxis": "x2",
         "y": [
          -0.104034593
         ],
         "yaxis": "y2"
        },
        {
         "marker": {
          "color": [
           "rgb(247, 184, 54)"
          ]
         },
         "name": "Control (5535)",
         "showlegend": false,
         "text": [
          "*"
         ],
         "textposition": "outside",
         "type": "bar",
         "x": [
          "Control"
         ],
         "xaxis": "x2",
         "y": [
          -0.315788132
         ],
         "yaxis": "y2"
        },
        {
         "marker": {
          "color": [
           "rgb(226, 70, 11)"
          ]
         },
         "name": "Somatomotor (6370)",
         "showlegend": false,
         "text": [
          "*"
         ],
         "textposition": "outside",
         "type": "bar",
         "x": [
          "Somatomotor"
         ],
         "xaxis": "x2",
         "y": [
          -0.408066377
         ],
         "yaxis": "y2"
        },
        {
         "marker": {
          "color": [
           "rgb(122, 4, 2)"
          ]
         },
         "name": "Default (8119)",
         "showlegend": false,
         "text": [
          "*"
         ],
         "textposition": "outside",
         "type": "bar",
         "x": [
          "Default"
         ],
         "xaxis": "x2",
         "y": [
          -0.225261131
         ],
         "yaxis": "y2"
        },
        {
         "marker": {
          "color": [
           "rgb(48, 18, 59)"
          ]
         },
         "name": "Limbic (2322)",
         "showlegend": false,
         "text": [
          null
         ],
         "textposition": "outside",
         "type": "bar",
         "x": [
          "Limbic"
         ],
         "xaxis": "x3",
         "y": [
          0.118805797
         ],
         "yaxis": "y3"
        },
        {
         "marker": {
          "color": [
           "rgb(66, 132, 242)"
          ]
         },
         "name": "Salience / Ventral Attention (4147)",
         "showlegend": false,
         "text": [
          null
         ],
         "textposition": "outside",
         "type": "bar",
         "x": [
          "Salience / Ventral Attention"
         ],
         "xaxis": "x3",
         "y": [
          0.106246399
         ],
         "yaxis": "y3"
        },
        {
         "marker": {
          "color": [
           "rgb(33, 226, 181)"
          ]
         },
         "name": "Dorsal Attention (4849)",
         "showlegend": false,
         "text": [
          "*"
         ],
         "textposition": "outside",
         "type": "bar",
         "x": [
          "Dorsal Attention"
         ],
         "xaxis": "x3",
         "y": [
          0.292507921
         ],
         "yaxis": "y3"
        },
        {
         "marker": {
          "color": [
           "rgb(164, 252, 59)"
          ]
         },
         "name": "Visual (5365)",
         "showlegend": false,
         "text": [
          "*"
         ],
         "textposition": "outside",
         "type": "bar",
         "x": [
          "Visual"
         ],
         "xaxis": "x3",
         "y": [
          0.212631064
         ],
         "yaxis": "y3"
        },
        {
         "marker": {
          "color": [
           "rgb(247, 184, 54)"
          ]
         },
         "name": "Control (5535)",
         "showlegend": false,
         "text": [
          "*"
         ],
         "textposition": "outside",
         "type": "bar",
         "x": [
          "Control"
         ],
         "xaxis": "x3",
         "y": [
          0.185836533
         ],
         "yaxis": "y3"
        },
        {
         "marker": {
          "color": [
           "rgb(226, 70, 11)"
          ]
         },
         "name": "Somatomotor (6370)",
         "showlegend": false,
         "text": [
          "*"
         ],
         "textposition": "outside",
         "type": "bar",
         "x": [
          "Somatomotor"
         ],
         "xaxis": "x3",
         "y": [
          0.198094913
         ],
         "yaxis": "y3"
        },
        {
         "marker": {
          "color": [
           "rgb(122, 4, 2)"
          ]
         },
         "name": "Default (8119)",
         "showlegend": false,
         "text": [
          "*"
         ],
         "textposition": "outside",
         "type": "bar",
         "x": [
          "Default"
         ],
         "xaxis": "x3",
         "y": [
          0.179808589
         ],
         "yaxis": "y3"
        },
        {
         "marker": {
          "color": [
           "rgb(48, 18, 59)"
          ]
         },
         "name": "Limbic (2322)",
         "showlegend": false,
         "text": [
          null
         ],
         "textposition": "outside",
         "type": "bar",
         "x": [
          "Limbic"
         ],
         "xaxis": "x4",
         "y": [
          0.089249915
         ],
         "yaxis": "y4"
        },
        {
         "marker": {
          "color": [
           "rgb(66, 132, 242)"
          ]
         },
         "name": "Salience / Ventral Attention (4147)",
         "showlegend": false,
         "text": [
          null
         ],
         "textposition": "outside",
         "type": "bar",
         "x": [
          "Salience / Ventral Attention"
         ],
         "xaxis": "x4",
         "y": [
          -0.020010975
         ],
         "yaxis": "y4"
        },
        {
         "marker": {
          "color": [
           "rgb(33, 226, 181)"
          ]
         },
         "name": "Dorsal Attention (4849)",
         "showlegend": false,
         "text": [
          null
         ],
         "textposition": "outside",
         "type": "bar",
         "x": [
          "Dorsal Attention"
         ],
         "xaxis": "x4",
         "y": [
          -0.013441239
         ],
         "yaxis": "y4"
        },
        {
         "marker": {
          "color": [
           "rgb(164, 252, 59)"
          ]
         },
         "name": "Visual (5365)",
         "showlegend": false,
         "text": [
          null
         ],
         "textposition": "outside",
         "type": "bar",
         "x": [
          "Visual"
         ],
         "xaxis": "x4",
         "y": [
          0.041285042
         ],
         "yaxis": "y4"
        },
        {
         "marker": {
          "color": [
           "rgb(247, 184, 54)"
          ]
         },
         "name": "Control (5535)",
         "showlegend": false,
         "text": [
          "*"
         ],
         "textposition": "outside",
         "type": "bar",
         "x": [
          "Control"
         ],
         "xaxis": "x4",
         "y": [
          -0.220821854
         ],
         "yaxis": "y4"
        },
        {
         "marker": {
          "color": [
           "rgb(226, 70, 11)"
          ]
         },
         "name": "Somatomotor (6370)",
         "showlegend": false,
         "text": [
          "*"
         ],
         "textposition": "outside",
         "type": "bar",
         "x": [
          "Somatomotor"
         ],
         "xaxis": "x4",
         "y": [
          -0.295874192
         ],
         "yaxis": "y4"
        },
        {
         "marker": {
          "color": [
           "rgb(122, 4, 2)"
          ]
         },
         "name": "Default (8119)",
         "showlegend": false,
         "text": [
          null
         ],
         "textposition": "outside",
         "type": "bar",
         "x": [
          "Default"
         ],
         "xaxis": "x4",
         "y": [
          0.045822096
         ],
         "yaxis": "y4"
        },
        {
         "marker": {
          "color": [
           "rgb(48, 18, 59)"
          ]
         },
         "name": "Limbic (2322)",
         "showlegend": false,
         "text": [
          "*"
         ],
         "textposition": "outside",
         "type": "bar",
         "x": [
          "Limbic"
         ],
         "xaxis": "x5",
         "y": [
          -0.186469844
         ],
         "yaxis": "y5"
        },
        {
         "marker": {
          "color": [
           "rgb(66, 132, 242)"
          ]
         },
         "name": "Salience / Ventral Attention (4147)",
         "showlegend": false,
         "text": [
          "*"
         ],
         "textposition": "outside",
         "type": "bar",
         "x": [
          "Salience / Ventral Attention"
         ],
         "xaxis": "x5",
         "y": [
          -0.183064674
         ],
         "yaxis": "y5"
        },
        {
         "marker": {
          "color": [
           "rgb(33, 226, 181)"
          ]
         },
         "name": "Dorsal Attention (4849)",
         "showlegend": false,
         "text": [
          "*"
         ],
         "textposition": "outside",
         "type": "bar",
         "x": [
          "Dorsal Attention"
         ],
         "xaxis": "x5",
         "y": [
          -0.272365892
         ],
         "yaxis": "y5"
        },
        {
         "marker": {
          "color": [
           "rgb(164, 252, 59)"
          ]
         },
         "name": "Visual (5365)",
         "showlegend": false,
         "text": [
          "*"
         ],
         "textposition": "outside",
         "type": "bar",
         "x": [
          "Visual"
         ],
         "xaxis": "x5",
         "y": [
          -0.211987683
         ],
         "yaxis": "y5"
        },
        {
         "marker": {
          "color": [
           "rgb(247, 184, 54)"
          ]
         },
         "name": "Control (5535)",
         "showlegend": false,
         "text": [
          null
         ],
         "textposition": "outside",
         "type": "bar",
         "x": [
          "Control"
         ],
         "xaxis": "x5",
         "y": [
          -0.131301587
         ],
         "yaxis": "y5"
        },
        {
         "marker": {
          "color": [
           "rgb(226, 70, 11)"
          ]
         },
         "name": "Somatomotor (6370)",
         "showlegend": false,
         "text": [
          null
         ],
         "textposition": "outside",
         "type": "bar",
         "x": [
          "Somatomotor"
         ],
         "xaxis": "x5",
         "y": [
          -0.018228252
         ],
         "yaxis": "y5"
        },
        {
         "marker": {
          "color": [
           "rgb(122, 4, 2)"
          ]
         },
         "name": "Default (8119)",
         "showlegend": false,
         "text": [
          "*"
         ],
         "textposition": "outside",
         "type": "bar",
         "x": [
          "Default"
         ],
         "xaxis": "x5",
         "y": [
          -0.349820903
         ],
         "yaxis": "y5"
        },
        {
         "marker": {
          "color": [
           "rgb(48, 18, 59)"
          ]
         },
         "name": "Limbic (2322)",
         "showlegend": false,
         "text": [
          null
         ],
         "textposition": "outside",
         "type": "bar",
         "x": [
          "Limbic"
         ],
         "xaxis": "x6",
         "y": [
          0.118583056
         ],
         "yaxis": "y6"
        },
        {
         "marker": {
          "color": [
           "rgb(66, 132, 242)"
          ]
         },
         "name": "Salience / Ventral Attention (4147)",
         "showlegend": false,
         "text": [
          "*"
         ],
         "textposition": "outside",
         "type": "bar",
         "x": [
          "Salience / Ventral Attention"
         ],
         "xaxis": "x6",
         "y": [
          0.268550856
         ],
         "yaxis": "y6"
        },
        {
         "marker": {
          "color": [
           "rgb(33, 226, 181)"
          ]
         },
         "name": "Dorsal Attention (4849)",
         "showlegend": false,
         "text": [
          "*"
         ],
         "textposition": "outside",
         "type": "bar",
         "x": [
          "Dorsal Attention"
         ],
         "xaxis": "x6",
         "y": [
          0.350314311
         ],
         "yaxis": "y6"
        },
        {
         "marker": {
          "color": [
           "rgb(164, 252, 59)"
          ]
         },
         "name": "Visual (5365)",
         "showlegend": false,
         "text": [
          "*"
         ],
         "textposition": "outside",
         "type": "bar",
         "x": [
          "Visual"
         ],
         "xaxis": "x6",
         "y": [
          0.224372234
         ],
         "yaxis": "y6"
        },
        {
         "marker": {
          "color": [
           "rgb(247, 184, 54)"
          ]
         },
         "name": "Control (5535)",
         "showlegend": false,
         "text": [
          "*"
         ],
         "textposition": "outside",
         "type": "bar",
         "x": [
          "Control"
         ],
         "xaxis": "x6",
         "y": [
          0.465708999
         ],
         "yaxis": "y6"
        },
        {
         "marker": {
          "color": [
           "rgb(226, 70, 11)"
          ]
         },
         "name": "Somatomotor (6370)",
         "showlegend": false,
         "text": [
          "*"
         ],
         "textposition": "outside",
         "type": "bar",
         "x": [
          "Somatomotor"
         ],
         "xaxis": "x6",
         "y": [
          0.400946908
         ],
         "yaxis": "y6"
        },
        {
         "marker": {
          "color": [
           "rgb(122, 4, 2)"
          ]
         },
         "name": "Default (8119)",
         "showlegend": false,
         "text": [
          "*"
         ],
         "textposition": "outside",
         "type": "bar",
         "x": [
          "Default"
         ],
         "xaxis": "x6",
         "y": [
          0.384851026
         ],
         "yaxis": "y6"
        },
        {
         "marker": {
          "color": [
           "rgb(48, 18, 59)"
          ]
         },
         "name": "Limbic (2322)",
         "showlegend": false,
         "text": [
          null
         ],
         "textposition": "outside",
         "type": "bar",
         "x": [
          "Limbic"
         ],
         "xaxis": "x7",
         "y": [
          0.044801331
         ],
         "yaxis": "y7"
        },
        {
         "marker": {
          "color": [
           "rgb(66, 132, 242)"
          ]
         },
         "name": "Salience / Ventral Attention (4147)",
         "showlegend": false,
         "text": [
          null
         ],
         "textposition": "outside",
         "type": "bar",
         "x": [
          "Salience / Ventral Attention"
         ],
         "xaxis": "x7",
         "y": [
          -0.068012917
         ],
         "yaxis": "y7"
        },
        {
         "marker": {
          "color": [
           "rgb(33, 226, 181)"
          ]
         },
         "name": "Dorsal Attention (4849)",
         "showlegend": false,
         "text": [
          "*"
         ],
         "textposition": "outside",
         "type": "bar",
         "x": [
          "Dorsal Attention"
         ],
         "xaxis": "x7",
         "y": [
          -0.263185006
         ],
         "yaxis": "y7"
        },
        {
         "marker": {
          "color": [
           "rgb(164, 252, 59)"
          ]
         },
         "name": "Visual (5365)",
         "showlegend": false,
         "text": [
          null
         ],
         "textposition": "outside",
         "type": "bar",
         "x": [
          "Visual"
         ],
         "xaxis": "x7",
         "y": [
          -0.113194806
         ],
         "yaxis": "y7"
        },
        {
         "marker": {
          "color": [
           "rgb(247, 184, 54)"
          ]
         },
         "name": "Control (5535)",
         "showlegend": false,
         "text": [
          "*"
         ],
         "textposition": "outside",
         "type": "bar",
         "x": [
          "Control"
         ],
         "xaxis": "x7",
         "y": [
          -0.378159859
         ],
         "yaxis": "y7"
        },
        {
         "marker": {
          "color": [
           "rgb(226, 70, 11)"
          ]
         },
         "name": "Somatomotor (6370)",
         "showlegend": false,
         "text": [
          "*"
         ],
         "textposition": "outside",
         "type": "bar",
         "x": [
          "Somatomotor"
         ],
         "xaxis": "x7",
         "y": [
          -0.353272218
         ],
         "yaxis": "y7"
        },
        {
         "marker": {
          "color": [
           "rgb(122, 4, 2)"
          ]
         },
         "name": "Default (8119)",
         "showlegend": false,
         "text": [
          "*"
         ],
         "textposition": "outside",
         "type": "bar",
         "x": [
          "Default"
         ],
         "xaxis": "x7",
         "y": [
          -0.652432042
         ],
         "yaxis": "y7"
        },
        {
         "marker": {
          "color": [
           "rgb(48, 18, 59)"
          ]
         },
         "name": "Limbic (2322)",
         "showlegend": false,
         "text": [
          null
         ],
         "textposition": "outside",
         "type": "bar",
         "x": [
          "Limbic"
         ],
         "xaxis": "x8",
         "y": [
          -0.024451491
         ],
         "yaxis": "y8"
        },
        {
         "marker": {
          "color": [
           "rgb(66, 132, 242)"
          ]
         },
         "name": "Salience / Ventral Attention (4147)",
         "showlegend": false,
         "text": [
          "*"
         ],
         "textposition": "outside",
         "type": "bar",
         "x": [
          "Salience / Ventral Attention"
         ],
         "xaxis": "x8",
         "y": [
          -0.28307693
         ],
         "yaxis": "y8"
        },
        {
         "marker": {
          "color": [
           "rgb(33, 226, 181)"
          ]
         },
         "name": "Dorsal Attention (4849)",
         "showlegend": false,
         "text": [
          "*"
         ],
         "textposition": "outside",
         "type": "bar",
         "x": [
          "Dorsal Attention"
         ],
         "xaxis": "x8",
         "y": [
          -0.333284103
         ],
         "yaxis": "y8"
        },
        {
         "marker": {
          "color": [
           "rgb(164, 252, 59)"
          ]
         },
         "name": "Visual (5365)",
         "showlegend": false,
         "text": [
          "*"
         ],
         "textposition": "outside",
         "type": "bar",
         "x": [
          "Visual"
         ],
         "xaxis": "x8",
         "y": [
          -0.498241169
         ],
         "yaxis": "y8"
        },
        {
         "marker": {
          "color": [
           "rgb(247, 184, 54)"
          ]
         },
         "name": "Control (5535)",
         "showlegend": false,
         "text": [
          "*"
         ],
         "textposition": "outside",
         "type": "bar",
         "x": [
          "Control"
         ],
         "xaxis": "x8",
         "y": [
          -0.187031485
         ],
         "yaxis": "y8"
        },
        {
         "marker": {
          "color": [
           "rgb(226, 70, 11)"
          ]
         },
         "name": "Somatomotor (6370)",
         "showlegend": false,
         "text": [
          "*"
         ],
         "textposition": "outside",
         "type": "bar",
         "x": [
          "Somatomotor"
         ],
         "xaxis": "x8",
         "y": [
          -0.494766627
         ],
         "yaxis": "y8"
        },
        {
         "marker": {
          "color": [
           "rgb(122, 4, 2)"
          ]
         },
         "name": "Default (8119)",
         "showlegend": false,
         "text": [
          "*"
         ],
         "textposition": "outside",
         "type": "bar",
         "x": [
          "Default"
         ],
         "xaxis": "x8",
         "y": [
          -0.266066382
         ],
         "yaxis": "y8"
        },
        {
         "marker": {
          "color": [
           "rgb(48, 18, 59)"
          ]
         },
         "name": "Limbic (2322)",
         "showlegend": false,
         "text": [
          null
         ],
         "textposition": "outside",
         "type": "bar",
         "x": [
          "Limbic"
         ],
         "xaxis": "x9",
         "y": [
          -0.003609011
         ],
         "yaxis": "y9"
        },
        {
         "marker": {
          "color": [
           "rgb(66, 132, 242)"
          ]
         },
         "name": "Salience / Ventral Attention (4147)",
         "showlegend": false,
         "text": [
          "*"
         ],
         "textposition": "outside",
         "type": "bar",
         "x": [
          "Salience / Ventral Attention"
         ],
         "xaxis": "x9",
         "y": [
          0.379137962
         ],
         "yaxis": "y9"
        },
        {
         "marker": {
          "color": [
           "rgb(33, 226, 181)"
          ]
         },
         "name": "Dorsal Attention (4849)",
         "showlegend": false,
         "text": [
          "*"
         ],
         "textposition": "outside",
         "type": "bar",
         "x": [
          "Dorsal Attention"
         ],
         "xaxis": "x9",
         "y": [
          0.563580893
         ],
         "yaxis": "y9"
        },
        {
         "marker": {
          "color": [
           "rgb(164, 252, 59)"
          ]
         },
         "name": "Visual (5365)",
         "showlegend": false,
         "text": [
          "*"
         ],
         "textposition": "outside",
         "type": "bar",
         "x": [
          "Visual"
         ],
         "xaxis": "x9",
         "y": [
          0.662394664
         ],
         "yaxis": "y9"
        },
        {
         "marker": {
          "color": [
           "rgb(247, 184, 54)"
          ]
         },
         "name": "Control (5535)",
         "showlegend": false,
         "text": [
          "*"
         ],
         "textposition": "outside",
         "type": "bar",
         "x": [
          "Control"
         ],
         "xaxis": "x9",
         "y": [
          0.503495168
         ],
         "yaxis": "y9"
        },
        {
         "marker": {
          "color": [
           "rgb(226, 70, 11)"
          ]
         },
         "name": "Somatomotor (6370)",
         "showlegend": false,
         "text": [
          "*"
         ],
         "textposition": "outside",
         "type": "bar",
         "x": [
          "Somatomotor"
         ],
         "xaxis": "x9",
         "y": [
          0.843580591
         ],
         "yaxis": "y9"
        },
        {
         "marker": {
          "color": [
           "rgb(122, 4, 2)"
          ]
         },
         "name": "Default (8119)",
         "showlegend": false,
         "text": [
          "*"
         ],
         "textposition": "outside",
         "type": "bar",
         "x": [
          "Default"
         ],
         "xaxis": "x9",
         "y": [
          0.86813825
         ],
         "yaxis": "y9"
        }
       ],
       "layout": {
        "annotations": [
         {
          "font": {
           "size": 16
          },
          "showarrow": false,
          "text": "SCZ",
          "x": 0.12,
          "xanchor": "center",
          "xref": "paper",
          "y": 1,
          "yanchor": "bottom",
          "yref": "paper"
         },
         {
          "font": {
           "size": 16
          },
          "showarrow": false,
          "text": "BD",
          "x": 0.49,
          "xanchor": "center",
          "xref": "paper",
          "y": 1,
          "yanchor": "bottom",
          "yref": "paper"
         },
         {
          "font": {
           "size": 16
          },
          "showarrow": false,
          "text": "ADHD",
          "x": 0.86,
          "xanchor": "center",
          "xref": "paper",
          "y": 1,
          "yanchor": "bottom",
          "yref": "paper"
         },
         {
          "font": {
           "size": 16
          },
          "showarrow": false,
          "text": "SCZ",
          "textangle": -90,
          "x": 0,
          "xanchor": "right",
          "xref": "paper",
          "xshift": -40,
          "y": 0.8666666666666667,
          "yanchor": "middle",
          "yref": "paper"
         },
         {
          "font": {
           "size": 16
          },
          "showarrow": false,
          "text": "BD",
          "textangle": -90,
          "x": 0,
          "xanchor": "right",
          "xref": "paper",
          "xshift": -40,
          "y": 0.5,
          "yanchor": "middle",
          "yref": "paper"
         },
         {
          "font": {
           "size": 16
          },
          "showarrow": false,
          "text": "ADHD",
          "textangle": -90,
          "x": 0,
          "xanchor": "right",
          "xref": "paper",
          "xshift": -40,
          "y": 0.13333333333333333,
          "yanchor": "middle",
          "yref": "paper"
         },
         {
          "font": {
           "size": 16
          },
          "showarrow": false,
          "text": "Predicted",
          "x": 0.49,
          "xanchor": "center",
          "xref": "paper",
          "y": 1,
          "yanchor": "bottom",
          "yref": "paper",
          "yshift": 25
         },
         {
          "font": {
           "size": 16
          },
          "showarrow": false,
          "text": "True",
          "textangle": -90,
          "x": 0,
          "xanchor": "right",
          "xref": "paper",
          "xshift": -60,
          "y": 0.5,
          "yanchor": "middle",
          "yref": "paper"
         }
        ],
        "font": {
         "color": "Black",
         "size": 12
        },
        "margin": {
         "l": 120,
         "t": 60
        },
        "paper_bgcolor": "White",
        "plot_bgcolor": "White",
        "showlegend": true,
        "template": {
         "data": {
          "bar": [
           {
            "error_x": {
             "color": "rgb(36,36,36)"
            },
            "error_y": {
             "color": "rgb(36,36,36)"
            },
            "marker": {
             "line": {
              "color": "white",
              "width": 0.5
             },
             "pattern": {
              "fillmode": "overlay",
              "size": 10,
              "solidity": 0.2
             }
            },
            "type": "bar"
           }
          ],
          "barpolar": [
           {
            "marker": {
             "line": {
              "color": "white",
              "width": 0.5
             },
             "pattern": {
              "fillmode": "overlay",
              "size": 10,
              "solidity": 0.2
             }
            },
            "type": "barpolar"
           }
          ],
          "carpet": [
           {
            "aaxis": {
             "endlinecolor": "rgb(36,36,36)",
             "gridcolor": "white",
             "linecolor": "white",
             "minorgridcolor": "white",
             "startlinecolor": "rgb(36,36,36)"
            },
            "baxis": {
             "endlinecolor": "rgb(36,36,36)",
             "gridcolor": "white",
             "linecolor": "white",
             "minorgridcolor": "white",
             "startlinecolor": "rgb(36,36,36)"
            },
            "type": "carpet"
           }
          ],
          "choropleth": [
           {
            "colorbar": {
             "outlinewidth": 1,
             "tickcolor": "rgb(36,36,36)",
             "ticks": "outside"
            },
            "type": "choropleth"
           }
          ],
          "contour": [
           {
            "colorbar": {
             "outlinewidth": 1,
             "tickcolor": "rgb(36,36,36)",
             "ticks": "outside"
            },
            "colorscale": [
             [
              0,
              "#440154"
             ],
             [
              0.1111111111111111,
              "#482878"
             ],
             [
              0.2222222222222222,
              "#3e4989"
             ],
             [
              0.3333333333333333,
              "#31688e"
             ],
             [
              0.4444444444444444,
              "#26828e"
             ],
             [
              0.5555555555555556,
              "#1f9e89"
             ],
             [
              0.6666666666666666,
              "#35b779"
             ],
             [
              0.7777777777777778,
              "#6ece58"
             ],
             [
              0.8888888888888888,
              "#b5de2b"
             ],
             [
              1,
              "#fde725"
             ]
            ],
            "type": "contour"
           }
          ],
          "contourcarpet": [
           {
            "colorbar": {
             "outlinewidth": 1,
             "tickcolor": "rgb(36,36,36)",
             "ticks": "outside"
            },
            "type": "contourcarpet"
           }
          ],
          "heatmap": [
           {
            "colorbar": {
             "outlinewidth": 1,
             "tickcolor": "rgb(36,36,36)",
             "ticks": "outside"
            },
            "colorscale": [
             [
              0,
              "#440154"
             ],
             [
              0.1111111111111111,
              "#482878"
             ],
             [
              0.2222222222222222,
              "#3e4989"
             ],
             [
              0.3333333333333333,
              "#31688e"
             ],
             [
              0.4444444444444444,
              "#26828e"
             ],
             [
              0.5555555555555556,
              "#1f9e89"
             ],
             [
              0.6666666666666666,
              "#35b779"
             ],
             [
              0.7777777777777778,
              "#6ece58"
             ],
             [
              0.8888888888888888,
              "#b5de2b"
             ],
             [
              1,
              "#fde725"
             ]
            ],
            "type": "heatmap"
           }
          ],
          "heatmapgl": [
           {
            "colorbar": {
             "outlinewidth": 1,
             "tickcolor": "rgb(36,36,36)",
             "ticks": "outside"
            },
            "colorscale": [
             [
              0,
              "#440154"
             ],
             [
              0.1111111111111111,
              "#482878"
             ],
             [
              0.2222222222222222,
              "#3e4989"
             ],
             [
              0.3333333333333333,
              "#31688e"
             ],
             [
              0.4444444444444444,
              "#26828e"
             ],
             [
              0.5555555555555556,
              "#1f9e89"
             ],
             [
              0.6666666666666666,
              "#35b779"
             ],
             [
              0.7777777777777778,
              "#6ece58"
             ],
             [
              0.8888888888888888,
              "#b5de2b"
             ],
             [
              1,
              "#fde725"
             ]
            ],
            "type": "heatmapgl"
           }
          ],
          "histogram": [
           {
            "marker": {
             "line": {
              "color": "white",
              "width": 0.6
             }
            },
            "type": "histogram"
           }
          ],
          "histogram2d": [
           {
            "colorbar": {
             "outlinewidth": 1,
             "tickcolor": "rgb(36,36,36)",
             "ticks": "outside"
            },
            "colorscale": [
             [
              0,
              "#440154"
             ],
             [
              0.1111111111111111,
              "#482878"
             ],
             [
              0.2222222222222222,
              "#3e4989"
             ],
             [
              0.3333333333333333,
              "#31688e"
             ],
             [
              0.4444444444444444,
              "#26828e"
             ],
             [
              0.5555555555555556,
              "#1f9e89"
             ],
             [
              0.6666666666666666,
              "#35b779"
             ],
             [
              0.7777777777777778,
              "#6ece58"
             ],
             [
              0.8888888888888888,
              "#b5de2b"
             ],
             [
              1,
              "#fde725"
             ]
            ],
            "type": "histogram2d"
           }
          ],
          "histogram2dcontour": [
           {
            "colorbar": {
             "outlinewidth": 1,
             "tickcolor": "rgb(36,36,36)",
             "ticks": "outside"
            },
            "colorscale": [
             [
              0,
              "#440154"
             ],
             [
              0.1111111111111111,
              "#482878"
             ],
             [
              0.2222222222222222,
              "#3e4989"
             ],
             [
              0.3333333333333333,
              "#31688e"
             ],
             [
              0.4444444444444444,
              "#26828e"
             ],
             [
              0.5555555555555556,
              "#1f9e89"
             ],
             [
              0.6666666666666666,
              "#35b779"
             ],
             [
              0.7777777777777778,
              "#6ece58"
             ],
             [
              0.8888888888888888,
              "#b5de2b"
             ],
             [
              1,
              "#fde725"
             ]
            ],
            "type": "histogram2dcontour"
           }
          ],
          "mesh3d": [
           {
            "colorbar": {
             "outlinewidth": 1,
             "tickcolor": "rgb(36,36,36)",
             "ticks": "outside"
            },
            "type": "mesh3d"
           }
          ],
          "parcoords": [
           {
            "line": {
             "colorbar": {
              "outlinewidth": 1,
              "tickcolor": "rgb(36,36,36)",
              "ticks": "outside"
             }
            },
            "type": "parcoords"
           }
          ],
          "pie": [
           {
            "automargin": true,
            "type": "pie"
           }
          ],
          "scatter": [
           {
            "fillpattern": {
             "fillmode": "overlay",
             "size": 10,
             "solidity": 0.2
            },
            "type": "scatter"
           }
          ],
          "scatter3d": [
           {
            "line": {
             "colorbar": {
              "outlinewidth": 1,
              "tickcolor": "rgb(36,36,36)",
              "ticks": "outside"
             }
            },
            "marker": {
             "colorbar": {
              "outlinewidth": 1,
              "tickcolor": "rgb(36,36,36)",
              "ticks": "outside"
             }
            },
            "type": "scatter3d"
           }
          ],
          "scattercarpet": [
           {
            "marker": {
             "colorbar": {
              "outlinewidth": 1,
              "tickcolor": "rgb(36,36,36)",
              "ticks": "outside"
             }
            },
            "type": "scattercarpet"
           }
          ],
          "scattergeo": [
           {
            "marker": {
             "colorbar": {
              "outlinewidth": 1,
              "tickcolor": "rgb(36,36,36)",
              "ticks": "outside"
             }
            },
            "type": "scattergeo"
           }
          ],
          "scattergl": [
           {
            "marker": {
             "colorbar": {
              "outlinewidth": 1,
              "tickcolor": "rgb(36,36,36)",
              "ticks": "outside"
             }
            },
            "type": "scattergl"
           }
          ],
          "scattermapbox": [
           {
            "marker": {
             "colorbar": {
              "outlinewidth": 1,
              "tickcolor": "rgb(36,36,36)",
              "ticks": "outside"
             }
            },
            "type": "scattermapbox"
           }
          ],
          "scatterpolar": [
           {
            "marker": {
             "colorbar": {
              "outlinewidth": 1,
              "tickcolor": "rgb(36,36,36)",
              "ticks": "outside"
             }
            },
            "type": "scatterpolar"
           }
          ],
          "scatterpolargl": [
           {
            "marker": {
             "colorbar": {
              "outlinewidth": 1,
              "tickcolor": "rgb(36,36,36)",
              "ticks": "outside"
             }
            },
            "type": "scatterpolargl"
           }
          ],
          "scatterternary": [
           {
            "marker": {
             "colorbar": {
              "outlinewidth": 1,
              "tickcolor": "rgb(36,36,36)",
              "ticks": "outside"
             }
            },
            "type": "scatterternary"
           }
          ],
          "surface": [
           {
            "colorbar": {
             "outlinewidth": 1,
             "tickcolor": "rgb(36,36,36)",
             "ticks": "outside"
            },
            "colorscale": [
             [
              0,
              "#440154"
             ],
             [
              0.1111111111111111,
              "#482878"
             ],
             [
              0.2222222222222222,
              "#3e4989"
             ],
             [
              0.3333333333333333,
              "#31688e"
             ],
             [
              0.4444444444444444,
              "#26828e"
             ],
             [
              0.5555555555555556,
              "#1f9e89"
             ],
             [
              0.6666666666666666,
              "#35b779"
             ],
             [
              0.7777777777777778,
              "#6ece58"
             ],
             [
              0.8888888888888888,
              "#b5de2b"
             ],
             [
              1,
              "#fde725"
             ]
            ],
            "type": "surface"
           }
          ],
          "table": [
           {
            "cells": {
             "fill": {
              "color": "rgb(237,237,237)"
             },
             "line": {
              "color": "white"
             }
            },
            "header": {
             "fill": {
              "color": "rgb(217,217,217)"
             },
             "line": {
              "color": "white"
             }
            },
            "type": "table"
           }
          ]
         },
         "layout": {
          "annotationdefaults": {
           "arrowhead": 0,
           "arrowwidth": 1
          },
          "autotypenumbers": "strict",
          "coloraxis": {
           "colorbar": {
            "outlinewidth": 1,
            "tickcolor": "rgb(36,36,36)",
            "ticks": "outside"
           }
          },
          "colorscale": {
           "diverging": [
            [
             0,
             "rgb(103,0,31)"
            ],
            [
             0.1,
             "rgb(178,24,43)"
            ],
            [
             0.2,
             "rgb(214,96,77)"
            ],
            [
             0.3,
             "rgb(244,165,130)"
            ],
            [
             0.4,
             "rgb(253,219,199)"
            ],
            [
             0.5,
             "rgb(247,247,247)"
            ],
            [
             0.6,
             "rgb(209,229,240)"
            ],
            [
             0.7,
             "rgb(146,197,222)"
            ],
            [
             0.8,
             "rgb(67,147,195)"
            ],
            [
             0.9,
             "rgb(33,102,172)"
            ],
            [
             1,
             "rgb(5,48,97)"
            ]
           ],
           "sequential": [
            [
             0,
             "#440154"
            ],
            [
             0.1111111111111111,
             "#482878"
            ],
            [
             0.2222222222222222,
             "#3e4989"
            ],
            [
             0.3333333333333333,
             "#31688e"
            ],
            [
             0.4444444444444444,
             "#26828e"
            ],
            [
             0.5555555555555556,
             "#1f9e89"
            ],
            [
             0.6666666666666666,
             "#35b779"
            ],
            [
             0.7777777777777778,
             "#6ece58"
            ],
            [
             0.8888888888888888,
             "#b5de2b"
            ],
            [
             1,
             "#fde725"
            ]
           ],
           "sequentialminus": [
            [
             0,
             "#440154"
            ],
            [
             0.1111111111111111,
             "#482878"
            ],
            [
             0.2222222222222222,
             "#3e4989"
            ],
            [
             0.3333333333333333,
             "#31688e"
            ],
            [
             0.4444444444444444,
             "#26828e"
            ],
            [
             0.5555555555555556,
             "#1f9e89"
            ],
            [
             0.6666666666666666,
             "#35b779"
            ],
            [
             0.7777777777777778,
             "#6ece58"
            ],
            [
             0.8888888888888888,
             "#b5de2b"
            ],
            [
             1,
             "#fde725"
            ]
           ]
          },
          "colorway": [
           "#1F77B4",
           "#FF7F0E",
           "#2CA02C",
           "#D62728",
           "#9467BD",
           "#8C564B",
           "#E377C2",
           "#7F7F7F",
           "#BCBD22",
           "#17BECF"
          ],
          "font": {
           "color": "rgb(36,36,36)"
          },
          "geo": {
           "bgcolor": "white",
           "lakecolor": "white",
           "landcolor": "white",
           "showlakes": true,
           "showland": true,
           "subunitcolor": "white"
          },
          "hoverlabel": {
           "align": "left"
          },
          "hovermode": "closest",
          "mapbox": {
           "style": "light"
          },
          "paper_bgcolor": "white",
          "plot_bgcolor": "white",
          "polar": {
           "angularaxis": {
            "gridcolor": "rgb(232,232,232)",
            "linecolor": "rgb(36,36,36)",
            "showgrid": false,
            "showline": true,
            "ticks": "outside"
           },
           "bgcolor": "white",
           "radialaxis": {
            "gridcolor": "rgb(232,232,232)",
            "linecolor": "rgb(36,36,36)",
            "showgrid": false,
            "showline": true,
            "ticks": "outside"
           }
          },
          "scene": {
           "xaxis": {
            "backgroundcolor": "white",
            "gridcolor": "rgb(232,232,232)",
            "gridwidth": 2,
            "linecolor": "rgb(36,36,36)",
            "showbackground": true,
            "showgrid": false,
            "showline": true,
            "ticks": "outside",
            "zeroline": false,
            "zerolinecolor": "rgb(36,36,36)"
           },
           "yaxis": {
            "backgroundcolor": "white",
            "gridcolor": "rgb(232,232,232)",
            "gridwidth": 2,
            "linecolor": "rgb(36,36,36)",
            "showbackground": true,
            "showgrid": false,
            "showline": true,
            "ticks": "outside",
            "zeroline": false,
            "zerolinecolor": "rgb(36,36,36)"
           },
           "zaxis": {
            "backgroundcolor": "white",
            "gridcolor": "rgb(232,232,232)",
            "gridwidth": 2,
            "linecolor": "rgb(36,36,36)",
            "showbackground": true,
            "showgrid": false,
            "showline": true,
            "ticks": "outside",
            "zeroline": false,
            "zerolinecolor": "rgb(36,36,36)"
           }
          },
          "shapedefaults": {
           "fillcolor": "black",
           "line": {
            "width": 0
           },
           "opacity": 0.3
          },
          "ternary": {
           "aaxis": {
            "gridcolor": "rgb(232,232,232)",
            "linecolor": "rgb(36,36,36)",
            "showgrid": false,
            "showline": true,
            "ticks": "outside"
           },
           "baxis": {
            "gridcolor": "rgb(232,232,232)",
            "linecolor": "rgb(36,36,36)",
            "showgrid": false,
            "showline": true,
            "ticks": "outside"
           },
           "bgcolor": "white",
           "caxis": {
            "gridcolor": "rgb(232,232,232)",
            "linecolor": "rgb(36,36,36)",
            "showgrid": false,
            "showline": true,
            "ticks": "outside"
           }
          },
          "title": {
           "x": 0.05
          },
          "xaxis": {
           "automargin": true,
           "gridcolor": "rgb(232,232,232)",
           "linecolor": "rgb(36,36,36)",
           "showgrid": false,
           "showline": true,
           "ticks": "outside",
           "title": {
            "standoff": 15
           },
           "zeroline": false,
           "zerolinecolor": "rgb(36,36,36)"
          },
          "yaxis": {
           "automargin": true,
           "gridcolor": "rgb(232,232,232)",
           "linecolor": "rgb(36,36,36)",
           "showgrid": false,
           "showline": true,
           "ticks": "outside",
           "title": {
            "standoff": 15
           },
           "zeroline": false,
           "zerolinecolor": "rgb(36,36,36)"
          }
         }
        },
        "xaxis": {
         "anchor": "y",
         "domain": [
          0,
          0.24
         ],
         "showticklabels": false
        },
        "xaxis2": {
         "anchor": "y2",
         "domain": [
          0.37,
          0.61
         ],
         "showticklabels": false
        },
        "xaxis3": {
         "anchor": "y3",
         "domain": [
          0.74,
          0.98
         ],
         "showticklabels": false
        },
        "xaxis4": {
         "anchor": "y4",
         "domain": [
          0,
          0.24
         ],
         "showticklabels": false
        },
        "xaxis5": {
         "anchor": "y5",
         "domain": [
          0.37,
          0.61
         ],
         "showticklabels": false
        },
        "xaxis6": {
         "anchor": "y6",
         "domain": [
          0.74,
          0.98
         ],
         "showticklabels": false
        },
        "xaxis7": {
         "anchor": "y7",
         "domain": [
          0,
          0.24
         ],
         "showticklabels": false
        },
        "xaxis8": {
         "anchor": "y8",
         "domain": [
          0.37,
          0.61
         ],
         "showticklabels": false
        },
        "xaxis9": {
         "anchor": "y9",
         "domain": [
          0.74,
          0.98
         ],
         "showticklabels": false
        },
        "yaxis": {
         "anchor": "x",
         "domain": [
          0.7333333333333333,
          1
         ],
         "range": [
          -0.7,
          1.1
         ]
        },
        "yaxis2": {
         "anchor": "x2",
         "domain": [
          0.7333333333333333,
          1
         ],
         "range": [
          -0.7,
          1.1
         ]
        },
        "yaxis3": {
         "anchor": "x3",
         "domain": [
          0.7333333333333333,
          1
         ],
         "range": [
          -0.7,
          1.1
         ]
        },
        "yaxis4": {
         "anchor": "x4",
         "domain": [
          0.36666666666666664,
          0.6333333333333333
         ],
         "range": [
          -0.7,
          1.1
         ]
        },
        "yaxis5": {
         "anchor": "x5",
         "domain": [
          0.36666666666666664,
          0.6333333333333333
         ],
         "range": [
          -0.7,
          1.1
         ]
        },
        "yaxis6": {
         "anchor": "x6",
         "domain": [
          0.36666666666666664,
          0.6333333333333333
         ],
         "range": [
          -0.7,
          1.1
         ]
        },
        "yaxis7": {
         "anchor": "x7",
         "domain": [
          0,
          0.26666666666666666
         ],
         "range": [
          -0.7,
          1.1
         ]
        },
        "yaxis8": {
         "anchor": "x8",
         "domain": [
          0,
          0.26666666666666666
         ],
         "range": [
          -0.7,
          1.1
         ]
        },
        "yaxis9": {
         "anchor": "x9",
         "domain": [
          0,
          0.26666666666666666
         ],
         "range": [
          -0.7,
          1.1
         ]
        }
       }
      }
     },
     "metadata": {
      "transient": {}
     },
     "output_type": "display_data"
    }
   ],
   "source": [
    "# outcomes = [\n",
    "#   \"ADHD|PredictedADHD_percent\",\"ADHD|PredictedBIPOLAR_percent\",\"ADHD|PredictedSCHZ_percent\",\n",
    "#   \"BIPOLAR|PredictedADHD_percent\",\"BIPOLAR|PredictedBIPOLAR_percent\",\"BIPOLAR|PredictedSCHZ_percent\",\n",
    "#   \"SCHZ|PredictedADHD_percent\",\"SCHZ|PredictedBIPOLAR_percent\",\"SCHZ|PredictedSCHZ_percent\"\n",
    "# ]\n",
    "diag_list = ['SCZ','BD','ADHD']\n",
    "network_list = [\n",
    "  'Limbic',\n",
    "  'Salience / Ventral Attention',\n",
    "  'Dorsal Attention',\n",
    "  'Visual',\n",
    "  'Control',\n",
    "  'Somatomotor',\n",
    "  'Default'\n",
    "]\n",
    "arr_plot = make_subplots(\n",
    "  rows = 3,\n",
    "  cols = 3,\n",
    "  row_titles=diag_list,\n",
    "  column_titles=diag_list,\n",
    "  x_title='Predicted',\n",
    "  y_title='True',\n",
    "  horizontal_spacing=.13\n",
    ")\n",
    "ind = 0\n",
    "\n",
    "for i in diag_list:\n",
    "  for j in diag_list:\n",
    "    outcome = f'{i}|Predicted{j}_percent'\n",
    "    sub_df = fi_df[(fi_df['True']==i) & (fi_df['Pred']==j)]\n",
    "    print(outcome)\n",
    "    sub_df['n_perm'] = sub_df['n_perm'].astype(str)\n",
    "    for net in network_list:\n",
    "      net_df = sub_df[sub_df['Network Subset']==net]\n",
    "      if ind==0:\n",
    "        arr_plot.add_trace(\n",
    "          go.Bar(\n",
    "            # sub_df,\n",
    "            x=net_df[\"Network Subset\"],\n",
    "            y=net_df[\"Cohens_d\"],\n",
    "            marker_color=net_df[\"color\"],\n",
    "            name=f'{net} ({target_dict[net][\"Number Permuted\"]})',\n",
    "            text=net_df[\"p_past_threshold\"],\n",
    "            textposition=\"outside\",\n",
    "            showlegend=True\n",
    "          ),\n",
    "          row=diag_list.index(i)+1,\n",
    "          col=diag_list.index(j)+1\n",
    "        )\n",
    "      else:\n",
    "        arr_plot.add_trace(\n",
    "          go.Bar(\n",
    "            # sub_df,\n",
    "            x=net_df[\"Network Subset\"],\n",
    "            y=net_df[\"Cohens_d\"],\n",
    "            marker_color=net_df[\"color\"],\n",
    "            name=f'{net} ({target_dict[net][\"Number Permuted\"]})',\n",
    "            text=net_df[\"p_past_threshold\"],\n",
    "            textposition=\"outside\",\n",
    "            showlegend=False\n",
    "          ),\n",
    "          row=diag_list.index(i)+1,\n",
    "          col=diag_list.index(j)+1\n",
    "        )\n",
    "    ind+=1\n",
    "\n",
    "      \n",
    "\n",
    "arr_plot.update_layout(\n",
    "  # height=800, \n",
    "  # width=1000, \n",
    "  # title_text=f'Network Connection Feature Importance',\n",
    "  showlegend=True,\n",
    "  # legend=dict(\n",
    "  #   orientation='v',\n",
    "  #   yanchor=\"bottom\",\n",
    "  #   y=.5,\n",
    "  #   xanchor=\"center\",\n",
    "  #   x=1.2\n",
    "  # ),\n",
    "  font=dict(\n",
    "    # family=\"Times New Roman\",\n",
    "    size=12,\n",
    "    color=\"White\"\n",
    "    ),\n",
    "  template='simple_white',\n",
    "  paper_bgcolor='White',\n",
    "  plot_bgcolor='White'\n",
    ")\n",
    "\n",
    "arr_plot.update_yaxes(range = [-.7,1.1])\n",
    "arr_plot.update_xaxes(showticklabels=False)\n",
    "arr_plot.for_each_annotation(\n",
    "  lambda a:  a.update(x = 0,textangle=-90, xanchor='right', xshift=-40) if a.x ==.98 else\n",
    "  a.update(xshift = -60) if a.x ==0 else\n",
    "  a.update(yanchor = 'bottom', y=1,yshift = 25) if a.text == \"Predicted\" else()\n",
    "  # a.update(x = -0.07) if a.text in row_titles else()\n",
    ")\n",
    "arr_plot.update_layout(margin=dict(t = 60, l = 120))\n",
    "arr_plot.write_html('FeatureImportance_Results_03.html')\n",
    "arr_plot.update_layout(\n",
    "    font=dict(\n",
    "      # family=\"Times New Roman\",\n",
    "      # size=10,\n",
    "      color=\"Black\"\n",
    "      ),\n",
    "  )\n",
    "arr_plot.write_image('FeatureImportance_Results_03.png')\n",
    "arr_plot.show()"
   ]
  }
 ],
 "metadata": {
  "kernelspec": {
   "display_name": "Python 3.9.2 64-bit",
   "metadata": {
    "interpreter": {
     "hash": "8a9165a38afef2ca63a793efc4b24bbf7f99f4e695b0f158539651a5958eadc2"
    }
   },
   "name": "python3"
  },
  "language_info": {
   "codemirror_mode": {
    "name": "ipython",
    "version": 3
   },
   "file_extension": ".py",
   "mimetype": "text/x-python",
   "name": "python",
   "nbconvert_exporter": "python",
   "pygments_lexer": "ipython3",
   "version": "3.9.2"
  },
  "orig_nbformat": 2
 },
 "nbformat": 4,
 "nbformat_minor": 2
}